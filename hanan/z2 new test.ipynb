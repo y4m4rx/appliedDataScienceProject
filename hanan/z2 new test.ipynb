{
 "cells": [
  {
   "cell_type": "markdown",
   "metadata": {},
   "source": [
    " # <center>ADS Project </center>"
   ]
  },
  {
   "cell_type": "markdown",
   "metadata": {},
   "source": [
    "## Problem Description\n",
    "\n",
    "Predicting the price of a stock is a commun field for ml. Our problem setting is to predict the Ethereum Price for the next day, week and month based on its network data is an interesting problem. For that we want to use different Forcasting Methods an want to evaluate them. Also we want to know which of the features are the most relevant ones.\n",
    "\n",
    "**Problem Statement**:\n",
    "Predicting the price of a stock is a commun field for ml. \n",
    "Our problem setting is to predict the Ethereum Price for the next day, week and month based on its network data is an interesting problem. \n",
    "For that we want to use different Forcasting Methods an want to evaluate them. Also we want to know which of the features are the most relevant ones. \n",
    "\n",
    "**Target Variable**: Ethereum Price\n",
    "\n",
    "**Models**:\n",
    "- Autoregressive Integrated Moving Average (ARIMA)\n",
    "- LSTM\n",
    "- Holt Winter’s Exponential Smoothing (HWES) \n",
    "- FB Prophet"
   ]
  },
  {
   "cell_type": "code",
   "execution_count": 1,
   "metadata": {},
   "outputs": [],
   "source": [
    "import pandas as pd\n",
    "import numpy as np\n",
    "import matplotlib.pyplot as plt\n",
    "from matplotlib import pyplot\n",
    "import seaborn as sns\n",
    "%matplotlib inline\n",
    "\n",
    "\n",
    "import warnings\n",
    "warnings.filterwarnings(\"ignore\")"
   ]
  },
  {
   "cell_type": "code",
   "execution_count": 2,
   "metadata": {},
   "outputs": [],
   "source": [
    "df_ads = pd.read_csv('cleaned_data.csv',index_col='Date')"
   ]
  },
  {
   "cell_type": "code",
   "execution_count": 3,
   "metadata": {
    "scrolled": true
   },
   "outputs": [
    {
     "data": {
      "text/html": [
       "<div>\n",
       "<style scoped>\n",
       "    .dataframe tbody tr th:only-of-type {\n",
       "        vertical-align: middle;\n",
       "    }\n",
       "\n",
       "    .dataframe tbody tr th {\n",
       "        vertical-align: top;\n",
       "    }\n",
       "\n",
       "    .dataframe thead th {\n",
       "        text-align: right;\n",
       "    }\n",
       "</style>\n",
       "<table border=\"1\" class=\"dataframe\">\n",
       "  <thead>\n",
       "    <tr style=\"text-align: right;\">\n",
       "      <th></th>\n",
       "      <th>Supply</th>\n",
       "      <th>AddressCount</th>\n",
       "      <th>Uncles</th>\n",
       "      <th>BtcPrice</th>\n",
       "      <th>Price</th>\n",
       "    </tr>\n",
       "    <tr>\n",
       "      <th>Date</th>\n",
       "      <th></th>\n",
       "      <th></th>\n",
       "      <th></th>\n",
       "      <th></th>\n",
       "      <th></th>\n",
       "    </tr>\n",
       "  </thead>\n",
       "  <tbody>\n",
       "    <tr>\n",
       "      <th>2015-07-30</th>\n",
       "      <td>0.000000</td>\n",
       "      <td>0.000000</td>\n",
       "      <td>0.595431</td>\n",
       "      <td>0.003951</td>\n",
       "      <td>0.0</td>\n",
       "    </tr>\n",
       "    <tr>\n",
       "      <th>2015-07-31</th>\n",
       "      <td>0.001017</td>\n",
       "      <td>0.000002</td>\n",
       "      <td>0.195431</td>\n",
       "      <td>0.003779</td>\n",
       "      <td>0.0</td>\n",
       "    </tr>\n",
       "    <tr>\n",
       "      <th>2015-08-01</th>\n",
       "      <td>0.001796</td>\n",
       "      <td>0.000004</td>\n",
       "      <td>0.105584</td>\n",
       "      <td>0.003611</td>\n",
       "      <td>0.0</td>\n",
       "    </tr>\n",
       "    <tr>\n",
       "      <th>2015-08-02</th>\n",
       "      <td>0.002589</td>\n",
       "      <td>0.000005</td>\n",
       "      <td>0.136041</td>\n",
       "      <td>0.003658</td>\n",
       "      <td>0.0</td>\n",
       "    </tr>\n",
       "    <tr>\n",
       "      <th>2015-08-03</th>\n",
       "      <td>0.003375</td>\n",
       "      <td>0.000006</td>\n",
       "      <td>0.160914</td>\n",
       "      <td>0.003669</td>\n",
       "      <td>0.0</td>\n",
       "    </tr>\n",
       "  </tbody>\n",
       "</table>\n",
       "</div>"
      ],
      "text/plain": [
       "              Supply  AddressCount    Uncles  BtcPrice  Price\n",
       "Date                                                         \n",
       "2015-07-30  0.000000      0.000000  0.595431  0.003951    0.0\n",
       "2015-07-31  0.001017      0.000002  0.195431  0.003779    0.0\n",
       "2015-08-01  0.001796      0.000004  0.105584  0.003611    0.0\n",
       "2015-08-02  0.002589      0.000005  0.136041  0.003658    0.0\n",
       "2015-08-03  0.003375      0.000006  0.160914  0.003669    0.0"
      ]
     },
     "execution_count": 3,
     "metadata": {},
     "output_type": "execute_result"
    }
   ],
   "source": [
    "df_ads.head()"
   ]
  },
  {
   "cell_type": "markdown",
   "metadata": {},
   "source": [
    "======================================================================================"
   ]
  },
  {
   "cell_type": "markdown",
   "metadata": {},
   "source": [
    "# ARIMA"
   ]
  },
  {
   "cell_type": "code",
   "execution_count": 4,
   "metadata": {},
   "outputs": [
    {
     "data": {
      "text/html": [
       "<div>\n",
       "<style scoped>\n",
       "    .dataframe tbody tr th:only-of-type {\n",
       "        vertical-align: middle;\n",
       "    }\n",
       "\n",
       "    .dataframe tbody tr th {\n",
       "        vertical-align: top;\n",
       "    }\n",
       "\n",
       "    .dataframe thead th {\n",
       "        text-align: right;\n",
       "    }\n",
       "</style>\n",
       "<table border=\"1\" class=\"dataframe\">\n",
       "  <thead>\n",
       "    <tr style=\"text-align: right;\">\n",
       "      <th></th>\n",
       "      <th>Supply</th>\n",
       "      <th>AddressCount</th>\n",
       "      <th>Uncles</th>\n",
       "      <th>BtcPrice</th>\n",
       "      <th>Price</th>\n",
       "    </tr>\n",
       "    <tr>\n",
       "      <th>Date</th>\n",
       "      <th></th>\n",
       "      <th></th>\n",
       "      <th></th>\n",
       "      <th></th>\n",
       "      <th></th>\n",
       "    </tr>\n",
       "  </thead>\n",
       "  <tbody>\n",
       "    <tr>\n",
       "      <th>2019-09-02</th>\n",
       "      <td>0.998479</td>\n",
       "      <td>0.996546</td>\n",
       "      <td>0.162944</td>\n",
       "      <td>0.529808</td>\n",
       "      <td>178.76</td>\n",
       "    </tr>\n",
       "    <tr>\n",
       "      <th>2019-09-03</th>\n",
       "      <td>0.998857</td>\n",
       "      <td>0.997430</td>\n",
       "      <td>0.140609</td>\n",
       "      <td>0.543579</td>\n",
       "      <td>179.13</td>\n",
       "    </tr>\n",
       "    <tr>\n",
       "      <th>2019-09-04</th>\n",
       "      <td>0.999236</td>\n",
       "      <td>0.998217</td>\n",
       "      <td>0.139594</td>\n",
       "      <td>0.541274</td>\n",
       "      <td>175.01</td>\n",
       "    </tr>\n",
       "    <tr>\n",
       "      <th>2019-09-05</th>\n",
       "      <td>0.999619</td>\n",
       "      <td>0.999130</td>\n",
       "      <td>0.155838</td>\n",
       "      <td>0.541207</td>\n",
       "      <td>174.38</td>\n",
       "    </tr>\n",
       "    <tr>\n",
       "      <th>2019-09-06</th>\n",
       "      <td>1.000000</td>\n",
       "      <td>1.000000</td>\n",
       "      <td>0.175635</td>\n",
       "      <td>0.527744</td>\n",
       "      <td>177.13</td>\n",
       "    </tr>\n",
       "  </tbody>\n",
       "</table>\n",
       "</div>"
      ],
      "text/plain": [
       "              Supply  AddressCount    Uncles  BtcPrice   Price\n",
       "Date                                                          \n",
       "2019-09-02  0.998479      0.996546  0.162944  0.529808  178.76\n",
       "2019-09-03  0.998857      0.997430  0.140609  0.543579  179.13\n",
       "2019-09-04  0.999236      0.998217  0.139594  0.541274  175.01\n",
       "2019-09-05  0.999619      0.999130  0.155838  0.541207  174.38\n",
       "2019-09-06  1.000000      1.000000  0.175635  0.527744  177.13"
      ]
     },
     "execution_count": 4,
     "metadata": {},
     "output_type": "execute_result"
    }
   ],
   "source": [
    "import statsmodels.api as sm\n",
    "from scipy import stats\n",
    "from statsmodels.tsa.seasonal import seasonal_decompose\n",
    "\n",
    "df_ads = pd.read_csv('cleaned_data.csv',index_col='Date')\n",
    "# or we will have to copy it at the beginning of each model coz df_ads was changed by previous model\n",
    "\n",
    "df_ads.index = pd.to_datetime(df_ads.index)\n",
    "df_ads.index = pd.DatetimeIndex(df_ads.index.values, freq='D')\n",
    "df_arima = df_ads\n",
    "df_arima.index.name = 'Date'\n",
    "\n",
    "df_arima.tail()"
   ]
  },
  {
   "cell_type": "code",
   "execution_count": 5,
   "metadata": {},
   "outputs": [],
   "source": [
    "from scipy import stats\n",
    "import statsmodels.api as sm\n",
    "from itertools import product\n",
    "from datetime import datetime"
   ]
  },
  {
   "cell_type": "code",
   "execution_count": 6,
   "metadata": {},
   "outputs": [],
   "source": [
    "import itertools\n",
    "\n",
    "# Define the p, d and q parameters to take any value between 0 and 2\n",
    "p = d = q = range(0, 2)\n",
    "\n",
    "# Generate all different combinations of p, q and q triplets\n",
    "pdq = list(itertools.product(p, d, q))\n",
    "\n",
    "# Generate all different combinations of seasonal p, q and q triplets\n",
    "seasonal_pdq = [(x[0], x[1], x[2], 12) for x in list(itertools.product(p, d, q))]"
   ]
  },
  {
   "cell_type": "code",
   "execution_count": 7,
   "metadata": {},
   "outputs": [],
   "source": [
    "endog = df_ads['Price']\n",
    "df_exog = df_ads.drop(axis=1, columns='Price')\n",
    "\n",
    "train_start,train_end = '2015-07-30','2018-06-01'\n",
    "test_start,test_end = '2018-06-02','2019-09-06'\n",
    "\n",
    "endog_train = df_ads['Price'][train_start:train_end].dropna()\n",
    "endog_test = df_ads['Price'][test_start:test_end].dropna()\n",
    "\n",
    "exog_train = df_ads.drop(['Price'],axis = 1)[train_start:train_end].dropna()\n",
    "exog_test = df_ads.drop(['Price'],axis = 1)[test_start:test_end].dropna()"
   ]
  },
  {
   "cell_type": "code",
   "execution_count": 8,
   "metadata": {},
   "outputs": [
    {
     "name": "stdout",
     "output_type": "stream",
     "text": [
      "ARIMA(0, 0, 0)x(0, 0, 0, 12) - AIC:12387.489435909938\n",
      "ARIMA(0, 0, 0)x(0, 0, 1, 12) - AIC:11727.745002653024\n",
      "ARIMA(0, 0, 0)x(0, 1, 0, 12) - AIC:11626.446170949392\n",
      "ARIMA(0, 0, 0)x(0, 1, 1, 12) - AIC:11494.187461635716\n",
      "ARIMA(0, 0, 0)x(1, 0, 0, 12) - AIC:11543.598769859596\n",
      "ARIMA(0, 0, 0)x(1, 0, 1, 12) - AIC:11484.097861346747\n",
      "ARIMA(0, 0, 0)x(1, 1, 0, 12) - AIC:11504.525151911253\n",
      "ARIMA(0, 0, 0)x(1, 1, 1, 12) - AIC:11496.07977174257\n",
      "ARIMA(0, 0, 1)x(0, 0, 0, 12) - AIC:11123.205850036193\n",
      "ARIMA(0, 0, 1)x(0, 0, 1, 12) - AIC:10589.555115836156\n",
      "ARIMA(0, 0, 1)x(0, 1, 0, 12) - AIC:10633.504338539591\n",
      "ARIMA(0, 0, 1)x(0, 1, 1, 12) - AIC:10528.766018510414\n",
      "ARIMA(0, 0, 1)x(1, 0, 0, 12) - AIC:10507.303501489914\n",
      "ARIMA(0, 0, 1)x(1, 0, 1, 12) - AIC:10464.638347172535\n",
      "ARIMA(0, 0, 1)x(1, 1, 0, 12) - AIC:10544.482094180888\n",
      "ARIMA(0, 0, 1)x(1, 1, 1, 12) - AIC:10532.196564603126\n",
      "ARIMA(0, 1, 0)x(0, 0, 0, 12) - AIC:9072.703385781497\n",
      "ARIMA(0, 1, 0)x(0, 0, 1, 12) - AIC:8973.355449774466\n",
      "ARIMA(0, 1, 0)x(0, 1, 0, 12) - AIC:9752.840098401197\n",
      "ARIMA(0, 1, 0)x(0, 1, 1, 12) - AIC:8959.996116924764\n",
      "ARIMA(0, 1, 0)x(1, 0, 0, 12) - AIC:8982.554078343475\n",
      "ARIMA(0, 1, 0)x(1, 0, 1, 12) - AIC:8971.45556686861\n",
      "ARIMA(0, 1, 0)x(1, 1, 0, 12) - AIC:9378.393366333947\n",
      "ARIMA(0, 1, 0)x(1, 1, 1, 12) - AIC:8963.149483608739\n",
      "ARIMA(0, 1, 1)x(0, 0, 0, 12) - AIC:9017.06590360331\n",
      "ARIMA(0, 1, 1)x(0, 0, 1, 12) - AIC:8916.406237511264\n",
      "ARIMA(0, 1, 1)x(0, 1, 0, 12) - AIC:9713.472453551232\n",
      "ARIMA(0, 1, 1)x(0, 1, 1, 12) - AIC:8902.287993901744\n",
      "ARIMA(0, 1, 1)x(1, 0, 0, 12) - AIC:8933.984272768956\n",
      "ARIMA(0, 1, 1)x(1, 0, 1, 12) - AIC:8912.67822104154\n",
      "ARIMA(0, 1, 1)x(1, 1, 0, 12) - AIC:9337.415443760567\n",
      "ARIMA(0, 1, 1)x(1, 1, 1, 12) - AIC:8899.461580895626\n",
      "ARIMA(1, 0, 0)x(0, 0, 0, 12) - AIC:9080.576069365718\n",
      "ARIMA(1, 0, 0)x(0, 0, 1, 12) - AIC:8982.011549260473\n",
      "ARIMA(1, 0, 0)x(0, 1, 0, 12) - AIC:9734.96907950224\n",
      "ARIMA(1, 0, 0)x(0, 1, 1, 12) - AIC:8943.023449876597\n",
      "ARIMA(1, 0, 0)x(1, 0, 0, 12) - AIC:8983.250450664938\n",
      "ARIMA(1, 0, 0)x(1, 0, 1, 12) - AIC:8977.691855830326\n",
      "ARIMA(1, 0, 0)x(1, 1, 0, 12) - AIC:9360.477832681607\n",
      "ARIMA(1, 0, 0)x(1, 1, 1, 12) - AIC:8945.702866498248\n",
      "ARIMA(1, 0, 1)x(0, 0, 0, 12) - AIC:9013.622803991591\n",
      "ARIMA(1, 0, 1)x(0, 0, 1, 12) - AIC:8911.495916479707\n",
      "ARIMA(1, 0, 1)x(0, 1, 0, 12) - AIC:9668.024832167006\n",
      "ARIMA(1, 0, 1)x(0, 1, 1, 12) - AIC:8902.523191869408\n",
      "ARIMA(1, 0, 1)x(1, 0, 0, 12) - AIC:8921.797883084539\n",
      "ARIMA(1, 0, 1)x(1, 0, 1, 12) - AIC:8910.947653364085\n",
      "ARIMA(1, 0, 1)x(1, 1, 0, 12) - AIC:9309.695223369697\n",
      "ARIMA(1, 0, 1)x(1, 1, 1, 12) - AIC:9011.536360900573\n",
      "ARIMA(1, 1, 0)x(0, 0, 0, 12) - AIC:9038.898444856775\n",
      "ARIMA(1, 1, 0)x(0, 0, 1, 12) - AIC:8937.792880868468\n",
      "ARIMA(1, 1, 0)x(0, 1, 0, 12) - AIC:9729.954995223976\n",
      "ARIMA(1, 1, 0)x(0, 1, 1, 12) - AIC:8920.852439016879\n",
      "ARIMA(1, 1, 0)x(1, 0, 0, 12) - AIC:8940.468944406119\n",
      "ARIMA(1, 1, 0)x(1, 0, 1, 12) - AIC:8937.283475487653\n",
      "ARIMA(1, 1, 0)x(1, 1, 0, 12) - AIC:9339.361924834539\n",
      "ARIMA(1, 1, 0)x(1, 1, 1, 12) - AIC:8921.63291512409\n",
      "ARIMA(1, 1, 1)x(0, 0, 0, 12) - AIC:9013.847253020507\n",
      "ARIMA(1, 1, 1)x(0, 0, 1, 12) - AIC:8907.673911150483\n",
      "ARIMA(1, 1, 1)x(0, 1, 0, 12) - AIC:9712.922062249221\n",
      "ARIMA(1, 1, 1)x(0, 1, 1, 12) - AIC:8898.013459880342\n",
      "ARIMA(1, 1, 1)x(1, 0, 0, 12) - AIC:8918.517960305395\n",
      "ARIMA(1, 1, 1)x(1, 0, 1, 12) - AIC:8906.150216083892\n",
      "ARIMA(1, 1, 1)x(1, 1, 0, 12) - AIC:9328.566592078198\n",
      "ARIMA(1, 1, 1)x(1, 1, 1, 12) - AIC:8893.66718306466\n"
     ]
    }
   ],
   "source": [
    "warnings.filterwarnings(\"ignore\") # specify to ignore warning messages\n",
    "AIC_list = pd.DataFrame({}, columns=['param','param_seasonal','AIC'])\n",
    "for param in pdq:\n",
    "    for param_seasonal in seasonal_pdq:\n",
    "        try:\n",
    "            mod = sm.tsa.statespace.SARIMAX(endog_train, #df_arima\n",
    "                                            order=param,\n",
    "                                            exog = exog_train,\n",
    "                                            seasonal_order=param_seasonal,\n",
    "                                            freq='D',\n",
    "                                            enforce_stationarity=False,\n",
    "                                            enforce_invertibility=False)\n",
    "           \n",
    "            results = mod.fit()\n",
    "\n",
    "            print('ARIMA{}x{} - AIC:{}'.format(param, param_seasonal, results.aic))\n",
    "            temp = pd.DataFrame([[ param ,  param_seasonal , results.aic ]], columns=['param','param_seasonal','AIC'])\n",
    "            AIC_list = AIC_list.append( temp, ignore_index=True)\n",
    "            del temp\n",
    "\n",
    "        except:\n",
    "            continue\n",
    "\n",
    "\n",
    "m = np.amin(AIC_list['AIC'].values) # Find minimum value in AIC\n",
    "l = AIC_list['AIC'].tolist().index(m) # Find index number for lowest AIC\n",
    "Min_AIC_list = AIC_list.iloc[l,:]"
   ]
  },
  {
   "cell_type": "code",
   "execution_count": 9,
   "metadata": {},
   "outputs": [
    {
     "data": {
      "text/plain": [
       "param                 (1, 1, 1)\n",
       "param_seasonal    (1, 1, 1, 12)\n",
       "AIC                     8893.67\n",
       "Name: 63, dtype: object"
      ]
     },
     "execution_count": 9,
     "metadata": {},
     "output_type": "execute_result"
    }
   ],
   "source": [
    "Min_AIC_list\n",
    "#param                 (1, 1, 1)\n",
    "#param_seasonal    (0, 1, 1, 12)\n",
    "#AIC                       8893.67\n",
    "#Name: 59, dtype: object"
   ]
  },
  {
   "cell_type": "code",
   "execution_count": 10,
   "metadata": {},
   "outputs": [
    {
     "name": "stdout",
     "output_type": "stream",
     "text": [
      "### Min_AIC_list ### \n",
      "param                 (1, 1, 1)\n",
      "param_seasonal    (1, 1, 1, 12)\n",
      "AIC                     8893.67\n",
      "Name: 63, dtype: object\n",
      "================================================================================\n",
      "                   coef    std err          z      P>|z|      [0.025      0.975]\n",
      "--------------------------------------------------------------------------------\n",
      "Supply       -1.104e+04   9249.985     -1.193      0.233   -2.92e+04    7090.401\n",
      "AddressCount  5870.0258    573.872     10.229      0.000    4745.258    6994.794\n",
      "Uncles          18.2221     11.440      1.593      0.111      -4.201      40.645\n",
      "BtcPrice       810.0359     11.217     72.216      0.000     788.051     832.021\n",
      "ar.L1           -0.2999      0.045     -6.682      0.000      -0.388      -0.212\n",
      "ma.L1            0.5370      0.041     13.004      0.000       0.456       0.618\n",
      "ar.S.L12        -0.1054      0.016     -6.495      0.000      -0.137      -0.074\n",
      "ma.S.L12        -0.9411      0.010    -96.055      0.000      -0.960      -0.922\n",
      "sigma2         371.8185      5.791     64.202      0.000     360.468     383.169\n",
      "================================================================================\n"
     ]
    },
    {
     "data": {
      "image/png": "[encoded data removed]",
      "text/plain": [
       "<Figure size 1080x864 with 4 Axes>"
      ]
     },
     "metadata": {
      "needs_background": "light"
     },
     "output_type": "display_data"
    }
   ],
   "source": [
    "mod = sm.tsa.statespace.SARIMAX(endog_train,\n",
    "                        exog=exog_train,\n",
    "                        order=Min_AIC_list['param'],\n",
    "                        seasonal_order=Min_AIC_list['param_seasonal'],\n",
    "                        enforce_stationarity=True,\n",
    "                        enforce_invertibility=False,\n",
    "                        freq='D')\n",
    "\n",
    "results = mod.fit()\n",
    "\n",
    "print(\"### Min_AIC_list ### \\n{}\".format(Min_AIC_list))\n",
    "\n",
    "print(results.summary().tables[1])\n",
    "\n",
    "results.plot_diagnostics(figsize=(15, 12))\n",
    "plt.show()"
   ]
  },
  {
   "cell_type": "code",
   "execution_count": 43,
   "metadata": {},
   "outputs": [],
   "source": [
    "pred = results.get_prediction(start=pd.to_datetime('2018-06-01'),end=pd.to_datetime('2019-09-06'),exog = exog_test, dynamic=False)\n",
    "pred_ci = pred.conf_int()"
   ]
  },
  {
   "cell_type": "code",
   "execution_count": 44,
   "metadata": {},
   "outputs": [
    {
     "data": {
      "image/png": "[encoded data removed]",
      "text/plain": [
       "<Figure size 432x288 with 1 Axes>"
      ]
     },
     "metadata": {
      "needs_background": "light"
     },
     "output_type": "display_data"
    }
   ],
   "source": [
    "ax = df_ads['2017':].plot(label='observed')\n",
    "pred.predicted_mean.plot(ax=ax, label='One-step ahead Forecast', alpha=.7)\n",
    "\n",
    "ax.fill_between(pred_ci.index,\n",
    "                pred_ci.iloc[:, 0],\n",
    "                pred_ci.iloc[:, 1], color='k', alpha=.2)\n",
    "\n",
    "ax.set_xlabel('Date')\n",
    "ax.set_ylabel('Price')\n",
    "plt.legend()\n",
    "\n",
    "plt.show()"
   ]
  },
  {
   "cell_type": "code",
   "execution_count": 45,
   "metadata": {},
   "outputs": [
    {
     "name": "stdout",
     "output_type": "stream",
     "text": [
      "The Mean Squared Error of our forecasts is AddressCount          NaN\n",
      "BtcPrice              NaN\n",
      "Price           191723.81\n",
      "Supply                NaN\n",
      "Uncles                NaN\n",
      "dtype: float64\n"
     ]
    }
   ],
   "source": [
    "df_arima_forecasted = pred.predicted_mean.to_frame()\n",
    "df_arima_forecasted.columns=['Price']\n",
    "df_arima_forecasted.index.names = ['Date']\n",
    "\n",
    "df_arima_truth = df_ads['2018-06-01':]\n",
    "\n",
    "\n",
    "# Compute the mean square error\n",
    "mse = ((df_arima_forecasted - df_arima_truth) ** 2).mean()\n",
    "print('The Mean Squared Error of our forecasts is {}'.format(round(mse, 2)))"
   ]
  },
  {
   "cell_type": "code",
   "execution_count": 46,
   "metadata": {},
   "outputs": [],
   "source": [
    "exog_test.to_csv('exog_t.csv',index=True)"
   ]
  },
  {
   "cell_type": "code",
   "execution_count": 47,
   "metadata": {},
   "outputs": [
    {
     "data": {
      "text/html": [
       "<div>\n",
       "<style scoped>\n",
       "    .dataframe tbody tr th:only-of-type {\n",
       "        vertical-align: middle;\n",
       "    }\n",
       "\n",
       "    .dataframe tbody tr th {\n",
       "        vertical-align: top;\n",
       "    }\n",
       "\n",
       "    .dataframe thead th {\n",
       "        text-align: right;\n",
       "    }\n",
       "</style>\n",
       "<table border=\"1\" class=\"dataframe\">\n",
       "  <thead>\n",
       "    <tr style=\"text-align: right;\">\n",
       "      <th></th>\n",
       "      <th>Supply</th>\n",
       "      <th>AddressCount</th>\n",
       "      <th>Uncles</th>\n",
       "      <th>BtcPrice</th>\n",
       "    </tr>\n",
       "    <tr>\n",
       "      <th>Date</th>\n",
       "      <th></th>\n",
       "      <th></th>\n",
       "      <th></th>\n",
       "      <th></th>\n",
       "    </tr>\n",
       "  </thead>\n",
       "  <tbody>\n",
       "    <tr>\n",
       "      <th>2019-09-07</th>\n",
       "      <td>0.979276</td>\n",
       "      <td>0.968515</td>\n",
       "      <td>0.147208</td>\n",
       "      <td>0.588975</td>\n",
       "    </tr>\n",
       "    <tr>\n",
       "      <th>2019-09-08</th>\n",
       "      <td>0.988547</td>\n",
       "      <td>0.969728</td>\n",
       "      <td>0.153807</td>\n",
       "      <td>0.616831</td>\n",
       "    </tr>\n",
       "    <tr>\n",
       "      <th>2019-09-09</th>\n",
       "      <td>0.988927</td>\n",
       "      <td>0.970755</td>\n",
       "      <td>0.162944</td>\n",
       "      <td>0.626118</td>\n",
       "    </tr>\n",
       "    <tr>\n",
       "      <th>2019-09-10</th>\n",
       "      <td>0.989307</td>\n",
       "      <td>0.993130</td>\n",
       "      <td>0.146193</td>\n",
       "      <td>0.620797</td>\n",
       "    </tr>\n",
       "    <tr>\n",
       "      <th>2019-09-11</th>\n",
       "      <td>0.989693</td>\n",
       "      <td>0.973048</td>\n",
       "      <td>0.157868</td>\n",
       "      <td>0.580278</td>\n",
       "    </tr>\n",
       "    <tr>\n",
       "      <th>2019-09-12</th>\n",
       "      <td>0.990073</td>\n",
       "      <td>0.974296</td>\n",
       "      <td>0.142640</td>\n",
       "      <td>0.140609</td>\n",
       "    </tr>\n",
       "    <tr>\n",
       "      <th>2019-09-13</th>\n",
       "      <td>0.990458</td>\n",
       "      <td>0.975696</td>\n",
       "      <td>0.148223</td>\n",
       "      <td>0.584443</td>\n",
       "    </tr>\n",
       "    <tr>\n",
       "      <th>2019-09-14</th>\n",
       "      <td>0.990839</td>\n",
       "      <td>0.977071</td>\n",
       "      <td>0.148731</td>\n",
       "      <td>0.558244</td>\n",
       "    </tr>\n",
       "    <tr>\n",
       "      <th>2019-09-15</th>\n",
       "      <td>0.991223</td>\n",
       "      <td>0.978194</td>\n",
       "      <td>0.162944</td>\n",
       "      <td>0.514161</td>\n",
       "    </tr>\n",
       "    <tr>\n",
       "      <th>2019-09-16</th>\n",
       "      <td>0.991603</td>\n",
       "      <td>0.979276</td>\n",
       "      <td>0.142640</td>\n",
       "      <td>0.527435</td>\n",
       "    </tr>\n",
       "    <tr>\n",
       "      <th>2019-09-17</th>\n",
       "      <td>0.991987</td>\n",
       "      <td>0.980354</td>\n",
       "      <td>0.168020</td>\n",
       "      <td>0.529118</td>\n",
       "    </tr>\n",
       "    <tr>\n",
       "      <th>2019-09-18</th>\n",
       "      <td>0.992370</td>\n",
       "      <td>0.981456</td>\n",
       "      <td>0.140102</td>\n",
       "      <td>0.522977</td>\n",
       "    </tr>\n",
       "    <tr>\n",
       "      <th>2019-09-19</th>\n",
       "      <td>0.992751</td>\n",
       "      <td>0.982528</td>\n",
       "      <td>0.141117</td>\n",
       "      <td>0.527921</td>\n",
       "    </tr>\n",
       "    <tr>\n",
       "      <th>2019-09-20</th>\n",
       "      <td>0.993130</td>\n",
       "      <td>0.983490</td>\n",
       "      <td>0.159898</td>\n",
       "      <td>0.992524</td>\n",
       "    </tr>\n",
       "    <tr>\n",
       "      <th>2019-09-21</th>\n",
       "      <td>0.993513</td>\n",
       "      <td>0.984568</td>\n",
       "      <td>0.163452</td>\n",
       "      <td>0.550912</td>\n",
       "    </tr>\n",
       "    <tr>\n",
       "      <th>2019-09-22</th>\n",
       "      <td>0.993896</td>\n",
       "      <td>0.985751</td>\n",
       "      <td>0.156853</td>\n",
       "      <td>0.518974</td>\n",
       "    </tr>\n",
       "    <tr>\n",
       "      <th>2019-09-23</th>\n",
       "      <td>0.994274</td>\n",
       "      <td>0.986717</td>\n",
       "      <td>0.132995</td>\n",
       "      <td>0.517066</td>\n",
       "    </tr>\n",
       "    <tr>\n",
       "      <th>2019-09-24</th>\n",
       "      <td>0.994660</td>\n",
       "      <td>0.987712</td>\n",
       "      <td>0.173096</td>\n",
       "      <td>0.531893</td>\n",
       "    </tr>\n",
       "    <tr>\n",
       "      <th>2019-09-25</th>\n",
       "      <td>0.995033</td>\n",
       "      <td>0.988761</td>\n",
       "      <td>0.134518</td>\n",
       "      <td>0.518425</td>\n",
       "    </tr>\n",
       "    <tr>\n",
       "      <th>2019-09-26</th>\n",
       "      <td>0.995421</td>\n",
       "      <td>0.989801</td>\n",
       "      <td>0.140609</td>\n",
       "      <td>0.518702</td>\n",
       "    </tr>\n",
       "    <tr>\n",
       "      <th>2019-09-27</th>\n",
       "      <td>0.995800</td>\n",
       "      <td>0.990724</td>\n",
       "      <td>0.163452</td>\n",
       "      <td>0.531010</td>\n",
       "    </tr>\n",
       "    <tr>\n",
       "      <th>2019-09-28</th>\n",
       "      <td>0.996181</td>\n",
       "      <td>0.991595</td>\n",
       "      <td>0.148731</td>\n",
       "      <td>0.521237</td>\n",
       "    </tr>\n",
       "    <tr>\n",
       "      <th>2019-09-29</th>\n",
       "      <td>0.996564</td>\n",
       "      <td>0.992524</td>\n",
       "      <td>0.174619</td>\n",
       "      <td>0.497437</td>\n",
       "    </tr>\n",
       "    <tr>\n",
       "      <th>2019-09-30</th>\n",
       "      <td>0.996950</td>\n",
       "      <td>0.993428</td>\n",
       "      <td>0.164975</td>\n",
       "      <td>0.484977</td>\n",
       "    </tr>\n",
       "    <tr>\n",
       "      <th>2019-10-01</th>\n",
       "      <td>0.997333</td>\n",
       "      <td>0.994237</td>\n",
       "      <td>0.174619</td>\n",
       "      <td>0.489911</td>\n",
       "    </tr>\n",
       "    <tr>\n",
       "      <th>2019-10-02</th>\n",
       "      <td>0.997714</td>\n",
       "      <td>0.995034</td>\n",
       "      <td>0.159391</td>\n",
       "      <td>0.490381</td>\n",
       "    </tr>\n",
       "    <tr>\n",
       "      <th>2019-10-03</th>\n",
       "      <td>0.998096</td>\n",
       "      <td>0.995774</td>\n",
       "      <td>0.164467</td>\n",
       "      <td>0.497431</td>\n",
       "    </tr>\n",
       "    <tr>\n",
       "      <th>2019-10-04</th>\n",
       "      <td>0.998479</td>\n",
       "      <td>0.996546</td>\n",
       "      <td>0.162944</td>\n",
       "      <td>0.529808</td>\n",
       "    </tr>\n",
       "    <tr>\n",
       "      <th>2019-10-05</th>\n",
       "      <td>0.998857</td>\n",
       "      <td>0.997430</td>\n",
       "      <td>0.140609</td>\n",
       "      <td>0.543579</td>\n",
       "    </tr>\n",
       "    <tr>\n",
       "      <th>2019-10-06</th>\n",
       "      <td>0.999236</td>\n",
       "      <td>0.998217</td>\n",
       "      <td>0.139594</td>\n",
       "      <td>0.541274</td>\n",
       "    </tr>\n",
       "    <tr>\n",
       "      <th>2019-10-07</th>\n",
       "      <td>0.999619</td>\n",
       "      <td>0.999130</td>\n",
       "      <td>0.155838</td>\n",
       "      <td>0.541207</td>\n",
       "    </tr>\n",
       "    <tr>\n",
       "      <th>2019-10-08</th>\n",
       "      <td>0.984568</td>\n",
       "      <td>0.992370</td>\n",
       "      <td>0.175635</td>\n",
       "      <td>0.527744</td>\n",
       "    </tr>\n",
       "  </tbody>\n",
       "</table>\n",
       "</div>"
      ],
      "text/plain": [
       "              Supply  AddressCount    Uncles  BtcPrice\n",
       "Date                                                  \n",
       "2019-09-07  0.979276      0.968515  0.147208  0.588975\n",
       "2019-09-08  0.988547      0.969728  0.153807  0.616831\n",
       "2019-09-09  0.988927      0.970755  0.162944  0.626118\n",
       "2019-09-10  0.989307      0.993130  0.146193  0.620797\n",
       "2019-09-11  0.989693      0.973048  0.157868  0.580278\n",
       "2019-09-12  0.990073      0.974296  0.142640  0.140609\n",
       "2019-09-13  0.990458      0.975696  0.148223  0.584443\n",
       "2019-09-14  0.990839      0.977071  0.148731  0.558244\n",
       "2019-09-15  0.991223      0.978194  0.162944  0.514161\n",
       "2019-09-16  0.991603      0.979276  0.142640  0.527435\n",
       "2019-09-17  0.991987      0.980354  0.168020  0.529118\n",
       "2019-09-18  0.992370      0.981456  0.140102  0.522977\n",
       "2019-09-19  0.992751      0.982528  0.141117  0.527921\n",
       "2019-09-20  0.993130      0.983490  0.159898  0.992524\n",
       "2019-09-21  0.993513      0.984568  0.163452  0.550912\n",
       "2019-09-22  0.993896      0.985751  0.156853  0.518974\n",
       "2019-09-23  0.994274      0.986717  0.132995  0.517066\n",
       "2019-09-24  0.994660      0.987712  0.173096  0.531893\n",
       "2019-09-25  0.995033      0.988761  0.134518  0.518425\n",
       "2019-09-26  0.995421      0.989801  0.140609  0.518702\n",
       "2019-09-27  0.995800      0.990724  0.163452  0.531010\n",
       "2019-09-28  0.996181      0.991595  0.148731  0.521237\n",
       "2019-09-29  0.996564      0.992524  0.174619  0.497437\n",
       "2019-09-30  0.996950      0.993428  0.164975  0.484977\n",
       "2019-10-01  0.997333      0.994237  0.174619  0.489911\n",
       "2019-10-02  0.997714      0.995034  0.159391  0.490381\n",
       "2019-10-03  0.998096      0.995774  0.164467  0.497431\n",
       "2019-10-04  0.998479      0.996546  0.162944  0.529808\n",
       "2019-10-05  0.998857      0.997430  0.140609  0.543579\n",
       "2019-10-06  0.999236      0.998217  0.139594  0.541274\n",
       "2019-10-07  0.999619      0.999130  0.155838  0.541207\n",
       "2019-10-08  0.984568      0.992370  0.175635  0.527744"
      ]
     },
     "execution_count": 47,
     "metadata": {},
     "output_type": "execute_result"
    }
   ],
   "source": [
    "exog_others = pd.read_csv('exog_others.csv',index_col='Date')\n",
    "exog_others.index = pd.to_datetime(exog_others.index)\n",
    "exog_others.index = pd.DatetimeIndex(exog_others.index.values,\n",
    "                               freq='D')\n",
    "exog_others.index.name = 'Date'\n",
    "#exog_others.head()\n",
    "exog_others"
   ]
  },
  {
   "cell_type": "code",
   "execution_count": 48,
   "metadata": {},
   "outputs": [],
   "source": [
    "# Get forecast 32 steps ahead in future\n",
    "pred_uc = results.get_forecast(steps=32,exog=exog_others)\n",
    "\n",
    "# Get confidence intervals of forecasts\n",
    "pred_ci = pred_uc.conf_int()"
   ]
  },
  {
   "cell_type": "code",
   "execution_count": 49,
   "metadata": {},
   "outputs": [
    {
     "data": {
      "image/png": "[encoded data removed]",
      "text/plain": [
       "<Figure size 1440x1080 with 1 Axes>"
      ]
     },
     "metadata": {
      "needs_background": "light"
     },
     "output_type": "display_data"
    }
   ],
   "source": [
    "ax = df_ads.plot(label='observed', figsize=(20, 15))\n",
    "pred_uc.predicted_mean.plot(ax=ax, label='Forecast')\n",
    "ax.fill_between(pred_ci.index,\n",
    "                pred_ci.iloc[:, 0],\n",
    "                pred_ci.iloc[:, 1], color='k', alpha=.25)\n",
    "ax.set_xlabel('Date')\n",
    "ax.set_ylabel('Price')\n",
    "\n",
    "plt.legend()\n",
    "plt.show()"
   ]
  },
  {
   "cell_type": "code",
   "execution_count": null,
   "metadata": {},
   "outputs": [],
   "source": []
  },
  {
   "cell_type": "code",
   "execution_count": 50,
   "metadata": {},
   "outputs": [
    {
     "data": {
      "text/plain": [
       "Date\n",
       "2018-06-01    592.676721\n",
       "2018-06-02    578.686638\n",
       "2018-06-03    586.829514\n",
       "2018-06-04    572.810078\n",
       "2018-06-05    574.752254\n",
       "Freq: D, dtype: float64"
      ]
     },
     "execution_count": 50,
     "metadata": {},
     "output_type": "execute_result"
    }
   ],
   "source": [
    "pred.predicted_mean.head()"
   ]
  },
  {
   "cell_type": "code",
   "execution_count": 51,
   "metadata": {},
   "outputs": [
    {
     "data": {
      "text/html": [
       "<div>\n",
       "<style scoped>\n",
       "    .dataframe tbody tr th:only-of-type {\n",
       "        vertical-align: middle;\n",
       "    }\n",
       "\n",
       "    .dataframe tbody tr th {\n",
       "        vertical-align: top;\n",
       "    }\n",
       "\n",
       "    .dataframe thead th {\n",
       "        text-align: right;\n",
       "    }\n",
       "</style>\n",
       "<table border=\"1\" class=\"dataframe\">\n",
       "  <thead>\n",
       "    <tr style=\"text-align: right;\">\n",
       "      <th></th>\n",
       "      <th>Supply</th>\n",
       "      <th>AddressCount</th>\n",
       "      <th>Uncles</th>\n",
       "      <th>BtcPrice</th>\n",
       "      <th>Price</th>\n",
       "    </tr>\n",
       "    <tr>\n",
       "      <th>Date</th>\n",
       "      <th></th>\n",
       "      <th></th>\n",
       "      <th></th>\n",
       "      <th></th>\n",
       "      <th></th>\n",
       "    </tr>\n",
       "  </thead>\n",
       "  <tbody>\n",
       "    <tr>\n",
       "      <th>2018-06-01</th>\n",
       "      <td>0.780103</td>\n",
       "      <td>0.505835</td>\n",
       "      <td>0.715228</td>\n",
       "      <td>0.382532</td>\n",
       "      <td>579.01</td>\n",
       "    </tr>\n",
       "    <tr>\n",
       "      <th>2018-06-02</th>\n",
       "      <td>0.780685</td>\n",
       "      <td>0.506945</td>\n",
       "      <td>0.758376</td>\n",
       "      <td>0.388584</td>\n",
       "      <td>590.53</td>\n",
       "    </tr>\n",
       "    <tr>\n",
       "      <th>2018-06-03</th>\n",
       "      <td>0.781261</td>\n",
       "      <td>0.508237</td>\n",
       "      <td>0.727411</td>\n",
       "      <td>0.392906</td>\n",
       "      <td>619.04</td>\n",
       "    </tr>\n",
       "    <tr>\n",
       "      <th>2018-06-04</th>\n",
       "      <td>0.781845</td>\n",
       "      <td>0.509443</td>\n",
       "      <td>0.769543</td>\n",
       "      <td>0.381147</td>\n",
       "      <td>591.31</td>\n",
       "    </tr>\n",
       "    <tr>\n",
       "      <th>2018-06-05</th>\n",
       "      <td>0.782417</td>\n",
       "      <td>0.510664</td>\n",
       "      <td>0.714213</td>\n",
       "      <td>0.387795</td>\n",
       "      <td>608.23</td>\n",
       "    </tr>\n",
       "  </tbody>\n",
       "</table>\n",
       "</div>"
      ],
      "text/plain": [
       "              Supply  AddressCount    Uncles  BtcPrice   Price\n",
       "Date                                                          \n",
       "2018-06-01  0.780103      0.505835  0.715228  0.382532  579.01\n",
       "2018-06-02  0.780685      0.506945  0.758376  0.388584  590.53\n",
       "2018-06-03  0.781261      0.508237  0.727411  0.392906  619.04\n",
       "2018-06-04  0.781845      0.509443  0.769543  0.381147  591.31\n",
       "2018-06-05  0.782417      0.510664  0.714213  0.387795  608.23"
      ]
     },
     "execution_count": 51,
     "metadata": {},
     "output_type": "execute_result"
    }
   ],
   "source": [
    "df_arima_truth.head()"
   ]
  },
  {
   "cell_type": "code",
   "execution_count": 52,
   "metadata": {},
   "outputs": [
    {
     "data": {
      "text/html": [
       "<div>\n",
       "<style scoped>\n",
       "    .dataframe tbody tr th:only-of-type {\n",
       "        vertical-align: middle;\n",
       "    }\n",
       "\n",
       "    .dataframe tbody tr th {\n",
       "        vertical-align: top;\n",
       "    }\n",
       "\n",
       "    .dataframe thead th {\n",
       "        text-align: right;\n",
       "    }\n",
       "</style>\n",
       "<table border=\"1\" class=\"dataframe\">\n",
       "  <thead>\n",
       "    <tr style=\"text-align: right;\">\n",
       "      <th></th>\n",
       "      <th>lower Price</th>\n",
       "      <th>upper Price</th>\n",
       "    </tr>\n",
       "  </thead>\n",
       "  <tbody>\n",
       "    <tr>\n",
       "      <th>2018-06-02</th>\n",
       "      <td>1209.222951</td>\n",
       "      <td>1284.809468</td>\n",
       "    </tr>\n",
       "    <tr>\n",
       "      <th>2018-06-03</th>\n",
       "      <td>1118.332639</td>\n",
       "      <td>1238.568502</td>\n",
       "    </tr>\n",
       "    <tr>\n",
       "      <th>2018-06-04</th>\n",
       "      <td>1107.553717</td>\n",
       "      <td>1256.630525</td>\n",
       "    </tr>\n",
       "    <tr>\n",
       "      <th>2018-06-05</th>\n",
       "      <td>1214.321537</td>\n",
       "      <td>1388.326694</td>\n",
       "    </tr>\n",
       "    <tr>\n",
       "      <th>2018-06-06</th>\n",
       "      <td>1059.447758</td>\n",
       "      <td>1255.011504</td>\n",
       "    </tr>\n",
       "  </tbody>\n",
       "</table>\n",
       "</div>"
      ],
      "text/plain": [
       "            lower Price  upper Price\n",
       "2018-06-02  1209.222951  1284.809468\n",
       "2018-06-03  1118.332639  1238.568502\n",
       "2018-06-04  1107.553717  1256.630525\n",
       "2018-06-05  1214.321537  1388.326694\n",
       "2018-06-06  1059.447758  1255.011504"
      ]
     },
     "execution_count": 52,
     "metadata": {},
     "output_type": "execute_result"
    }
   ],
   "source": [
    "pred_ci.head()"
   ]
  },
  {
   "cell_type": "code",
   "execution_count": 42,
   "metadata": {},
   "outputs": [
    {
     "data": {
      "text/plain": [
       "2018-06-02    1247.016209\n",
       "2018-06-03    1178.450571\n",
       "2018-06-04    1182.092121\n",
       "2018-06-05    1301.324115\n",
       "2018-06-06    1157.229631\n",
       "Freq: D, dtype: float64"
      ]
     },
     "execution_count": 42,
     "metadata": {},
     "output_type": "execute_result"
    }
   ],
   "source": [
    "pred_uc.predicted_mean.head()"
   ]
  },
  {
   "cell_type": "code",
   "execution_count": 22,
   "metadata": {},
   "outputs": [
    {
     "data": {
      "text/html": [
       "<script>requirejs.config({paths: { 'plotly': ['https://cdn.plot.ly/plotly-latest.min']},});if(!window.Plotly) {{require(['plotly'],function(plotly) {window.Plotly=plotly;});}}</script>"
      ],
      "text/vnd.plotly.v1+html": [
       "<script>requirejs.config({paths: { 'plotly': ['https://cdn.plot.ly/plotly-latest.min']},});if(!window.Plotly) {{require(['plotly'],function(plotly) {window.Plotly=plotly;});}}</script>"
      ]
     },
     "metadata": {},
     "output_type": "display_data"
    },
    {
     "data": {
      "application/vnd.plotly.v1+json": {
       "data": [
        {
         "type": "scatter",
         "x": [
          "2018-06-02",
          "2018-06-03",
          "2018-06-04",
          "2018-06-05",
          "2018-06-06",
          "2018-06-07",
          "2018-06-08",
          "2018-06-09",
          "2018-06-10",
          "2018-06-11",
          "2018-06-12",
          "2018-06-13",
          "2018-06-14",
          "2018-06-15",
          "2018-06-16",
          "2018-06-17",
          "2018-06-18",
          "2018-06-19",
          "2018-06-20",
          "2018-06-21",
          "2018-06-22",
          "2018-06-23",
          "2018-06-24",
          "2018-06-25",
          "2018-06-26",
          "2018-06-27",
          "2018-06-28",
          "2018-06-29",
          "2018-06-30",
          "2018-07-01",
          "2018-07-02",
          "2018-07-03"
         ],
         "y": [
          1247.016209312903,
          1178.4505705051797,
          1182.0921210208207,
          1301.3241151549591,
          1157.2296310876527,
          805.8457330131596,
          1166.6864802276687,
          1151.4538648298285,
          1117.1640021182366,
          1133.1475782994057,
          1134.819433610085,
          1137.58168612368,
          1142.3476760615395,
          1518.2148833377723,
          1153.144946174245,
          1129.1342344910072,
          1136.7492097433687,
          1153.5538046606353,
          1139.6767154948939,
          1138.6488467815452,
          1153.226274321897,
          1148.081650548439,
          1130.117893620657,
          1126.3545790420985,
          1129.2055056914041,
          1128.1440167149049,
          1124.9547093729307,
          1150.452422434968,
          1170.5762367588495,
          1171.5506123804798,
          1168.789225608507,
          1282.0879699742509
         ]
        }
       ],
       "layout": {}
      },
      "text/html": [
       "<div id=\"674e8ec5-a273-49bb-9f8a-35b7fb9eec3d\" style=\"height: 525px; width: 100%;\" class=\"plotly-graph-div\"></div><script type=\"text/javascript\">require([\"plotly\"], function(Plotly) { window.PLOTLYENV=window.PLOTLYENV || {};window.PLOTLYENV.BASE_URL=\"https://plot.ly\";Plotly.newPlot(\"674e8ec5-a273-49bb-9f8a-35b7fb9eec3d\", [{\"type\": \"scatter\", \"x\": [\"2018-06-02\", \"2018-06-03\", \"2018-06-04\", \"2018-06-05\", \"2018-06-06\", \"2018-06-07\", \"2018-06-08\", \"2018-06-09\", \"2018-06-10\", \"2018-06-11\", \"2018-06-12\", \"2018-06-13\", \"2018-06-14\", \"2018-06-15\", \"2018-06-16\", \"2018-06-17\", \"2018-06-18\", \"2018-06-19\", \"2018-06-20\", \"2018-06-21\", \"2018-06-22\", \"2018-06-23\", \"2018-06-24\", \"2018-06-25\", \"2018-06-26\", \"2018-06-27\", \"2018-06-28\", \"2018-06-29\", \"2018-06-30\", \"2018-07-01\", \"2018-07-02\", \"2018-07-03\"], \"y\": [1247.016209312903, 1178.4505705051797, 1182.0921210208207, 1301.3241151549591, 1157.2296310876527, 805.8457330131596, 1166.6864802276687, 1151.4538648298285, 1117.1640021182366, 1133.1475782994057, 1134.819433610085, 1137.58168612368, 1142.3476760615395, 1518.2148833377723, 1153.144946174245, 1129.1342344910072, 1136.7492097433687, 1153.5538046606353, 1139.6767154948939, 1138.6488467815452, 1153.226274321897, 1148.081650548439, 1130.117893620657, 1126.3545790420985, 1129.2055056914041, 1128.1440167149049, 1124.9547093729307, 1150.452422434968, 1170.5762367588495, 1171.5506123804798, 1168.789225608507, 1282.0879699742509]}], {}, {\"showLink\": true, \"linkText\": \"Export to plot.ly\"})});</script>"
      ],
      "text/vnd.plotly.v1+html": [
       "<div id=\"674e8ec5-a273-49bb-9f8a-35b7fb9eec3d\" style=\"height: 525px; width: 100%;\" class=\"plotly-graph-div\"></div><script type=\"text/javascript\">require([\"plotly\"], function(Plotly) { window.PLOTLYENV=window.PLOTLYENV || {};window.PLOTLYENV.BASE_URL=\"https://plot.ly\";Plotly.newPlot(\"674e8ec5-a273-49bb-9f8a-35b7fb9eec3d\", [{\"type\": \"scatter\", \"x\": [\"2018-06-02\", \"2018-06-03\", \"2018-06-04\", \"2018-06-05\", \"2018-06-06\", \"2018-06-07\", \"2018-06-08\", \"2018-06-09\", \"2018-06-10\", \"2018-06-11\", \"2018-06-12\", \"2018-06-13\", \"2018-06-14\", \"2018-06-15\", \"2018-06-16\", \"2018-06-17\", \"2018-06-18\", \"2018-06-19\", \"2018-06-20\", \"2018-06-21\", \"2018-06-22\", \"2018-06-23\", \"2018-06-24\", \"2018-06-25\", \"2018-06-26\", \"2018-06-27\", \"2018-06-28\", \"2018-06-29\", \"2018-06-30\", \"2018-07-01\", \"2018-07-02\", \"2018-07-03\"], \"y\": [1247.016209312903, 1178.4505705051797, 1182.0921210208207, 1301.3241151549591, 1157.2296310876527, 805.8457330131596, 1166.6864802276687, 1151.4538648298285, 1117.1640021182366, 1133.1475782994057, 1134.819433610085, 1137.58168612368, 1142.3476760615395, 1518.2148833377723, 1153.144946174245, 1129.1342344910072, 1136.7492097433687, 1153.5538046606353, 1139.6767154948939, 1138.6488467815452, 1153.226274321897, 1148.081650548439, 1130.117893620657, 1126.3545790420985, 1129.2055056914041, 1128.1440167149049, 1124.9547093729307, 1150.452422434968, 1170.5762367588495, 1171.5506123804798, 1168.789225608507, 1282.0879699742509]}], {}, {\"showLink\": true, \"linkText\": \"Export to plot.ly\"})});</script>"
      ]
     },
     "metadata": {},
     "output_type": "display_data"
    }
   ],
   "source": [
    "import plotly.offline as py\n",
    "import plotly.graph_objs as go\n",
    "import plotly.figure_factory as ff\n",
    "py.init_notebook_mode(connected=True)\n",
    "\n",
    "# Chart the data\n",
    "ether_prices = go.Scatter(x=pred_uc.predicted_mean.index, y=pred_uc.predicted_mean)\n",
    "py.iplot([ether_prices])"
   ]
  },
  {
   "cell_type": "markdown",
   "metadata": {},
   "source": [
    "=-=-=-=-=-=-=-=-=-==-----"
   ]
  },
  {
   "cell_type": "code",
   "execution_count": null,
   "metadata": {},
   "outputs": [],
   "source": []
  },
  {
   "cell_type": "code",
   "execution_count": null,
   "metadata": {},
   "outputs": [],
   "source": []
  },
  {
   "cell_type": "code",
   "execution_count": null,
   "metadata": {},
   "outputs": [],
   "source": []
  },
  {
   "cell_type": "code",
   "execution_count": null,
   "metadata": {},
   "outputs": [],
   "source": []
  },
  {
   "cell_type": "code",
   "execution_count": null,
   "metadata": {},
   "outputs": [],
   "source": []
  }
 ],
 "metadata": {
  "kernelspec": {
   "display_name": "Python 3",
   "language": "python",
   "name": "python3"
  },
  "language_info": {
   "codemirror_mode": {
    "name": "ipython",
    "version": 3
   },
   "file_extension": ".py",
   "mimetype": "text/x-python",
   "name": "python",
   "nbconvert_exporter": "python",
   "pygments_lexer": "ipython3",
   "version": "3.7.3"
  }
 },
 "nbformat": 4,
 "nbformat_minor": 4
}
