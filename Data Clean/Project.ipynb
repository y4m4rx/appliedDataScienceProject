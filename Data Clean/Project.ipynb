{
 "cells": [
  {
   "cell_type": "code",
   "execution_count": 25,
   "metadata": {},
   "outputs": [],
   "source": [
    "import pandas as pd\n",
    "import numpy as np\n",
    "import matplotlib.pyplot as plt\n",
    "import seaborn as sns\n",
    "%matplotlib inline"
   ]
  },
  {
   "cell_type": "code",
   "execution_count": 19,
   "metadata": {},
   "outputs": [
    {
     "data": {
      "text/html": [
       "<div>\n",
       "<style scoped>\n",
       "    .dataframe tbody tr th:only-of-type {\n",
       "        vertical-align: middle;\n",
       "    }\n",
       "\n",
       "    .dataframe tbody tr th {\n",
       "        vertical-align: top;\n",
       "    }\n",
       "\n",
       "    .dataframe thead th {\n",
       "        text-align: right;\n",
       "    }\n",
       "</style>\n",
       "<table border=\"1\" class=\"dataframe\">\n",
       "  <thead>\n",
       "    <tr style=\"text-align: right;\">\n",
       "      <th></th>\n",
       "      <th>Date</th>\n",
       "      <th>BTC_Price</th>\n",
       "    </tr>\n",
       "  </thead>\n",
       "  <tbody>\n",
       "    <tr>\n",
       "      <th>1295</th>\n",
       "      <td>2019-08-24 00:00:00</td>\n",
       "      <td>10158.540833333334</td>\n",
       "    </tr>\n",
       "    <tr>\n",
       "      <th>1296</th>\n",
       "      <td>2019-08-27 00:00:00</td>\n",
       "      <td>10176.794166666667</td>\n",
       "    </tr>\n",
       "    <tr>\n",
       "      <th>1297</th>\n",
       "      <td>2019-08-30 00:00:00</td>\n",
       "      <td>9539.253333333334</td>\n",
       "    </tr>\n",
       "    <tr>\n",
       "      <th>1298</th>\n",
       "      <td>2019-09-02 00:00:00</td>\n",
       "      <td>9937.605000000001</td>\n",
       "    </tr>\n",
       "    <tr>\n",
       "      <th>1299</th>\n",
       "      <td>2019-09-05 00:00:00</td>\n",
       "      <td>10559.038333333332</td>\n",
       "    </tr>\n",
       "  </tbody>\n",
       "</table>\n",
       "</div>"
      ],
      "text/plain": [
       "                     Date           BTC_Price\n",
       "1295  2019-08-24 00:00:00  10158.540833333334\n",
       "1296  2019-08-27 00:00:00  10176.794166666667\n",
       "1297  2019-08-30 00:00:00   9539.253333333334\n",
       "1298  2019-09-02 00:00:00   9937.605000000001\n",
       "1299  2019-09-05 00:00:00  10559.038333333332"
      ]
     },
     "execution_count": 19,
     "metadata": {},
     "output_type": "execute_result"
    }
   ],
   "source": [
    "# Reading Data\n",
    "pathInputDir = \"../Data Source\"\n",
    "\n",
    "\n",
    "# Currency Information\n",
    "pathInputDir_Currency = pathInputDir +\"/Currency Information/\"\n",
    "EthMarketCap = \"export-MarketCap.csv\"\n",
    "dfEthMarketCap = pd.read_csv(pathInputDir_Currency + EthMarketCap, delimiter=',', dtype='str',header=0)\n",
    "\n",
    "# General Information\n",
    "pathInputDir_General = pathInputDir +\"/General Information/\"\n",
    "AddressCount = \"export-AddressCount.csv\"\n",
    "TxGrowth = \"export-TxGrowth.csv\"\n",
    "\n",
    "dfAddressCount = pd.read_csv(pathInputDir_General + AddressCount, delimiter=',', dtype='str',header=0)\n",
    "dfTxGrowth = pd.read_csv(pathInputDir_General + TxGrowth, delimiter=',', dtype='str',header=0)\n",
    "\n",
    "# Network Information\n",
    "pathInputDir_Network = pathInputDir +\"/Network Information/\"\n",
    "Difficulty = \"export-BlockDifficulty.csv\"\n",
    "NetworkHash = \"export-NetworkHash.csv\"\n",
    "NetworkUtilization = \"export-NetworkUtilization.csv\"\n",
    "TransactionFee = \"export-TransactionFee.csv\"\n",
    "\n",
    "dfDifficulty = pd.read_csv(pathInputDir_Network + Difficulty, delimiter=',', dtype='str',header=0)\n",
    "dfNetworkHash = pd.read_csv(pathInputDir_Network + NetworkHash, delimiter=',', dtype='str',header=0)\n",
    "dfNetworkUtilization = pd.read_csv(pathInputDir_Network + NetworkUtilization, delimiter=',', dtype='str',header=0)\n",
    "dfTransactionFee = pd.read_csv(pathInputDir_Network + TransactionFee, delimiter=',', dtype='str',header=0)\n",
    "\n",
    "\n",
    "# Blockchain Information\n",
    "pathInputDir_Blockchain = pathInputDir +\"/Blockchain Information/\"\n",
    "AvgGasPrice = \"export-AvgGasPrice.csv\"\n",
    "BlockCountReward = \"export-BlockCountRewards.csv\"\n",
    "BlockSize = \"export-BlockSize.csv\"\n",
    "BlockTime = \"export-BlockTime.csv\"\n",
    "Ethersupply = \"export-Ethersupply.csv\"\n",
    "GasLimit = \"export-GasLimit.csv\"\n",
    "GasUsed = \"export-GasUsed.csv\"\n",
    "Uncles = \"export-Uncles.csv\"\n",
    "\n",
    "dfAvgGasPrice = pd.read_csv(pathInputDir_Blockchain + AvgGasPrice, delimiter=',', dtype='str',header=0)\n",
    "dfBlockCountReward = pd.read_csv(pathInputDir_Blockchain + BlockCountReward, delimiter=',', dtype='str',header=0)\n",
    "dfBlockSize = pd.read_csv(pathInputDir_Blockchain + BlockSize, delimiter=',', dtype='str',header=0)\n",
    "dfBlockTime = pd.read_csv(pathInputDir_Blockchain + BlockTime, delimiter=',', dtype='str',header=0)\n",
    "dfEthersupply = pd.read_csv(pathInputDir_Blockchain + Ethersupply, delimiter=',', dtype='str',header=0)\n",
    "dfGasLimit = pd.read_csv(pathInputDir_Blockchain + GasLimit, delimiter=',', dtype='str',header=0)\n",
    "dfGasUsed = pd.read_csv(pathInputDir_Blockchain + GasUsed, delimiter=',', dtype='str',header=0)\n",
    "dfUncles = pd.read_csv(pathInputDir_Blockchain + Uncles, delimiter=',', dtype='str', header=0)\n",
    "\n",
    "# Bitcoin Price\n",
    "pathInputDir_Bitcoin = pathInputDir +\"/bitcoin/\"\n",
    "BTCPrice = \"market-price-bitcoin.csv\"\n",
    "\n",
    "dfBTCPrice = pd.read_csv(pathInputDir_Bitcoin + BTCPrice, delimiter=',', dtype='str',names=[\"Date\",\"BTC_Price\"])\n",
    "\n",
    "\n",
    "dfBTCPrice.tail()"
   ]
  },
  {
   "cell_type": "code",
   "execution_count": 60,
   "metadata": {},
   "outputs": [],
   "source": [
    "df_data = dfEthMarketCap.copy()\n",
    "df_data[\"addressCount\"] = dfAddressCount.Value.values\n",
    "df_data[\"txGrowth\"] = dfTxGrowth.Value.values\n",
    "df_data[\"networkHash\"] = dfNetworkHash.Value.values\n",
    "df_data[\"networkUtilization\"] = dfNetworkUtilization.Value.values\n",
    "df_data[\"transactionFee\"] = dfTransactionFee.Value.values\n",
    "df_data[\"avgGasPrice\"] = dfAvgGasPrice.Value.values\n",
    "df_data[\"blockCountReward\"] = dfBlockCountReward.Value.values\n",
    "df_data[\"blockSize\"] = dfBlockSize.Value.values\n",
    "df_data[\"blockTime\"] = dfBlockTime.Value.values\n",
    "df_data[\"ethersupply\"] = dfEthersupply.Value.values\n",
    "df_data[\"gasLimit\"] = dfGasLimit.Value.values\n",
    "df_data[\"gasUsed\"] = dfGasUsed.Value.values\n",
    "df_data[\"uncles\"] = dfUncles.Value.values\n",
    "\n"
   ]
  },
  {
   "cell_type": "code",
   "execution_count": 62,
   "metadata": {},
   "outputs": [
    {
     "data": {
      "text/plain": [
       "Index(['Date(UTC)', 'UnixTimeStamp', 'Supply', 'MarketCap', 'Price',\n",
       "       'addressCount', 'txGrowth', 'networkHash', 'networkUtilization',\n",
       "       'transactionFee', 'avgGasPrice', 'blockCountReward', 'blockSize',\n",
       "       'blockTime', 'ethersupply', 'gasLimit', 'gasUsed', 'uncles'],\n",
       "      dtype='object')"
      ]
     },
     "execution_count": 62,
     "metadata": {},
     "output_type": "execute_result"
    }
   ],
   "source": [
    "df_data.columns\n"
   ]
  },
  {
   "cell_type": "code",
   "execution_count": 22,
   "metadata": {},
   "outputs": [],
   "source": [
    "dfBTCPrice[\"UnixTimeStamp\"] = pd.to_datetime(dfBTCPrice.Date).values.astype(np.int64) // 10 ** 9"
   ]
  },
  {
   "cell_type": "code",
   "execution_count": 24,
   "metadata": {},
   "outputs": [
    {
     "data": {
      "text/html": [
       "<div>\n",
       "<style scoped>\n",
       "    .dataframe tbody tr th:only-of-type {\n",
       "        vertical-align: middle;\n",
       "    }\n",
       "\n",
       "    .dataframe tbody tr th {\n",
       "        vertical-align: top;\n",
       "    }\n",
       "\n",
       "    .dataframe thead th {\n",
       "        text-align: right;\n",
       "    }\n",
       "</style>\n",
       "<table border=\"1\" class=\"dataframe\">\n",
       "  <thead>\n",
       "    <tr style=\"text-align: right;\">\n",
       "      <th></th>\n",
       "      <th>Date</th>\n",
       "      <th>BTC_Price</th>\n",
       "      <th>UnixTimeStamp</th>\n",
       "    </tr>\n",
       "  </thead>\n",
       "  <tbody>\n",
       "    <tr>\n",
       "      <th>0</th>\n",
       "      <td>2009-01-03 00:00:00</td>\n",
       "      <td>0.0</td>\n",
       "      <td>1230940800</td>\n",
       "    </tr>\n",
       "    <tr>\n",
       "      <th>1</th>\n",
       "      <td>2009-01-06 00:00:00</td>\n",
       "      <td>0.0</td>\n",
       "      <td>1231200000</td>\n",
       "    </tr>\n",
       "    <tr>\n",
       "      <th>2</th>\n",
       "      <td>2009-01-09 00:00:00</td>\n",
       "      <td>0.0</td>\n",
       "      <td>1231459200</td>\n",
       "    </tr>\n",
       "    <tr>\n",
       "      <th>3</th>\n",
       "      <td>2009-01-12 00:00:00</td>\n",
       "      <td>0.0</td>\n",
       "      <td>1231718400</td>\n",
       "    </tr>\n",
       "    <tr>\n",
       "      <th>4</th>\n",
       "      <td>2009-01-15 00:00:00</td>\n",
       "      <td>0.0</td>\n",
       "      <td>1231977600</td>\n",
       "    </tr>\n",
       "  </tbody>\n",
       "</table>\n",
       "</div>"
      ],
      "text/plain": [
       "                  Date BTC_Price  UnixTimeStamp\n",
       "0  2009-01-03 00:00:00       0.0     1230940800\n",
       "1  2009-01-06 00:00:00       0.0     1231200000\n",
       "2  2009-01-09 00:00:00       0.0     1231459200\n",
       "3  2009-01-12 00:00:00       0.0     1231718400\n",
       "4  2009-01-15 00:00:00       0.0     1231977600"
      ]
     },
     "execution_count": 24,
     "metadata": {},
     "output_type": "execute_result"
    }
   ],
   "source": [
    "dfBTCPrice.head()"
   ]
  },
  {
   "cell_type": "code",
   "execution_count": null,
   "metadata": {},
   "outputs": [],
   "source": []
  },
  {
   "cell_type": "code",
   "execution_count": null,
   "metadata": {},
   "outputs": [],
   "source": []
  },
  {
   "cell_type": "code",
   "execution_count": null,
   "metadata": {},
   "outputs": [],
   "source": []
  },
  {
   "cell_type": "code",
   "execution_count": null,
   "metadata": {},
   "outputs": [],
   "source": []
  },
  {
   "cell_type": "code",
   "execution_count": null,
   "metadata": {},
   "outputs": [],
   "source": []
  },
  {
   "cell_type": "code",
   "execution_count": null,
   "metadata": {},
   "outputs": [],
   "source": []
  },
  {
   "cell_type": "code",
   "execution_count": null,
   "metadata": {},
   "outputs": [],
   "source": []
  },
  {
   "cell_type": "code",
   "execution_count": null,
   "metadata": {},
   "outputs": [],
   "source": []
  }
 ],
 "metadata": {
  "kernelspec": {
   "display_name": "Python 3",
   "language": "python",
   "name": "python3"
  },
  "language_info": {
   "codemirror_mode": {
    "name": "ipython",
    "version": 3
   },
   "file_extension": ".py",
   "mimetype": "text/x-python",
   "name": "python",
   "nbconvert_exporter": "python",
   "pygments_lexer": "ipython3",
   "version": "3.7.0"
  }
 },
 "nbformat": 4,
 "nbformat_minor": 4
}
