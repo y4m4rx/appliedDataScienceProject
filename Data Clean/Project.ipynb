{
 "cells": [
  {
   "cell_type": "code",
   "execution_count": 25,
   "metadata": {},
   "outputs": [],
   "source": [
    "import pandas as pd\n",
    "import numpy as np\n",
    "import matplotlib.pyplot as plt\n",
    "import seaborn as sns\n",
    "%matplotlib inline"
   ]
  },
  {
   "cell_type": "code",
   "execution_count": 26,
   "metadata": {},
   "outputs": [
    {
     "data": {
      "text/html": [
       "<div>\n",
       "<style scoped>\n",
       "    .dataframe tbody tr th:only-of-type {\n",
       "        vertical-align: middle;\n",
       "    }\n",
       "\n",
       "    .dataframe tbody tr th {\n",
       "        vertical-align: top;\n",
       "    }\n",
       "\n",
       "    .dataframe thead th {\n",
       "        text-align: right;\n",
       "    }\n",
       "</style>\n",
       "<table border=\"1\" class=\"dataframe\">\n",
       "  <thead>\n",
       "    <tr style=\"text-align: right;\">\n",
       "      <th></th>\n",
       "      <th>Date(UTC)</th>\n",
       "      <th>UnixTimeStamp</th>\n",
       "      <th>Value</th>\n",
       "    </tr>\n",
       "  </thead>\n",
       "  <tbody>\n",
       "    <tr>\n",
       "      <th>1495</th>\n",
       "      <td>9/2/2019</td>\n",
       "      <td>1567382400</td>\n",
       "      <td>13630.1875</td>\n",
       "    </tr>\n",
       "    <tr>\n",
       "      <th>1496</th>\n",
       "      <td>9/3/2019</td>\n",
       "      <td>1567468800</td>\n",
       "      <td>13483.6875</td>\n",
       "    </tr>\n",
       "    <tr>\n",
       "      <th>1497</th>\n",
       "      <td>9/4/2019</td>\n",
       "      <td>1567555200</td>\n",
       "      <td>13464.3125</td>\n",
       "    </tr>\n",
       "    <tr>\n",
       "      <th>1498</th>\n",
       "      <td>9/5/2019</td>\n",
       "      <td>1567641600</td>\n",
       "      <td>13631.8125</td>\n",
       "    </tr>\n",
       "    <tr>\n",
       "      <th>1499</th>\n",
       "      <td>9/6/2019</td>\n",
       "      <td>1567728000</td>\n",
       "      <td>13561.75</td>\n",
       "    </tr>\n",
       "  </tbody>\n",
       "</table>\n",
       "</div>"
      ],
      "text/plain": [
       "     Date(UTC) UnixTimeStamp       Value\n",
       "1495  9/2/2019    1567382400  13630.1875\n",
       "1496  9/3/2019    1567468800  13483.6875\n",
       "1497  9/4/2019    1567555200  13464.3125\n",
       "1498  9/5/2019    1567641600  13631.8125\n",
       "1499  9/6/2019    1567728000    13561.75"
      ]
     },
     "execution_count": 26,
     "metadata": {},
     "output_type": "execute_result"
    }
   ],
   "source": [
    "# Reading Data\n",
    "pathInputDir = \"../Data Source\"\n",
    "\n",
    "\n",
    "# Currency Information\n",
    "pathInputDir_Currency = pathInputDir +\"/Currency Information/\"\n",
    "EthPrice = \"export-EtherPrice.csv\"\n",
    "EthSupply = \"export-Ethersupply2.csv\"\n",
    "EthMarketCap = \"export-MarketCap.csv\"\n",
    "\n",
    "dfEthPrice = pd.read_csv(pathInputDir_Currency + EthPrice, delimiter=',', dtype='str',header=0)\n",
    "dfEthSupply = pd.read_csv(pathInputDir_Currency + EthSupply, delimiter=',', dtype='str',header=0)\n",
    "dfEthMarketCap = pd.read_csv(pathInputDir_Currency + EthMarketCap, delimiter=',', dtype='str',header=0)\n",
    "\n",
    "# General Information\n",
    "pathInputDir_General = pathInputDir +\"/General Information/\"\n",
    "AddressCount = \"export-AddressCount.csv\"\n",
    "TxGrowth = \"export-TxGrowth.csv\"\n",
    "\n",
    "dfAddressCount = pd.read_csv(pathInputDir_General + AddressCount, delimiter=',', dtype='str',header=0)\n",
    "dfTxGrowth = pd.read_csv(pathInputDir_General + TxGrowth, delimiter=',', dtype='str',header=0)\n",
    "\n",
    "# Network Information\n",
    "pathInputDir_Network = pathInputDir +\"/Network Information/\"\n",
    "Difficulty = \"export-BlockDifficulty.csv\"\n",
    "NetworkHash = \"export-NetworkHash.csv\"\n",
    "NetworkUtilization = \"export-NetworkUtilization.csv\"\n",
    "PendingQueue = \"export-PendingQueue.csv\"\n",
    "TransactionFee = \"export-TransactionFee.csv\"\n",
    "\n",
    "dfDifficulty = pd.read_csv(pathInputDir_Network + Difficulty, delimiter=',', dtype='str',header=0)\n",
    "dfNetworkHash = pd.read_csv(pathInputDir_Network + NetworkHash, delimiter=',', dtype='str',header=0)\n",
    "dfNetworkUtilization = pd.read_csv(pathInputDir_Network + NetworkUtilization, delimiter=',', dtype='str',header=0)\n",
    "dfPendingQueue = pd.read_csv(pathInputDir_Network + PendingQueue, delimiter=',', dtype='str',header=0)\n",
    "dfTransactionFee = pd.read_csv(pathInputDir_Network + TransactionFee, delimiter=',', dtype='str',header=0)\n",
    "\n",
    "\n",
    "# Blockchain Information\n",
    "pathInputDir_Blockchain = pathInputDir +\"/Blockchain Information/\"\n",
    "AvgGasPrice = \"export-AvgGasPrice.csv\"\n",
    "BlockCountReward = \"export-BlockCountRewards.csv\"\n",
    "BlockSize = \"export-BlockSize.csv\"\n",
    "BlockTime = \"export-BlockTime.csv\"\n",
    "Ethersupply = \"export-Ethersupply.csv\"\n",
    "GasLimit = \"export-GasLimit.csv\"\n",
    "GasUsed = \"export-GasUsed.csv\"\n",
    "Uncles = \"export-Uncles.csv\"\n",
    "\n",
    "dfAvgGasPrice = pd.read_csv(pathInputDir_Blockchain + AvgGasPrice, delimiter=',', dtype='str',header=0)\n",
    "dfBlockCountReward = pd.read_csv(pathInputDir_Blockchain + BlockCountReward, delimiter=',', dtype='str',header=0)\n",
    "dfBlockSize = pd.read_csv(pathInputDir_Blockchain + BlockSize, delimiter=',', dtype='str',header=0)\n",
    "dfBlockTime = pd.read_csv(pathInputDir_Blockchain + BlockTime, delimiter=',', dtype='str',header=0)\n",
    "dfEthersupply = pd.read_csv(pathInputDir_Blockchain + Ethersupply, delimiter=',', dtype='str',header=0)\n",
    "dfGasLimit = pd.read_csv(pathInputDir_Blockchain + GasLimit, delimiter=',', dtype='str',header=0)\n",
    "dfGasUsed = pd.read_csv(pathInputDir_Blockchain + GasUsed, delimiter=',', dtype='str',header=0)\n",
    "dfUncles = pd.read_csv(pathInputDir_Blockchain + Uncles, delimiter=',', dtype='str', header=0)\n",
    "\n",
    "# Bitcoin Price\n",
    "pathInputDir_Bitcoin = pathInputDir +\"/bitcoin/\"\n",
    "BTCPrice = \"market-price-bitcoin.csv\"\n",
    "\n",
    "dfBTCPrice = pd.read_csv(pathInputDir_Bitcoin + BTCPrice, delimiter=',', dtype='str',names=[\"Date\",\"BTC_Price\"])\n",
    "\n",
    "\n",
    "dfEthersupply.tail()"
   ]
  },
  {
   "cell_type": "code",
   "execution_count": 27,
   "metadata": {},
   "outputs": [
    {
     "ename": "NameError",
     "evalue": "name 'price_df' is not defined",
     "output_type": "error",
     "traceback": [
      "\u001b[0;31m---------------------------------------------------------------------------\u001b[0m",
      "\u001b[0;31mNameError\u001b[0m                                 Traceback (most recent call last)",
      "\u001b[0;32m<ipython-input-27-7d02953aa562>\u001b[0m in \u001b[0;36m<module>\u001b[0;34m\u001b[0m\n\u001b[1;32m      1\u001b[0m \u001b[0;31m# Merge Data on TimeStamp to create data source\u001b[0m\u001b[0;34m\u001b[0m\u001b[0;34m\u001b[0m\u001b[0;34m\u001b[0m\u001b[0m\n\u001b[1;32m      2\u001b[0m \u001b[0;34m\u001b[0m\u001b[0m\n\u001b[0;32m----> 3\u001b[0;31m \u001b[0msource_df\u001b[0m \u001b[0;34m=\u001b[0m \u001b[0mprice_df\u001b[0m\u001b[0;34m.\u001b[0m\u001b[0mmerge\u001b[0m\u001b[0;34m(\u001b[0m\u001b[0maddress_df\u001b[0m\u001b[0;34m,\u001b[0m \u001b[0mleft_on\u001b[0m \u001b[0;34m=\u001b[0m \u001b[0;34m'UnixTimeStamp'\u001b[0m\u001b[0;34m,\u001b[0m\u001b[0mright_on\u001b[0m\u001b[0;34m=\u001b[0m\u001b[0;34m'UnixTimeStamp'\u001b[0m\u001b[0;34m,\u001b[0m\u001b[0mhow\u001b[0m\u001b[0;34m=\u001b[0m\u001b[0;34m'inner'\u001b[0m\u001b[0;34m)\u001b[0m\u001b[0;34m\u001b[0m\u001b[0;34m\u001b[0m\u001b[0m\n\u001b[0m\u001b[1;32m      4\u001b[0m \u001b[0msource_df\u001b[0m \u001b[0;34m=\u001b[0m \u001b[0msource_df\u001b[0m\u001b[0;34m.\u001b[0m\u001b[0mmerge\u001b[0m\u001b[0;34m(\u001b[0m\u001b[0msupply_df\u001b[0m\u001b[0;34m,\u001b[0m \u001b[0mleft_on\u001b[0m \u001b[0;34m=\u001b[0m \u001b[0;34m'UnixTimeStamp'\u001b[0m\u001b[0;34m,\u001b[0m\u001b[0mright_on\u001b[0m\u001b[0;34m=\u001b[0m\u001b[0;34m'UnixTimeStamp'\u001b[0m\u001b[0;34m,\u001b[0m\u001b[0mhow\u001b[0m\u001b[0;34m=\u001b[0m\u001b[0;34m'inner'\u001b[0m\u001b[0;34m)\u001b[0m\u001b[0;34m\u001b[0m\u001b[0;34m\u001b[0m\u001b[0m\n\u001b[1;32m      5\u001b[0m \u001b[0msource_df\u001b[0m \u001b[0;34m=\u001b[0m \u001b[0msource_df\u001b[0m\u001b[0;34m.\u001b[0m\u001b[0mmerge\u001b[0m\u001b[0;34m(\u001b[0m\u001b[0mhash_df\u001b[0m\u001b[0;34m,\u001b[0m \u001b[0mleft_on\u001b[0m \u001b[0;34m=\u001b[0m \u001b[0;34m'UnixTimeStamp'\u001b[0m\u001b[0;34m,\u001b[0m\u001b[0mright_on\u001b[0m\u001b[0;34m=\u001b[0m\u001b[0;34m'UnixTimeStamp'\u001b[0m\u001b[0;34m,\u001b[0m\u001b[0mhow\u001b[0m\u001b[0;34m=\u001b[0m\u001b[0;34m'inner'\u001b[0m\u001b[0;34m)\u001b[0m\u001b[0;34m\u001b[0m\u001b[0;34m\u001b[0m\u001b[0m\n",
      "\u001b[0;31mNameError\u001b[0m: name 'price_df' is not defined"
     ]
    }
   ],
   "source": [
    "# Merge Data on TimeStamp to create data source\n",
    "\n",
    "source_df = price_df.merge(address_df, left_on = 'UnixTimeStamp',right_on='UnixTimeStamp',how='inner')\n",
    "source_df = source_df.merge(supply_df, left_on = 'UnixTimeStamp',right_on='UnixTimeStamp',how='inner')\n",
    "source_df = source_df.merge(hash_df, left_on = 'UnixTimeStamp',right_on='UnixTimeStamp',how='inner')\n",
    "source_df = source_df.merge(fee_df, left_on = 'UnixTimeStamp',right_on='UnixTimeStamp',how='inner')\n",
    "source_df = source_df.merge(growth_df, left_on = 'UnixTimeStamp',right_on='UnixTimeStamp',how='inner')\n",
    "source_df.head()"
   ]
  },
  {
   "cell_type": "code",
   "execution_count": 30,
   "metadata": {},
   "outputs": [
    {
     "name": "stdout",
     "output_type": "stream",
     "text": [
      "<class 'pandas.core.frame.DataFrame'>\n",
      "RangeIndex: 1500 entries, 0 to 1499\n",
      "Data columns (total 3 columns):\n",
      "Date(UTC)        1500 non-null object\n",
      "UnixTimeStamp    1500 non-null object\n",
      "Value            1500 non-null object\n",
      "dtypes: object(3)\n",
      "memory usage: 35.2+ KB\n"
     ]
    }
   ],
   "source": [
    "dfEthPrice.info()"
   ]
  },
  {
   "cell_type": "code",
   "execution_count": null,
   "metadata": {},
   "outputs": [],
   "source": []
  },
  {
   "cell_type": "code",
   "execution_count": null,
   "metadata": {},
   "outputs": [],
   "source": []
  },
  {
   "cell_type": "code",
   "execution_count": null,
   "metadata": {},
   "outputs": [],
   "source": []
  },
  {
   "cell_type": "code",
   "execution_count": null,
   "metadata": {},
   "outputs": [],
   "source": []
  },
  {
   "cell_type": "code",
   "execution_count": null,
   "metadata": {},
   "outputs": [],
   "source": []
  },
  {
   "cell_type": "code",
   "execution_count": null,
   "metadata": {},
   "outputs": [],
   "source": []
  },
  {
   "cell_type": "code",
   "execution_count": null,
   "metadata": {},
   "outputs": [],
   "source": []
  },
  {
   "cell_type": "code",
   "execution_count": null,
   "metadata": {},
   "outputs": [],
   "source": []
  },
  {
   "cell_type": "code",
   "execution_count": null,
   "metadata": {},
   "outputs": [],
   "source": []
  },
  {
   "cell_type": "code",
   "execution_count": null,
   "metadata": {},
   "outputs": [],
   "source": []
  }
 ],
 "metadata": {
  "kernelspec": {
   "display_name": "Python 3",
   "language": "python",
   "name": "python3"
  },
  "language_info": {
   "codemirror_mode": {
    "name": "ipython",
    "version": 3
   },
   "file_extension": ".py",
   "mimetype": "text/x-python",
   "name": "python",
   "nbconvert_exporter": "python",
   "pygments_lexer": "ipython3",
   "version": "3.6.8"
  }
 },
 "nbformat": 4,
 "nbformat_minor": 4
}
