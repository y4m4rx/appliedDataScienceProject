{
 "cells": [
  {
   "cell_type": "code",
   "execution_count": 2,
   "metadata": {},
   "outputs": [],
   "source": [
    "import pandas as pd\n",
    "import numpy as np\n",
    "import matplotlib.pyplot as plt\n",
    "import seaborn as sns\n",
    "%matplotlib inline"
   ]
  },
  {
   "cell_type": "code",
   "execution_count": 24,
   "metadata": {},
   "outputs": [
    {
     "data": {
      "text/html": [
       "<div>\n",
       "<style scoped>\n",
       "    .dataframe tbody tr th:only-of-type {\n",
       "        vertical-align: middle;\n",
       "    }\n",
       "\n",
       "    .dataframe tbody tr th {\n",
       "        vertical-align: top;\n",
       "    }\n",
       "\n",
       "    .dataframe thead th {\n",
       "        text-align: right;\n",
       "    }\n",
       "</style>\n",
       "<table border=\"1\" class=\"dataframe\">\n",
       "  <thead>\n",
       "    <tr style=\"text-align: right;\">\n",
       "      <th></th>\n",
       "      <th>Date(UTC)</th>\n",
       "      <th>UnixTimeStamp</th>\n",
       "      <th>Value</th>\n",
       "    </tr>\n",
       "  </thead>\n",
       "  <tbody>\n",
       "    <tr>\n",
       "      <th>1495</th>\n",
       "      <td>9/2/2019</td>\n",
       "      <td>1567382400</td>\n",
       "      <td>13630.1875</td>\n",
       "    </tr>\n",
       "    <tr>\n",
       "      <th>1496</th>\n",
       "      <td>9/3/2019</td>\n",
       "      <td>1567468800</td>\n",
       "      <td>13483.6875</td>\n",
       "    </tr>\n",
       "    <tr>\n",
       "      <th>1497</th>\n",
       "      <td>9/4/2019</td>\n",
       "      <td>1567555200</td>\n",
       "      <td>13464.3125</td>\n",
       "    </tr>\n",
       "    <tr>\n",
       "      <th>1498</th>\n",
       "      <td>9/5/2019</td>\n",
       "      <td>1567641600</td>\n",
       "      <td>13631.8125</td>\n",
       "    </tr>\n",
       "    <tr>\n",
       "      <th>1499</th>\n",
       "      <td>9/6/2019</td>\n",
       "      <td>1567728000</td>\n",
       "      <td>13561.75</td>\n",
       "    </tr>\n",
       "  </tbody>\n",
       "</table>\n",
       "</div>"
      ],
      "text/plain": [
       "     Date(UTC) UnixTimeStamp       Value\n",
       "1495  9/2/2019    1567382400  13630.1875\n",
       "1496  9/3/2019    1567468800  13483.6875\n",
       "1497  9/4/2019    1567555200  13464.3125\n",
       "1498  9/5/2019    1567641600  13631.8125\n",
       "1499  9/6/2019    1567728000    13561.75"
      ]
     },
     "execution_count": 24,
     "metadata": {},
     "output_type": "execute_result"
    }
   ],
   "source": [
    "# Reading Data\n",
    "pathInputDir = \"../Data Source\"\n",
    "\n",
    "\n",
    "# Currency Information\n",
    "pathInputDir_Currency = pathInputDir +\"/Currency Information/\"\n",
    "EthPrice = \"export-EtherPrice.csv\"\n",
    "EthSupply = \"export-Ethersupply2.csv\"\n",
    "EthMarketCap = \"export-MarketCap.csv\"\n",
    "\n",
    "dfEthPrice = pd.read_csv(pathInputDir_Currency + EthPrice, delimiter=',', dtype='str',header=0)\n",
    "dfEthSupply = pd.read_csv(pathInputDir_Currency + EthSupply, delimiter=',', dtype='str',header=0)\n",
    "dfEthMarketCap = pd.read_csv(pathInputDir_Currency + EthMarketCap, delimiter=',', dtype='str',header=0)\n",
    "\n",
    "# General Information\n",
    "pathInputDir_General = pathInputDir +\"/General Information/\"\n",
    "AddressCount = \"export-AddressCount.csv\"\n",
    "TxGrowth = \"export-TxGrowth.csv\"\n",
    "\n",
    "dfAddressCount = pd.read_csv(pathInputDir_General + AddressCount, delimiter=',', dtype='str',header=0)\n",
    "dfTxGrowth = pd.read_csv(pathInputDir_General + TxGrowth, delimiter=',', dtype='str',header=0)\n",
    "\n",
    "# Network Information\n",
    "pathInputDir_Network = pathInputDir +\"/Network Information/\"\n",
    "Difficulty = \"export-BlockDifficulty.csv\"\n",
    "NetworkHash = \"export-NetworkHash.csv\"\n",
    "NetworkUtilization = \"export-NetworkUtilization.csv\"\n",
    "PendingQueue = \"export-PendingQueue.csv\"\n",
    "TransactionFee = \"export-TransactionFee.csv\"\n",
    "\n",
    "dfDifficulty = pd.read_csv(pathInputDir_Network + Difficulty, delimiter=',', dtype='str',header=0)\n",
    "dfNetworkHash = pd.read_csv(pathInputDir_Network + NetworkHash, delimiter=',', dtype='str',header=0)\n",
    "dfNetworkUtilization = pd.read_csv(pathInputDir_Network + NetworkUtilization, delimiter=',', dtype='str',header=0)\n",
    "dfPendingQueue = pd.read_csv(pathInputDir_Network + PendingQueue, delimiter=',', dtype='str',header=0)\n",
    "dfTransactionFee = pd.read_csv(pathInputDir_Network + TransactionFee, delimiter=',', dtype='str',header=0)\n",
    "\n",
    "\n",
    "# Blockchain Information\n",
    "pathInputDir_Blockchain = pathInputDir +\"/Blockchain Information/\"\n",
    "AvgGasPrice = \"export-AvgGasPrice.csv\"\n",
    "BlockCountReward = \"export-BlockCountRewards.csv\"\n",
    "BlockSize = \"export-BlockSize.csv\"\n",
    "BlockTime = \"export-BlockTime.csv\"\n",
    "Ethersupply = \"export-Ethersupply.csv\"\n",
    "GasLimit = \"export-GasLimit.csv\"\n",
    "GasUsed = \"export-GasUsed.csv\"\n",
    "Uncles = \"export-Uncles.csv\"\n",
    "\n",
    "dfAvgGasPrice = pd.read_csv(pathInputDir_Blockchain + AvgGasPrice, delimiter=',', dtype='str',header=0)\n",
    "dfBlockCountReward = pd.read_csv(pathInputDir_Blockchain + BlockCountReward, delimiter=',', dtype='str',header=0)\n",
    "dfBlockSize = pd.read_csv(pathInputDir_Blockchain + BlockSize, delimiter=',', dtype='str',header=0)\n",
    "dfBlockTime = pd.read_csv(pathInputDir_Blockchain + BlockTime, delimiter=',', dtype='str',header=0)\n",
    "dfEthersupply = pd.read_csv(pathInputDir_Blockchain + Ethersupply, delimiter=',', dtype='str',header=0)\n",
    "dfGasLimit = pd.read_csv(pathInputDir_Blockchain + GasLimit, delimiter=',', dtype='str',header=0)\n",
    "dfGasUsed = pd.read_csv(pathInputDir_Blockchain + GasUsed, delimiter=',', dtype='str',header=0)\n",
    "dfUncles = pd.read_csv(pathInputDir_Blockchain + Uncles, delimiter=',', dtype='str', header=0)\n",
    "\n",
    "# Bitcoin Price\n",
    "pathInputDir_Bitcoin = pathInputDir +\"/bitcoin/\"\n",
    "BTCPrice = \"market-price-bitcoin.csv\"\n",
    "\n",
    "dfBTCPrice = pd.read_csv(pathInputDir_Bitcoin + BTCPrice, delimiter=',', dtype='str',names=[\"Date\",\"BTC_Price\"])\n",
    "\n",
    "\n",
    "dfEthersupply.tail()"
   ]
  },
  {
   "cell_type": "code",
   "execution_count": 43,
   "metadata": {},
   "outputs": [],
   "source": [
    "# Read Files and prepare data frames\n",
    "\n",
    "price_df = pd.read_csv(\"../Data Source/export-EtherPrice.csv\", header=0)\n",
    "price_df.rename(index=str, columns={\"Value\": \"Price\"},inplace=True)\n",
    "\n",
    "address_df = pd.read_csv(\"../Data Source/export-AddressCount.csv\", header=0)\n",
    "address_df.rename(index=str, columns={\"Value\": \"Address\"},inplace=True)\n",
    "address_df.drop(columns=['Date(UTC)'],inplace=True)\n",
    "\n",
    "supply_df = pd.read_csv(\"../Data Source/export-Ethersupply2.csv\", header=0)\n",
    "supply_df.rename(index=str, columns={\"Value\": \"Supply\"},inplace=True)\n",
    "supply_df.drop(columns=['Date(UTC)'],inplace=True)\n",
    "\n",
    "hash_df = pd.read_csv(\"../Data Source/export-NetworkHash.csv\", header=0)\n",
    "hash_df.rename(index=str, columns={\"Value\": \"Hash\"},inplace=True)\n",
    "hash_df.drop(columns=['Date(UTC)'],inplace=True)\n",
    "\n",
    "fee_df = pd.read_csv(\"../Data Source/export-TransactionFee.csv\", header=0)\n",
    "fee_df.rename(index=str, columns={\"Value\": \"Fee\"},inplace=True)\n",
    "fee_df.drop(columns=['Date(UTC)'],inplace=True)\n",
    "\n",
    "growth_df = pd.read_csv(\"../Data Source/export-TxGrowth.csv\", header=0)\n",
    "growth_df.rename(index=str, columns={\"Value\": \"Growth\"},inplace=True)\n",
    "growth_df.drop(columns=['Date(UTC)'],inplace=True)"
   ]
  },
  {
   "cell_type": "code",
   "execution_count": 46,
   "metadata": {},
   "outputs": [
    {
     "data": {
      "text/html": [
       "<div>\n",
       "<style scoped>\n",
       "    .dataframe tbody tr th:only-of-type {\n",
       "        vertical-align: middle;\n",
       "    }\n",
       "\n",
       "    .dataframe tbody tr th {\n",
       "        vertical-align: top;\n",
       "    }\n",
       "\n",
       "    .dataframe thead th {\n",
       "        text-align: right;\n",
       "    }\n",
       "</style>\n",
       "<table border=\"1\" class=\"dataframe\">\n",
       "  <thead>\n",
       "    <tr style=\"text-align: right;\">\n",
       "      <th></th>\n",
       "      <th>Date(UTC)</th>\n",
       "      <th>UnixTimeStamp</th>\n",
       "      <th>Price</th>\n",
       "      <th>Address</th>\n",
       "      <th>Supply</th>\n",
       "      <th>Hash</th>\n",
       "      <th>Fee</th>\n",
       "      <th>Growth</th>\n",
       "    </tr>\n",
       "  </thead>\n",
       "  <tbody>\n",
       "    <tr>\n",
       "      <th>0</th>\n",
       "      <td>7/30/2015</td>\n",
       "      <td>1438214400</td>\n",
       "      <td>0.0</td>\n",
       "      <td>9205</td>\n",
       "      <td>7.204931e+07</td>\n",
       "      <td>11.5297</td>\n",
       "      <td>0</td>\n",
       "      <td>8893</td>\n",
       "    </tr>\n",
       "    <tr>\n",
       "      <th>1</th>\n",
       "      <td>7/31/2015</td>\n",
       "      <td>1438300800</td>\n",
       "      <td>0.0</td>\n",
       "      <td>9361</td>\n",
       "      <td>7.208550e+07</td>\n",
       "      <td>51.4594</td>\n",
       "      <td>0</td>\n",
       "      <td>0</td>\n",
       "    </tr>\n",
       "    <tr>\n",
       "      <th>2</th>\n",
       "      <td>8/1/2015</td>\n",
       "      <td>1438387200</td>\n",
       "      <td>0.0</td>\n",
       "      <td>9476</td>\n",
       "      <td>7.211320e+07</td>\n",
       "      <td>57.7845</td>\n",
       "      <td>0</td>\n",
       "      <td>0</td>\n",
       "    </tr>\n",
       "    <tr>\n",
       "      <th>3</th>\n",
       "      <td>8/2/2015</td>\n",
       "      <td>1438473600</td>\n",
       "      <td>0.0</td>\n",
       "      <td>9563</td>\n",
       "      <td>7.214143e+07</td>\n",
       "      <td>67.9224</td>\n",
       "      <td>0</td>\n",
       "      <td>0</td>\n",
       "    </tr>\n",
       "    <tr>\n",
       "      <th>4</th>\n",
       "      <td>8/3/2015</td>\n",
       "      <td>1438560000</td>\n",
       "      <td>0.0</td>\n",
       "      <td>9639</td>\n",
       "      <td>7.216940e+07</td>\n",
       "      <td>74.5737</td>\n",
       "      <td>0</td>\n",
       "      <td>0</td>\n",
       "    </tr>\n",
       "  </tbody>\n",
       "</table>\n",
       "</div>"
      ],
      "text/plain": [
       "   Date(UTC)  UnixTimeStamp  Price  Address        Supply     Hash Fee  Growth\n",
       "0  7/30/2015     1438214400    0.0     9205  7.204931e+07  11.5297   0    8893\n",
       "1  7/31/2015     1438300800    0.0     9361  7.208550e+07  51.4594   0       0\n",
       "2   8/1/2015     1438387200    0.0     9476  7.211320e+07  57.7845   0       0\n",
       "3   8/2/2015     1438473600    0.0     9563  7.214143e+07  67.9224   0       0\n",
       "4   8/3/2015     1438560000    0.0     9639  7.216940e+07  74.5737   0       0"
      ]
     },
     "execution_count": 46,
     "metadata": {},
     "output_type": "execute_result"
    }
   ],
   "source": [
    "# Merge Data on TimeStamp to create data source\n",
    "\n",
    "source_df = price_df.merge(address_df, left_on = 'UnixTimeStamp',right_on='UnixTimeStamp',how='inner')\n",
    "source_df = source_df.merge(supply_df, left_on = 'UnixTimeStamp',right_on='UnixTimeStamp',how='inner')\n",
    "source_df = source_df.merge(hash_df, left_on = 'UnixTimeStamp',right_on='UnixTimeStamp',how='inner')\n",
    "source_df = source_df.merge(fee_df, left_on = 'UnixTimeStamp',right_on='UnixTimeStamp',how='inner')\n",
    "source_df = source_df.merge(growth_df, left_on = 'UnixTimeStamp',right_on='UnixTimeStamp',how='inner')\n",
    "source_df.head()"
   ]
  },
  {
   "cell_type": "code",
   "execution_count": 47,
   "metadata": {},
   "outputs": [
    {
     "data": {
      "text/html": [
       "<div>\n",
       "<style scoped>\n",
       "    .dataframe tbody tr th:only-of-type {\n",
       "        vertical-align: middle;\n",
       "    }\n",
       "\n",
       "    .dataframe tbody tr th {\n",
       "        vertical-align: top;\n",
       "    }\n",
       "\n",
       "    .dataframe thead th {\n",
       "        text-align: right;\n",
       "    }\n",
       "</style>\n",
       "<table border=\"1\" class=\"dataframe\">\n",
       "  <thead>\n",
       "    <tr style=\"text-align: right;\">\n",
       "      <th></th>\n",
       "      <th>UnixTimeStamp</th>\n",
       "      <th>Price</th>\n",
       "      <th>Address</th>\n",
       "      <th>Supply</th>\n",
       "      <th>Hash</th>\n",
       "      <th>Growth</th>\n",
       "    </tr>\n",
       "  </thead>\n",
       "  <tbody>\n",
       "    <tr>\n",
       "      <th>count</th>\n",
       "      <td>1.413000e+03</td>\n",
       "      <td>1413.000000</td>\n",
       "      <td>1.413000e+03</td>\n",
       "      <td>1.413000e+03</td>\n",
       "      <td>1413.000000</td>\n",
       "      <td>1.413000e+03</td>\n",
       "    </tr>\n",
       "    <tr>\n",
       "      <th>mean</th>\n",
       "      <td>1.499213e+09</td>\n",
       "      <td>202.815768</td>\n",
       "      <td>1.846760e+07</td>\n",
       "      <td>9.121900e+07</td>\n",
       "      <td>99640.305667</td>\n",
       "      <td>3.330594e+05</td>\n",
       "    </tr>\n",
       "    <tr>\n",
       "      <th>std</th>\n",
       "      <td>3.525485e+07</td>\n",
       "      <td>257.308332</td>\n",
       "      <td>2.238519e+07</td>\n",
       "      <td>1.036681e+07</td>\n",
       "      <td>103961.409129</td>\n",
       "      <td>3.188973e+05</td>\n",
       "    </tr>\n",
       "    <tr>\n",
       "      <th>min</th>\n",
       "      <td>1.438214e+09</td>\n",
       "      <td>0.000000</td>\n",
       "      <td>9.205000e+03</td>\n",
       "      <td>7.204931e+07</td>\n",
       "      <td>11.529700</td>\n",
       "      <td>0.000000e+00</td>\n",
       "    </tr>\n",
       "    <tr>\n",
       "      <th>25%</th>\n",
       "      <td>1.468714e+09</td>\n",
       "      <td>10.710000</td>\n",
       "      <td>4.496270e+05</td>\n",
       "      <td>8.208649e+07</td>\n",
       "      <td>4230.692900</td>\n",
       "      <td>4.081100e+04</td>\n",
       "    </tr>\n",
       "    <tr>\n",
       "      <th>50%</th>\n",
       "      <td>1.499213e+09</td>\n",
       "      <td>118.910000</td>\n",
       "      <td>4.060181e+06</td>\n",
       "      <td>9.305860e+07</td>\n",
       "      <td>65978.513700</td>\n",
       "      <td>2.493810e+05</td>\n",
       "    </tr>\n",
       "    <tr>\n",
       "      <th>75%</th>\n",
       "      <td>1.529712e+09</td>\n",
       "      <td>296.620000</td>\n",
       "      <td>3.966326e+07</td>\n",
       "      <td>1.002636e+08</td>\n",
       "      <td>180043.865700</td>\n",
       "      <td>5.932030e+05</td>\n",
       "    </tr>\n",
       "    <tr>\n",
       "      <th>max</th>\n",
       "      <td>1.560211e+09</td>\n",
       "      <td>1385.020000</td>\n",
       "      <td>6.718279e+07</td>\n",
       "      <td>1.064518e+08</td>\n",
       "      <td>295911.997400</td>\n",
       "      <td>1.349890e+06</td>\n",
       "    </tr>\n",
       "  </tbody>\n",
       "</table>\n",
       "</div>"
      ],
      "text/plain": [
       "       UnixTimeStamp        Price       Address        Supply           Hash  \\\n",
       "count   1.413000e+03  1413.000000  1.413000e+03  1.413000e+03    1413.000000   \n",
       "mean    1.499213e+09   202.815768  1.846760e+07  9.121900e+07   99640.305667   \n",
       "std     3.525485e+07   257.308332  2.238519e+07  1.036681e+07  103961.409129   \n",
       "min     1.438214e+09     0.000000  9.205000e+03  7.204931e+07      11.529700   \n",
       "25%     1.468714e+09    10.710000  4.496270e+05  8.208649e+07    4230.692900   \n",
       "50%     1.499213e+09   118.910000  4.060181e+06  9.305860e+07   65978.513700   \n",
       "75%     1.529712e+09   296.620000  3.966326e+07  1.002636e+08  180043.865700   \n",
       "max     1.560211e+09  1385.020000  6.718279e+07  1.064518e+08  295911.997400   \n",
       "\n",
       "             Growth  \n",
       "count  1.413000e+03  \n",
       "mean   3.330594e+05  \n",
       "std    3.188973e+05  \n",
       "min    0.000000e+00  \n",
       "25%    4.081100e+04  \n",
       "50%    2.493810e+05  \n",
       "75%    5.932030e+05  \n",
       "max    1.349890e+06  "
      ]
     },
     "execution_count": 47,
     "metadata": {},
     "output_type": "execute_result"
    }
   ],
   "source": [
    "source_df.describe()"
   ]
  },
  {
   "cell_type": "code",
   "execution_count": 48,
   "metadata": {},
   "outputs": [
    {
     "name": "stdout",
     "output_type": "stream",
     "text": [
      "<class 'pandas.core.frame.DataFrame'>\n",
      "Int64Index: 1413 entries, 0 to 1412\n",
      "Data columns (total 8 columns):\n",
      "Date(UTC)        1413 non-null object\n",
      "UnixTimeStamp    1413 non-null int64\n",
      "Price            1413 non-null float64\n",
      "Address          1413 non-null int64\n",
      "Supply           1413 non-null float64\n",
      "Hash             1413 non-null float64\n",
      "Fee              1413 non-null object\n",
      "Growth           1413 non-null int64\n",
      "dtypes: float64(3), int64(3), object(2)\n",
      "memory usage: 99.4+ KB\n"
     ]
    }
   ],
   "source": [
    "source_df.info()"
   ]
  },
  {
   "cell_type": "code",
   "execution_count": 50,
   "metadata": {},
   "outputs": [
    {
     "data": {
      "text/plain": [
       "[<matplotlib.lines.Line2D at 0x1a15706860>]"
      ]
     },
     "execution_count": 50,
     "metadata": {},
     "output_type": "execute_result"
    },
    {
     "data": {
      "image/png": "[encoded data removed]",
      "text/plain": [
       "<Figure size 432x288 with 1 Axes>"
      ]
     },
     "metadata": {
      "needs_background": "light"
     },
     "output_type": "display_data"
    }
   ],
   "source": [
    "plt.plot(source_df['Price'], source_df['Fee'], 'ro')"
   ]
  },
  {
   "cell_type": "code",
   "execution_count": 53,
   "metadata": {},
   "outputs": [
    {
     "data": {
      "text/plain": [
       "<matplotlib.axes._subplots.AxesSubplot at 0x1a164b3fd0>"
      ]
     },
     "execution_count": 53,
     "metadata": {},
     "output_type": "execute_result"
    },
    {
     "data": {
      "image/png": "[encoded data removed]",
      "text/plain": [
       "<Figure size 432x288 with 1 Axes>"
      ]
     },
     "metadata": {
      "needs_background": "light"
     },
     "output_type": "display_data"
    }
   ],
   "source": [
    "source_df['Price'].hist(bins=20)"
   ]
  },
  {
   "cell_type": "code",
   "execution_count": null,
   "metadata": {},
   "outputs": [],
   "source": []
  },
  {
   "cell_type": "code",
   "execution_count": null,
   "metadata": {},
   "outputs": [],
   "source": []
  },
  {
   "cell_type": "code",
   "execution_count": null,
   "metadata": {},
   "outputs": [],
   "source": []
  },
  {
   "cell_type": "code",
   "execution_count": null,
   "metadata": {},
   "outputs": [],
   "source": []
  },
  {
   "cell_type": "code",
   "execution_count": null,
   "metadata": {},
   "outputs": [],
   "source": []
  },
  {
   "cell_type": "code",
   "execution_count": null,
   "metadata": {},
   "outputs": [],
   "source": []
  }
 ],
 "metadata": {
  "kernelspec": {
   "display_name": "Python 3",
   "language": "python",
   "name": "python3"
  },
  "language_info": {
   "codemirror_mode": {
    "name": "ipython",
    "version": 3
   },
   "file_extension": ".py",
   "mimetype": "text/x-python",
   "name": "python",
   "nbconvert_exporter": "python",
   "pygments_lexer": "ipython3",
   "version": "3.6.8"
  }
 },
 "nbformat": 4,
 "nbformat_minor": 4
}
