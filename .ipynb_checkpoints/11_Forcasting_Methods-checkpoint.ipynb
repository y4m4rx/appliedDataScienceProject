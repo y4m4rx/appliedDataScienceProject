{
 "cells": [
  {
   "cell_type": "markdown",
   "metadata": {},
   "source": [
    "# 11 Classical Time Series Forecasting Methods in Python\n",
    "Based on: https://machinelearningmastery.com/time-series-forecasting-methods-in-python-cheat-sheet/\n",
    "\n",
    "1. Autoregression (AR)\n",
    "2. Moving Average (MA)\n",
    "3. Autoregressive Moving Average (ARMA)\n",
    "4. Autoregressive Integrated Moving Average (ARIMA)\n",
    "5. Seasonal Autoregressive Integrated Moving-Average (SARIMA)\n",
    "6. Seasonal Autoregressive Integrated Moving-Average with Exogenous Regressors (SARIMAX)\n",
    "7. Vector Autoregression (VAR)\n",
    "8. Vector Autoregression Moving-Average (VARMA)\n",
    "9. Vector Autoregression Moving-Average with Exogenous Regressors (VARMAX)\n",
    "10. Simple Exponential Smoothing (SES)\n",
    "11. Holt Winter’s Exponential Smoothing (HWES)"
   ]
  },
  {
   "cell_type": "code",
   "execution_count": 3,
   "metadata": {},
   "outputs": [],
   "source": [
    "import pandas as pd\n",
    "import gc\n",
    "import datetime as dt\n",
    "import csv\n",
    "pd.options.display.max_columns = None\n",
    "pd.options.display.max_rows = None\n",
    "\n",
    "## Article Librarys ##\n",
    "import warnings\n",
    "import itertools\n",
    "import numpy as np\n",
    "import matplotlib.pyplot as plt\n",
    "warnings.filterwarnings(\"ignore\")\n",
    "plt.style.use('fivethirtyeight')\n",
    "import statsmodels.api as sm\n",
    "import matplotlib\n",
    "\n",
    "## Diagram design ##\n",
    "matplotlib.rcParams['axes.labelsize'] = 14\n",
    "matplotlib.rcParams['xtick.labelsize'] = 12\n",
    "matplotlib.rcParams['ytick.labelsize'] = 12\n",
    "matplotlib.rcParams['text.color'] = 'k'\n",
    "matplotlib.rcParams['lines.linewidth'] = 1"
   ]
  },
  {
   "cell_type": "code",
   "execution_count": 4,
   "metadata": {},
   "outputs": [
    {
     "data": {
      "text/html": [
       "<div>\n",
       "<style scoped>\n",
       "    .dataframe tbody tr th:only-of-type {\n",
       "        vertical-align: middle;\n",
       "    }\n",
       "\n",
       "    .dataframe tbody tr th {\n",
       "        vertical-align: top;\n",
       "    }\n",
       "\n",
       "    .dataframe thead th {\n",
       "        text-align: right;\n",
       "    }\n",
       "</style>\n",
       "<table border=\"1\" class=\"dataframe\">\n",
       "  <thead>\n",
       "    <tr style=\"text-align: right;\">\n",
       "      <th></th>\n",
       "      <th>Date(UTC)</th>\n",
       "      <th>UnixTimeStamp</th>\n",
       "      <th>Value</th>\n",
       "    </tr>\n",
       "  </thead>\n",
       "  <tbody>\n",
       "    <tr>\n",
       "      <th>0</th>\n",
       "      <td>7/30/2015</td>\n",
       "      <td>1438214400</td>\n",
       "      <td>0.00</td>\n",
       "    </tr>\n",
       "    <tr>\n",
       "      <th>1</th>\n",
       "      <td>7/31/2015</td>\n",
       "      <td>1438300800</td>\n",
       "      <td>0.00</td>\n",
       "    </tr>\n",
       "    <tr>\n",
       "      <th>2</th>\n",
       "      <td>8/1/2015</td>\n",
       "      <td>1438387200</td>\n",
       "      <td>0.00</td>\n",
       "    </tr>\n",
       "    <tr>\n",
       "      <th>3</th>\n",
       "      <td>8/2/2015</td>\n",
       "      <td>1438473600</td>\n",
       "      <td>0.00</td>\n",
       "    </tr>\n",
       "    <tr>\n",
       "      <th>4</th>\n",
       "      <td>8/3/2015</td>\n",
       "      <td>1438560000</td>\n",
       "      <td>0.00</td>\n",
       "    </tr>\n",
       "  </tbody>\n",
       "</table>\n",
       "</div>"
      ],
      "text/plain": [
       "   Date(UTC) UnixTimeStamp Value\n",
       "0  7/30/2015    1438214400  0.00\n",
       "1  7/31/2015    1438300800  0.00\n",
       "2   8/1/2015    1438387200  0.00\n",
       "3   8/2/2015    1438473600  0.00\n",
       "4   8/3/2015    1438560000  0.00"
      ]
     },
     "execution_count": 4,
     "metadata": {},
     "output_type": "execute_result"
    }
   ],
   "source": [
    "# Reading Data\n",
    "pathInputDir = \"C:/Users/yasin.marx/Desktop/Ethereum Forcasting/\"\n",
    "\n",
    "nameInputFilePrice = \"export-EtherPrice.csv\"\n",
    "nameInputFileNetworkUtilization = \"export-NetworkUtilization.csv\"\n",
    "nameInputFileTxGrowth = \"export-TxGrowth.csv\"\n",
    "\n",
    "dfprice = pd.read_csv(pathInputDir + nameInputFilePrice, delimiter=',', dtype='str')\n",
    "dfNetwork = pd.read_csv(pathInputDir + nameInputFileNetworkUtilization, delimiter=',', dtype='str')\n",
    "dfAdress = pd.read_csv(pathInputDir + nameInputFileTxGrowth, delimiter=',', dtype='str')\n",
    "\n",
    "dfprice.head()"
   ]
  },
  {
   "cell_type": "code",
   "execution_count": 5,
   "metadata": {},
   "outputs": [
    {
     "name": "stdout",
     "output_type": "stream",
     "text": [
      "UnixTimeStamp    0\n",
      "Value            0\n",
      "dtype: int64\n"
     ]
    },
    {
     "data": {
      "text/html": [
       "<div>\n",
       "<style scoped>\n",
       "    .dataframe tbody tr th:only-of-type {\n",
       "        vertical-align: middle;\n",
       "    }\n",
       "\n",
       "    .dataframe tbody tr th {\n",
       "        vertical-align: top;\n",
       "    }\n",
       "\n",
       "    .dataframe thead th {\n",
       "        text-align: right;\n",
       "    }\n",
       "</style>\n",
       "<table border=\"1\" class=\"dataframe\">\n",
       "  <thead>\n",
       "    <tr style=\"text-align: right;\">\n",
       "      <th></th>\n",
       "      <th>UnixTimeStamp</th>\n",
       "      <th>Value</th>\n",
       "    </tr>\n",
       "  </thead>\n",
       "  <tbody>\n",
       "    <tr>\n",
       "      <th>0</th>\n",
       "      <td>2015-07-30</td>\n",
       "      <td>0.0</td>\n",
       "    </tr>\n",
       "    <tr>\n",
       "      <th>1</th>\n",
       "      <td>2015-07-31</td>\n",
       "      <td>0.0</td>\n",
       "    </tr>\n",
       "    <tr>\n",
       "      <th>2</th>\n",
       "      <td>2015-08-01</td>\n",
       "      <td>0.0</td>\n",
       "    </tr>\n",
       "    <tr>\n",
       "      <th>3</th>\n",
       "      <td>2015-08-02</td>\n",
       "      <td>0.0</td>\n",
       "    </tr>\n",
       "    <tr>\n",
       "      <th>4</th>\n",
       "      <td>2015-08-03</td>\n",
       "      <td>0.0</td>\n",
       "    </tr>\n",
       "  </tbody>\n",
       "</table>\n",
       "</div>"
      ],
      "text/plain": [
       "  UnixTimeStamp  Value\n",
       "0    2015-07-30    0.0\n",
       "1    2015-07-31    0.0\n",
       "2    2015-08-01    0.0\n",
       "3    2015-08-02    0.0\n",
       "4    2015-08-03    0.0"
      ]
     },
     "execution_count": 5,
     "metadata": {},
     "output_type": "execute_result"
    }
   ],
   "source": [
    "# Data Preperation\n",
    "#Droping columns not needed\n",
    "cols = [\"Date(UTC)\"]\n",
    "dfprice.drop(cols,axis=1, inplace=True)\n",
    "print(dfprice.isnull().sum()) # Checking for Missing Values\n",
    "\n",
    "#Transforming Unixtimestamp\n",
    "dfprice[\"UnixTimeStamp\"] = dfprice[\"UnixTimeStamp\"].apply(lambda x: pd.to_datetime(x, unit='s'))\n",
    "\n",
    "#Casting float to Value\n",
    "\n",
    "dfprice[\"Value\"] = dfprice[\"Value\"].apply(lambda x: pd.to_numeric(x, downcast='float'))\n",
    "\n",
    "dfprice = dfprice.groupby('UnixTimeStamp')['Value'].sum().reset_index()\n",
    "\n",
    "dfprice.head()"
   ]
  },
  {
   "cell_type": "markdown",
   "metadata": {},
   "source": [
    "# 1. Autoregression (AR)\n",
    "## Description:\n",
    "The autoregression (AR) method models the next step in the sequence as a linear function of the observations at prior time steps.\n",
    "The notation for the model involves specifying the order of the model p as a parameter to the AR function, e.g. AR(p). For example, AR(1) is a first-order autoregression model.\n",
    "The method is suitable for univariate time series without trend and seasonal components.\n",
    "\n",
    "## More Information:\n",
    "- statsmodels.tsa.ar_model.AR API (http://www.statsmodels.org/dev/generated/statsmodels.tsa.ar_model.AR.html)\n",
    "- statsmodels.tsa.ar_model.ARResults API (http://www.statsmodels.org/dev/generated/statsmodels.tsa.ar_model.ARResults.html)\n",
    "- Autoregressive model on Wikipedia (https://en.wikipedia.org/wiki/Autoregressive_model)\n"
   ]
  },
  {
   "cell_type": "code",
   "execution_count": 16,
   "metadata": {},
   "outputs": [
    {
     "name": "stdout",
     "output_type": "stream",
     "text": [
      "[100.42842561]\n"
     ]
    }
   ],
   "source": [
    "# AR example\n",
    "from statsmodels.tsa.ar_model import AR\n",
    "from random import random\n",
    "# contrived dataset\n",
    "data = [x + random() for x in range(1, 100)]\n",
    "# fit model\n",
    "model = AR(data)\n",
    "model_fit = model.fit()\n",
    "# make prediction\n",
    "yhat = model_fit.predict(len(data), len(data))\n",
    "print(yhat)"
   ]
  },
  {
   "cell_type": "markdown",
   "metadata": {},
   "source": [
    "# 2. Moving Average (MA)\n",
    "## Description: \n",
    "The moving average (MA) method models the next step in the sequence as a linear function of the residual errors from a mean process at prior time steps.\n",
    "A moving average model is different from calculating the moving average of the time series.\n",
    "The notation for the model involves specifying the order of the model q as a parameter to the MA function, e.g. MA(q). For example, MA(1) is a first-order moving average model.\n",
    "The method is suitable for univariate time series without trend and seasonal components.\n",
    "\n",
    "## More Information:\n",
    "- statsmodels.tsa.arima_model.ARMA API (http://www.statsmodels.org/dev/generated/statsmodels.tsa.arima_model.ARMA.html)\n",
    "- statsmodels.tsa.arima_model.ARMAResults API(http://www.statsmodels.org/dev/generated/statsmodels.tsa.arima_model.ARMAResults.html)\n",
    "- Moving-average model on Wikipedia (https://en.wikipedia.org/wiki/Moving-average_model)"
   ]
  },
  {
   "cell_type": "code",
   "execution_count": 28,
   "metadata": {},
   "outputs": [
    {
     "name": "stdout",
     "output_type": "stream",
     "text": [
      "[72.21082506]\n"
     ]
    }
   ],
   "source": [
    "# We can use the ARMA class to create an MA model and setting a zeroth-order AR model. We must specify the order of the MA model in the order argument.\n",
    "# MA example\n",
    "from statsmodels.tsa.arima_model import ARMA\n",
    "from random import random\n",
    "# contrived dataset\n",
    "data = [x + random() for x in range(1, 100)]\n",
    "# fit model\n",
    "model = ARMA(data, order=(0, 1))\n",
    "model_fit = model.fit(disp=False)\n",
    "# make prediction\n",
    "yhat = model_fit.predict(len(data), len(data))\n",
    "print(yhat)"
   ]
  },
  {
   "cell_type": "markdown",
   "metadata": {},
   "source": [
    "# 3. Autoregressive Moving Average (ARMA)\n",
    "## Description: \n",
    "The Autoregressive Moving Average (ARMA) method models the next step in the sequence as a linear function of the observations and resiudal errors at prior time steps.\n",
    "It combines both Autoregression (AR) and Moving Average (MA) models.\n",
    "The notation for the model involves specifying the order for the AR(p) and MA(q) models as parameters to an ARMA function, e.g. ARMA(p, q). An ARIMA model can be used to develop AR or MA models.\n",
    "The method is suitable for univariate time series without trend and seasonal components.\n",
    "\n",
    "## More Information:\n",
    "- statsmodels.tsa.arima_model.ARMA API (http://www.statsmodels.org/dev/generated/statsmodels.tsa.arima_model.ARMA.html)\n",
    "- statsmodels.tsa.arima_model.ARMAResults API(http://www.statsmodels.org/dev/generated/statsmodels.tsa.arima_model.ARMAResults.html)\n",
    "- Autoregressive–moving-average model on Wikipedia (https://en.wikipedia.org/wiki/Autoregressive%E2%80%93moving-average_model)"
   ]
  },
  {
   "cell_type": "code",
   "execution_count": 29,
   "metadata": {},
   "outputs": [
    {
     "name": "stdout",
     "output_type": "stream",
     "text": [
      "[0.53261157]\n"
     ]
    }
   ],
   "source": [
    "# ARMA example\n",
    "from statsmodels.tsa.arima_model import ARMA\n",
    "from random import random\n",
    "# contrived dataset\n",
    "data = [random() for x in range(1, 100)]\n",
    "# fit model\n",
    "model = ARMA(data, order=(2, 1))\n",
    "model_fit = model.fit(disp=False)\n",
    "# make prediction\n",
    "yhat = model_fit.predict(len(data), len(data))\n",
    "print(yhat)"
   ]
  },
  {
   "cell_type": "markdown",
   "metadata": {},
   "source": [
    "# 4. Autoregressive Integrated Moving Average (ARIMA)\n",
    "## Description: \n",
    "The Autoregressive Integrated Moving Average (ARIMA) method models the next step in the sequence as a linear function of the differenced observations and residual errors at prior time steps.\n",
    "It combines both Autoregression (AR) and Moving Average (MA) models as well as a differencing pre-processing step of the sequence to make the sequence stationary, called integration (I).\n",
    "The notation for the model involves specifying the order for the AR(p), I(d), and MA(q) models as parameters to an ARIMA function, e.g. ARIMA(p, d, q). An ARIMA model can also be used to develop AR, MA, and ARMA models.\n",
    "The method is suitable for univariate time series with trend and without seasonal components.\n",
    "\n",
    "## More Information:\n",
    "- statsmodels.tsa.arima_model.ARIMA API (http://www.statsmodels.org/dev/generated/statsmodels.tsa.arima_model.ARIMA.html#statsmodels.tsa.arima_model.ARIMA)\n",
    "- statsmodels.tsa.arima_model.ARIMAResults API (http://www.statsmodels.org/dev/generated/statsmodels.tsa.arima_model.ARIMAResults.html)\n",
    "- Autoregressive integrated moving average on Wikipedia (https://en.wikipedia.org/wiki/Autoregressive_integrated_moving_average)"
   ]
  },
  {
   "cell_type": "code",
   "execution_count": 30,
   "metadata": {},
   "outputs": [
    {
     "name": "stdout",
     "output_type": "stream",
     "text": [
      "[100.50578129]\n"
     ]
    }
   ],
   "source": [
    "# ARIMA example\n",
    "from statsmodels.tsa.arima_model import ARIMA\n",
    "from random import random\n",
    "# contrived dataset\n",
    "data = [x + random() for x in range(1, 100)]\n",
    "# fit model\n",
    "model = ARIMA(data, order=(1, 1, 1))\n",
    "model_fit = model.fit(disp=False)\n",
    "# make prediction\n",
    "yhat = model_fit.predict(len(data), len(data), typ='levels')\n",
    "print(yhat)"
   ]
  },
  {
   "cell_type": "markdown",
   "metadata": {},
   "source": [
    "# 5. Seasonal Autoregressive Integrated Moving-Average (SARIMA)\n",
    "## Description: \n",
    "The Seasonal Autoregressive Integrated Moving Average (SARIMA) method models the next step in the sequence as a linear function of the differenced observations, errors, differenced seasonal observations, and seasonal errors at prior time steps.\n",
    "It combines the ARIMA model with the ability to perform the same autoregression, differencing, and moving average modeling at the seasonal level.\n",
    "The notation for the model involves specifying the order for the AR(p), I(d), and MA(q) models as parameters to an ARIMA function and AR(P), I(D), MA(Q) and m parameters at the seasonal level, e.g. SARIMA(p, d, q)(P, D, Q)m where “m” is the number of time steps in each season (the seasonal period). A SARIMA model can be used to develop AR, MA, ARMA and ARIMA models.\n",
    "The method is suitable for univariate time series with trend and/or seasonal components.\n",
    "\n",
    "## More Information:\n",
    "- statsmodels.tsa.statespace.sarimax.SARIMAX API (http://www.statsmodels.org/dev/generated/statsmodels.tsa.statespace.sarimax.SARIMAX.html)\n",
    "- statsmodels.tsa.statespace.sarimax.SARIMAXResults API (http://www.statsmodels.org/dev/generated/statsmodels.tsa.statespace.sarimax.SARIMAXResults.html)\n",
    "- Autoregressive integrated moving average on Wikipedia (https://en.wikipedia.org/wiki/Autoregressive_integrated_moving_average)\n",
    "- General Introduction (SARIMA) (https://machinelearningmastery.com/sarima-for-time-series-forecasting-in-python/)"
   ]
  },
  {
   "cell_type": "code",
   "execution_count": 31,
   "metadata": {},
   "outputs": [
    {
     "name": "stdout",
     "output_type": "stream",
     "text": [
      "[100.38886081]\n"
     ]
    }
   ],
   "source": [
    "# SARIMA example\n",
    "from statsmodels.tsa.statespace.sarimax import SARIMAX\n",
    "from random import random\n",
    "# contrived dataset\n",
    "data = [x + random() for x in range(1, 100)]\n",
    "# fit model\n",
    "model = SARIMAX(data, order=(1, 1, 1), seasonal_order=(1, 1, 1, 1))\n",
    "model_fit = model.fit(disp=False)\n",
    "# make prediction\n",
    "yhat = model_fit.predict(len(data), len(data))\n",
    "print(yhat)"
   ]
  },
  {
   "cell_type": "markdown",
   "metadata": {},
   "source": [
    "# 6. Seasonal Autoregressive Integrated Moving-Average with Exogenous Regressors (SARIMAX)\n",
    "## Description: \n",
    "The Seasonal Autoregressive Integrated Moving-Average with Exogenous Regressors (SARIMAX) is an extension of the SARIMA model that also includes the modeling of exogenous variables.\n",
    "Exogenous variables are also called covariates and can be thought of as parallel input sequences that have observations at the same time steps as the original series. The primary series may be referred to as endogenous data to contrast it from the exogenous sequence(s). The observations for exogenous variables are included in the model directly at each time step and are not modeled in the same way as the primary endogenous sequence (e.g. as an AR, MA, etc. process).\n",
    "The SARIMAX method can also be used to model the subsumed models with exogenous variables, such as ARX, MAX, ARMAX, and ARIMAX.\n",
    "The method is suitable for univariate time series with trend and/or seasonal components and exogenous variables.\n",
    "\n",
    "## More Information:\n",
    "- statsmodels.tsa.statespace.sarimax.SARIMAX API (http://www.statsmodels.org/dev/generated/statsmodels.tsa.statespace.sarimax.SARIMAX.html)\n",
    "- statsmodels.tsa.statespace.sarimax.SARIMAXResults API (http://www.statsmodels.org/dev/generated/statsmodels.tsa.statespace.sarimax.SARIMAXResults.html)\n",
    "- Autoregressive integrated moving average on Wikipedia (https://en.wikipedia.org/wiki/Autoregressive_integrated_moving_average)\n",
    "- General Introduction to SARIMAX (https://machinelearningmastery.com/sarima-for-time-series-forecasting-in-python/)"
   ]
  },
  {
   "cell_type": "code",
   "execution_count": 32,
   "metadata": {},
   "outputs": [
    {
     "name": "stdout",
     "output_type": "stream",
     "text": [
      "[100.26755149]\n"
     ]
    }
   ],
   "source": [
    "# SARIMAX example\n",
    "from statsmodels.tsa.statespace.sarimax import SARIMAX\n",
    "from random import random\n",
    "# contrived dataset\n",
    "data1 = [x + random() for x in range(1, 100)]\n",
    "data2 = [x + random() for x in range(101, 200)]\n",
    "# fit model\n",
    "model = SARIMAX(data1, exog=data2, order=(1, 1, 1), seasonal_order=(0, 0, 0, 0))\n",
    "model_fit = model.fit(disp=False)\n",
    "# make prediction\n",
    "exog2 = [200 + random()]\n",
    "yhat = model_fit.predict(len(data1), len(data1), exog=[exog2])\n",
    "print(yhat)"
   ]
  },
  {
   "cell_type": "markdown",
   "metadata": {},
   "source": [
    "# 7. Vector Autoregression (VAR)\n",
    "## Description: \n",
    "The Vector Autoregression (VAR) method models the next step in each time series using an AR model. It is the generalization of AR to multiple parallel time series, e.g. multivariate time series.\n",
    "The notation for the model involves specifying the order for the AR(p) model as parameters to a VAR function, e.g. VAR(p).\n",
    "The method is suitable for multivariate time series without trend and seasonal components.\n",
    "\n",
    "## More Information:\n",
    "- statsmodels.tsa.vector_ar.var_model.VAR API (http://www.statsmodels.org/dev/generated/statsmodels.tsa.vector_ar.var_model.VAR.html)\n",
    "- statsmodels.tsa.vector_ar.var_model.VARResults API (http://www.statsmodels.org/dev/generated/statsmodels.tsa.vector_ar.var_model.VARResults.html)\n",
    "- Vector autoregression on Wikipedia (https://en.wikipedia.org/wiki/Vector_autoregression)"
   ]
  },
  {
   "cell_type": "code",
   "execution_count": 33,
   "metadata": {},
   "outputs": [
    {
     "name": "stdout",
     "output_type": "stream",
     "text": [
      "[[100.02523722 100.51172266]]\n"
     ]
    }
   ],
   "source": [
    "# VAR example\n",
    "from statsmodels.tsa.vector_ar.var_model import VAR\n",
    "from random import random\n",
    "# contrived dataset with dependency\n",
    "data = list()\n",
    "for i in range(100):\n",
    "    v1 = i + random()\n",
    "    v2 = v1 + random()\n",
    "    row = [v1, v2]\n",
    "    data.append(row)\n",
    "# fit model\n",
    "model = VAR(data)\n",
    "model_fit = model.fit()\n",
    "# make prediction\n",
    "yhat = model_fit.forecast(model_fit.y, steps=1)\n",
    "print(yhat)"
   ]
  },
  {
   "cell_type": "markdown",
   "metadata": {},
   "source": [
    "# 8. Vector Autoregression Moving-Average (VARMA)\n",
    "## Description: \n",
    "The Vector Autoregression Moving-Average (VARMA) method models the next step in each time series using an ARMA model. It is the generalization of ARMA to multiple parallel time series, e.g. multivariate time series.\n",
    "The notation for the model involves specifying the order for the AR(p) and MA(q) models as parameters to a VARMA function, e.g. VARMA(p, q). A VARMA model can also be used to develop VAR or VMA models.\n",
    "The method is suitable for multivariate time series without trend and seasonal components.\n",
    "\n",
    "## More Information:\n",
    "- statsmodels.tsa.statespace.varmax.VARMAX API (http://www.statsmodels.org/dev/generated/statsmodels.tsa.statespace.varmax.VARMAX.html)\n",
    "- statsmodels.tsa.statespace.varmax.VARMAXResults (http://www.statsmodels.org/dev/generated/statsmodels.tsa.statespace.varmax.VARMAXResults.html)\n",
    "- Vector autoregression on Wikipedia (https://en.wikipedia.org/wiki/Vector_autoregression)"
   ]
  },
  {
   "cell_type": "code",
   "execution_count": 27,
   "metadata": {},
   "outputs": [
    {
     "name": "stdout",
     "output_type": "stream",
     "text": [
      "[[0.50902181 0.98030944]]\n"
     ]
    }
   ],
   "source": [
    "# VARMA example\n",
    "from statsmodels.tsa.statespace.varmax import VARMAX\n",
    "from random import random\n",
    "# contrived dataset with dependency\n",
    "data = list()\n",
    "for i in range(100):\n",
    "    v1 = random()\n",
    "    v2 = v1 + random()\n",
    "    row = [v1, v2]\n",
    "    data.append(row)\n",
    "# fit model\n",
    "model = VARMAX(data, order=(1, 1))\n",
    "model_fit = model.fit(disp=False)\n",
    "# make prediction\n",
    "yhat = model_fit.forecast()\n",
    "print(yhat)"
   ]
  },
  {
   "cell_type": "markdown",
   "metadata": {},
   "source": [
    "# 9. Vector Autoregression Moving-Average with Exogenous Regressors (VARMAX)\n",
    "## Description: \n",
    "The Vector Autoregression Moving-Average with Exogenous Regressors (VARMAX) is an extension of the VARMA model that also includes the modeling of exogenous variables. It is a multivariate version of the ARMAX method.\n",
    "Exogenous variables are also called covariates and can be thought of as parallel input sequences that have observations at the same time steps as the original series. The primary series(es) are referred to as endogenous data to contrast it from the exogenous sequence(s). The observations for exogenous variables are included in the model directly at each time step and are not modeled in the same way as the primary endogenous sequence (e.g. as an AR, MA, etc. process).\n",
    "The VARMAX method can also be used to model the subsumed models with exogenous variables, such as VARX and VMAX.\n",
    "The method is suitable for multivariate time series without trend and seasonal components with exogenous variables.\n",
    "\n",
    "## More Information:\n",
    "- statsmodels.tsa.statespace.varmax.VARMAX API (http://www.statsmodels.org/dev/generated/statsmodels.tsa.statespace.varmax.VARMAX.html)\n",
    "- statsmodels.tsa.statespace.varmax.VARMAXResults (http://www.statsmodels.org/dev/generated/statsmodels.tsa.statespace.varmax.VARMAXResults.html)\n",
    "- Vector autoregression on Wikipedia (https://en.wikipedia.org/wiki/Vector_autoregression)"
   ]
  },
  {
   "cell_type": "code",
   "execution_count": 35,
   "metadata": {},
   "outputs": [
    {
     "name": "stdout",
     "output_type": "stream",
     "text": [
      "[[0.64998987 1.2721415 ]]\n"
     ]
    }
   ],
   "source": [
    "# VARMAX example\n",
    "from statsmodels.tsa.statespace.varmax import VARMAX\n",
    "from random import random\n",
    "# contrived dataset with dependency\n",
    "data = list()\n",
    "for i in range(100):\n",
    "    v1 = random()\n",
    "    v2 = v1 + random()\n",
    "    row = [v1, v2]\n",
    "    data.append(row)\n",
    "data_exog = [x + random() for x in range(100)]\n",
    "# fit model\n",
    "model = VARMAX(data, exog=data_exog, order=(1, 1))\n",
    "model_fit = model.fit(disp=False)\n",
    "# make prediction\n",
    "data_exog2 = [[100]]\n",
    "yhat = model_fit.forecast(exog=data_exog2)\n",
    "print(yhat)"
   ]
  },
  {
   "cell_type": "markdown",
   "metadata": {},
   "source": [
    "# 10. Simple Exponential Smoothing (SES)\n",
    "## Description: \n",
    "The Simple Exponential Smoothing (SES) method models the next time step as an exponentially weighted linear function of observations at prior time steps.\n",
    "The method is suitable for univariate time series without trend and seasonal components.\n",
    "\n",
    "## More Information:\n",
    "- statsmodels.tsa.holtwinters.SimpleExpSmoothing API (http://www.statsmodels.org/dev/generated/statsmodels.tsa.holtwinters.SimpleExpSmoothing.html)\n",
    "- statsmodels.tsa.holtwinters.HoltWintersResults API (http://www.statsmodels.org/dev/generated/statsmodels.tsa.holtwinters.HoltWintersResults.html)\n",
    "- Exponential smoothing on Wikipedia (https://en.wikipedia.org/wiki/Exponential_smoothing)"
   ]
  },
  {
   "cell_type": "code",
   "execution_count": 36,
   "metadata": {},
   "outputs": [
    {
     "name": "stdout",
     "output_type": "stream",
     "text": [
      "[99.01635362]\n"
     ]
    }
   ],
   "source": [
    "# SES example\n",
    "from statsmodels.tsa.holtwinters import SimpleExpSmoothing\n",
    "from random import random\n",
    "# contrived dataset\n",
    "data = [x + random() for x in range(1, 100)]\n",
    "# fit model\n",
    "model = SimpleExpSmoothing(data)\n",
    "model_fit = model.fit()\n",
    "# make prediction\n",
    "yhat = model_fit.predict(len(data), len(data))\n",
    "print(yhat)"
   ]
  },
  {
   "cell_type": "markdown",
   "metadata": {},
   "source": [
    "# 11. Holt Winter’s Exponential Smoothing (HWES)\n",
    "## Description: \n",
    "The Holt Winter’s Exponential Smoothing (HWES) also called the Triple Exponential Smoothing method models the next time step as an exponentially weighted linear function of observations at prior time steps, taking trends and seasonality into account.\n",
    "The method is suitable for univariate time series with trend and/or seasonal components.\n",
    "\n",
    "## More Information:\n",
    "- statsmodels.tsa.holtwinters.ExponentialSmoothing API (http://www.statsmodels.org/dev/generated/statsmodels.tsa.holtwinters.ExponentialSmoothing.html)\n",
    "- statsmodels.tsa.holtwinters.HoltWintersResults API (http://www.statsmodels.org/dev/generated/statsmodels.tsa.holtwinters.HoltWintersResults.html)\n",
    "- Exponential smoothing on Wikipedia (https://en.wikipedia.org/wiki/Exponential_smoothing)\n",
    "- How to Grid Search Triple Exponential Smoothing for Time Series Forcasting in Python (https://machinelearningmastery.com/how-to-grid-search-triple-exponential-smoothing-for-time-series-forecasting-in-python/)"
   ]
  },
  {
   "cell_type": "code",
   "execution_count": 37,
   "metadata": {},
   "outputs": [
    {
     "name": "stdout",
     "output_type": "stream",
     "text": [
      "[99.91467075]\n"
     ]
    }
   ],
   "source": [
    "# HWES example\n",
    "from statsmodels.tsa.holtwinters import ExponentialSmoothing\n",
    "from random import random\n",
    "# contrived dataset\n",
    "data = [x + random() for x in range(1, 100)]\n",
    "# fit model\n",
    "model = ExponentialSmoothing(data)\n",
    "model_fit = model.fit()\n",
    "# make prediction\n",
    "yhat = model_fit.predict(len(data), len(data))\n",
    "print(yhat)"
   ]
  },
  {
   "cell_type": "markdown",
   "metadata": {},
   "source": [
    "## Furhter Reading\n",
    "This section provides more resources on the topic if you are looking to go deeper.\n",
    "- Statsmodels: Time Series analysis API (http://www.statsmodels.org/dev/tsa.html)\n",
    "- Statsmodels: Time Series Analysis by State Space Methods()\n"
   ]
  }
 ],
 "metadata": {
  "kernelspec": {
   "display_name": "Python 3",
   "language": "python",
   "name": "python3"
  },
  "language_info": {
   "codemirror_mode": {
    "name": "ipython",
    "version": 3
   },
   "file_extension": ".py",
   "mimetype": "text/x-python",
   "name": "python",
   "nbconvert_exporter": "python",
   "pygments_lexer": "ipython3",
   "version": "3.7.0"
  }
 },
 "nbformat": 4,
 "nbformat_minor": 2
}
