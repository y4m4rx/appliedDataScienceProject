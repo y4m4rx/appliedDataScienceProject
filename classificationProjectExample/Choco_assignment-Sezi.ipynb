{
 "cells": [
  {
   "cell_type": "markdown",
   "metadata": {},
   "source": [
    "# Problem Description\n",
    "- There are 4 explanatory variables (Name, Total Oders, Supplier Confirm Rate, Group) and 1 target variable (Active Status)\n",
    "- Do Data Exploration to understand the Datas better\n",
    "- Do Feature Selection (if needed)\n",
    "- Split Data into Test and Train\n",
    "- Fit the best model to predict the Active Status of the Users\n",
    "- Evaluate the prediction result"
   ]
  },
  {
   "cell_type": "code",
   "execution_count": 13,
   "metadata": {},
   "outputs": [
    {
     "data": {
      "text/html": [
       "<div>\n",
       "<style scoped>\n",
       "    .dataframe tbody tr th:only-of-type {\n",
       "        vertical-align: middle;\n",
       "    }\n",
       "\n",
       "    .dataframe tbody tr th {\n",
       "        vertical-align: top;\n",
       "    }\n",
       "\n",
       "    .dataframe thead th {\n",
       "        text-align: right;\n",
       "    }\n",
       "</style>\n",
       "<table border=\"1\" class=\"dataframe\">\n",
       "  <thead>\n",
       "    <tr style=\"text-align: right;\">\n",
       "      <th></th>\n",
       "      <th>name</th>\n",
       "      <th>totalOrders</th>\n",
       "      <th>supplierConfirmRate</th>\n",
       "      <th>group</th>\n",
       "      <th>active</th>\n",
       "    </tr>\n",
       "  </thead>\n",
       "  <tbody>\n",
       "    <tr>\n",
       "      <th>0</th>\n",
       "      <td>Wona Toti</td>\n",
       "      <td>73.0</td>\n",
       "      <td>42%</td>\n",
       "      <td>B</td>\n",
       "      <td>1.0</td>\n",
       "    </tr>\n",
       "    <tr>\n",
       "      <th>1</th>\n",
       "      <td>Fija Tiro</td>\n",
       "      <td>78.0</td>\n",
       "      <td>94%</td>\n",
       "      <td>B</td>\n",
       "      <td>1.0</td>\n",
       "    </tr>\n",
       "    <tr>\n",
       "      <th>2</th>\n",
       "      <td>Jedi Kihu</td>\n",
       "      <td>0.0</td>\n",
       "      <td>0%</td>\n",
       "      <td>C</td>\n",
       "      <td>0.0</td>\n",
       "    </tr>\n",
       "    <tr>\n",
       "      <th>3</th>\n",
       "      <td>Rere Jiko</td>\n",
       "      <td>31.0</td>\n",
       "      <td>87%</td>\n",
       "      <td>B</td>\n",
       "      <td>1.0</td>\n",
       "    </tr>\n",
       "    <tr>\n",
       "      <th>4</th>\n",
       "      <td>Nare Joru</td>\n",
       "      <td>56.0</td>\n",
       "      <td>95%</td>\n",
       "      <td>B</td>\n",
       "      <td>1.0</td>\n",
       "    </tr>\n",
       "    <tr>\n",
       "      <th>5</th>\n",
       "      <td>Fanu Fewo</td>\n",
       "      <td>60.0</td>\n",
       "      <td>86%</td>\n",
       "      <td>A</td>\n",
       "      <td>0.0</td>\n",
       "    </tr>\n",
       "    <tr>\n",
       "      <th>6</th>\n",
       "      <td>Nafu Hato</td>\n",
       "      <td>27.0</td>\n",
       "      <td>95%</td>\n",
       "      <td>A</td>\n",
       "      <td>0.0</td>\n",
       "    </tr>\n",
       "    <tr>\n",
       "      <th>7</th>\n",
       "      <td>Taho Wunu</td>\n",
       "      <td>60.0</td>\n",
       "      <td>98%</td>\n",
       "      <td>B</td>\n",
       "      <td>1.0</td>\n",
       "    </tr>\n",
       "    <tr>\n",
       "      <th>8</th>\n",
       "      <td>Taja Dora</td>\n",
       "      <td>55.0</td>\n",
       "      <td>96%</td>\n",
       "      <td>B</td>\n",
       "      <td>1.0</td>\n",
       "    </tr>\n",
       "    <tr>\n",
       "      <th>9</th>\n",
       "      <td>Jeto Nefo</td>\n",
       "      <td>81.0</td>\n",
       "      <td>96%</td>\n",
       "      <td>A</td>\n",
       "      <td>1.0</td>\n",
       "    </tr>\n",
       "    <tr>\n",
       "      <th>10</th>\n",
       "      <td>Hupo Tudu</td>\n",
       "      <td>2.0</td>\n",
       "      <td>88%</td>\n",
       "      <td>B</td>\n",
       "      <td>0.0</td>\n",
       "    </tr>\n",
       "    <tr>\n",
       "      <th>11</th>\n",
       "      <td>Kika Kedi</td>\n",
       "      <td>71.0</td>\n",
       "      <td>94%</td>\n",
       "      <td>B</td>\n",
       "      <td>1.0</td>\n",
       "    </tr>\n",
       "    <tr>\n",
       "      <th>12</th>\n",
       "      <td>Rika Wuro</td>\n",
       "      <td>26.0</td>\n",
       "      <td>90%</td>\n",
       "      <td>D</td>\n",
       "      <td>1.0</td>\n",
       "    </tr>\n",
       "    <tr>\n",
       "      <th>13</th>\n",
       "      <td>Poji Fiko</td>\n",
       "      <td>72.0</td>\n",
       "      <td>90%</td>\n",
       "      <td>A</td>\n",
       "      <td>1.0</td>\n",
       "    </tr>\n",
       "    <tr>\n",
       "      <th>14</th>\n",
       "      <td>Pefi Pura</td>\n",
       "      <td>0.0</td>\n",
       "      <td>0%</td>\n",
       "      <td>A</td>\n",
       "      <td>0.0</td>\n",
       "    </tr>\n",
       "    <tr>\n",
       "      <th>15</th>\n",
       "      <td>Rapu Wawi</td>\n",
       "      <td>14.0</td>\n",
       "      <td>87%</td>\n",
       "      <td>C</td>\n",
       "      <td>1.0</td>\n",
       "    </tr>\n",
       "    <tr>\n",
       "      <th>16</th>\n",
       "      <td>Kedi Kotu</td>\n",
       "      <td>0.0</td>\n",
       "      <td>0%</td>\n",
       "      <td>C</td>\n",
       "      <td>0.0</td>\n",
       "    </tr>\n",
       "    <tr>\n",
       "      <th>17</th>\n",
       "      <td>Wede Tora</td>\n",
       "      <td>0.0</td>\n",
       "      <td>0%</td>\n",
       "      <td>D</td>\n",
       "      <td>0.0</td>\n",
       "    </tr>\n",
       "    <tr>\n",
       "      <th>18</th>\n",
       "      <td>Depu Dure</td>\n",
       "      <td>12.0</td>\n",
       "      <td>95%</td>\n",
       "      <td>B</td>\n",
       "      <td>0.0</td>\n",
       "    </tr>\n",
       "    <tr>\n",
       "      <th>19</th>\n",
       "      <td>Huhu Nati</td>\n",
       "      <td>99.0</td>\n",
       "      <td>93%</td>\n",
       "      <td>B</td>\n",
       "      <td>1.0</td>\n",
       "    </tr>\n",
       "    <tr>\n",
       "      <th>20</th>\n",
       "      <td>Ruwi Reka</td>\n",
       "      <td>29.0</td>\n",
       "      <td>38%</td>\n",
       "      <td>D</td>\n",
       "      <td>1.0</td>\n",
       "    </tr>\n",
       "    <tr>\n",
       "      <th>21</th>\n",
       "      <td>Hehi Jifi</td>\n",
       "      <td>0.0</td>\n",
       "      <td>0%</td>\n",
       "      <td>D</td>\n",
       "      <td>0.0</td>\n",
       "    </tr>\n",
       "    <tr>\n",
       "      <th>22</th>\n",
       "      <td>Paho Jiju</td>\n",
       "      <td>42.0</td>\n",
       "      <td>57%</td>\n",
       "      <td>D</td>\n",
       "      <td>1.0</td>\n",
       "    </tr>\n",
       "    <tr>\n",
       "      <th>23</th>\n",
       "      <td>Petu Jude</td>\n",
       "      <td>66.0</td>\n",
       "      <td>98%</td>\n",
       "      <td>B</td>\n",
       "      <td>1.0</td>\n",
       "    </tr>\n",
       "    <tr>\n",
       "      <th>24</th>\n",
       "      <td>Pawi Fehu</td>\n",
       "      <td>100.0</td>\n",
       "      <td>92%</td>\n",
       "      <td>A</td>\n",
       "      <td>1.0</td>\n",
       "    </tr>\n",
       "    <tr>\n",
       "      <th>25</th>\n",
       "      <td>Hiki Kowo</td>\n",
       "      <td>40.0</td>\n",
       "      <td>91%</td>\n",
       "      <td>A</td>\n",
       "      <td>1.0</td>\n",
       "    </tr>\n",
       "    <tr>\n",
       "      <th>26</th>\n",
       "      <td>Kofo Kopi</td>\n",
       "      <td>95.0</td>\n",
       "      <td>98%</td>\n",
       "      <td>A</td>\n",
       "      <td>0.0</td>\n",
       "    </tr>\n",
       "    <tr>\n",
       "      <th>27</th>\n",
       "      <td>Fata Puko</td>\n",
       "      <td>61.0</td>\n",
       "      <td>29%</td>\n",
       "      <td>C</td>\n",
       "      <td>1.0</td>\n",
       "    </tr>\n",
       "    <tr>\n",
       "      <th>28</th>\n",
       "      <td>Toja Fuku</td>\n",
       "      <td>74.0</td>\n",
       "      <td>95%</td>\n",
       "      <td>D</td>\n",
       "      <td>1.0</td>\n",
       "    </tr>\n",
       "    <tr>\n",
       "      <th>29</th>\n",
       "      <td>Fudo Jaro</td>\n",
       "      <td>75.0</td>\n",
       "      <td>85%</td>\n",
       "      <td>B</td>\n",
       "      <td>1.0</td>\n",
       "    </tr>\n",
       "    <tr>\n",
       "      <th>...</th>\n",
       "      <td>...</td>\n",
       "      <td>...</td>\n",
       "      <td>...</td>\n",
       "      <td>...</td>\n",
       "      <td>...</td>\n",
       "    </tr>\n",
       "    <tr>\n",
       "      <th>969</th>\n",
       "      <td>NaN</td>\n",
       "      <td>NaN</td>\n",
       "      <td>NaN</td>\n",
       "      <td>NaN</td>\n",
       "      <td>NaN</td>\n",
       "    </tr>\n",
       "    <tr>\n",
       "      <th>970</th>\n",
       "      <td>NaN</td>\n",
       "      <td>NaN</td>\n",
       "      <td>NaN</td>\n",
       "      <td>NaN</td>\n",
       "      <td>NaN</td>\n",
       "    </tr>\n",
       "    <tr>\n",
       "      <th>971</th>\n",
       "      <td>NaN</td>\n",
       "      <td>NaN</td>\n",
       "      <td>NaN</td>\n",
       "      <td>NaN</td>\n",
       "      <td>NaN</td>\n",
       "    </tr>\n",
       "    <tr>\n",
       "      <th>972</th>\n",
       "      <td>NaN</td>\n",
       "      <td>NaN</td>\n",
       "      <td>NaN</td>\n",
       "      <td>NaN</td>\n",
       "      <td>NaN</td>\n",
       "    </tr>\n",
       "    <tr>\n",
       "      <th>973</th>\n",
       "      <td>NaN</td>\n",
       "      <td>NaN</td>\n",
       "      <td>NaN</td>\n",
       "      <td>NaN</td>\n",
       "      <td>NaN</td>\n",
       "    </tr>\n",
       "    <tr>\n",
       "      <th>974</th>\n",
       "      <td>NaN</td>\n",
       "      <td>NaN</td>\n",
       "      <td>NaN</td>\n",
       "      <td>NaN</td>\n",
       "      <td>NaN</td>\n",
       "    </tr>\n",
       "    <tr>\n",
       "      <th>975</th>\n",
       "      <td>NaN</td>\n",
       "      <td>NaN</td>\n",
       "      <td>NaN</td>\n",
       "      <td>NaN</td>\n",
       "      <td>NaN</td>\n",
       "    </tr>\n",
       "    <tr>\n",
       "      <th>976</th>\n",
       "      <td>NaN</td>\n",
       "      <td>NaN</td>\n",
       "      <td>NaN</td>\n",
       "      <td>NaN</td>\n",
       "      <td>NaN</td>\n",
       "    </tr>\n",
       "    <tr>\n",
       "      <th>977</th>\n",
       "      <td>NaN</td>\n",
       "      <td>NaN</td>\n",
       "      <td>NaN</td>\n",
       "      <td>NaN</td>\n",
       "      <td>NaN</td>\n",
       "    </tr>\n",
       "    <tr>\n",
       "      <th>978</th>\n",
       "      <td>NaN</td>\n",
       "      <td>NaN</td>\n",
       "      <td>NaN</td>\n",
       "      <td>NaN</td>\n",
       "      <td>NaN</td>\n",
       "    </tr>\n",
       "    <tr>\n",
       "      <th>979</th>\n",
       "      <td>NaN</td>\n",
       "      <td>NaN</td>\n",
       "      <td>NaN</td>\n",
       "      <td>NaN</td>\n",
       "      <td>NaN</td>\n",
       "    </tr>\n",
       "    <tr>\n",
       "      <th>980</th>\n",
       "      <td>NaN</td>\n",
       "      <td>NaN</td>\n",
       "      <td>NaN</td>\n",
       "      <td>NaN</td>\n",
       "      <td>NaN</td>\n",
       "    </tr>\n",
       "    <tr>\n",
       "      <th>981</th>\n",
       "      <td>NaN</td>\n",
       "      <td>NaN</td>\n",
       "      <td>NaN</td>\n",
       "      <td>NaN</td>\n",
       "      <td>NaN</td>\n",
       "    </tr>\n",
       "    <tr>\n",
       "      <th>982</th>\n",
       "      <td>NaN</td>\n",
       "      <td>NaN</td>\n",
       "      <td>NaN</td>\n",
       "      <td>NaN</td>\n",
       "      <td>NaN</td>\n",
       "    </tr>\n",
       "    <tr>\n",
       "      <th>983</th>\n",
       "      <td>NaN</td>\n",
       "      <td>NaN</td>\n",
       "      <td>NaN</td>\n",
       "      <td>NaN</td>\n",
       "      <td>NaN</td>\n",
       "    </tr>\n",
       "    <tr>\n",
       "      <th>984</th>\n",
       "      <td>NaN</td>\n",
       "      <td>NaN</td>\n",
       "      <td>NaN</td>\n",
       "      <td>NaN</td>\n",
       "      <td>NaN</td>\n",
       "    </tr>\n",
       "    <tr>\n",
       "      <th>985</th>\n",
       "      <td>NaN</td>\n",
       "      <td>NaN</td>\n",
       "      <td>NaN</td>\n",
       "      <td>NaN</td>\n",
       "      <td>NaN</td>\n",
       "    </tr>\n",
       "    <tr>\n",
       "      <th>986</th>\n",
       "      <td>NaN</td>\n",
       "      <td>NaN</td>\n",
       "      <td>NaN</td>\n",
       "      <td>NaN</td>\n",
       "      <td>NaN</td>\n",
       "    </tr>\n",
       "    <tr>\n",
       "      <th>987</th>\n",
       "      <td>NaN</td>\n",
       "      <td>NaN</td>\n",
       "      <td>NaN</td>\n",
       "      <td>NaN</td>\n",
       "      <td>NaN</td>\n",
       "    </tr>\n",
       "    <tr>\n",
       "      <th>988</th>\n",
       "      <td>NaN</td>\n",
       "      <td>NaN</td>\n",
       "      <td>NaN</td>\n",
       "      <td>NaN</td>\n",
       "      <td>NaN</td>\n",
       "    </tr>\n",
       "    <tr>\n",
       "      <th>989</th>\n",
       "      <td>NaN</td>\n",
       "      <td>NaN</td>\n",
       "      <td>NaN</td>\n",
       "      <td>NaN</td>\n",
       "      <td>NaN</td>\n",
       "    </tr>\n",
       "    <tr>\n",
       "      <th>990</th>\n",
       "      <td>NaN</td>\n",
       "      <td>NaN</td>\n",
       "      <td>NaN</td>\n",
       "      <td>NaN</td>\n",
       "      <td>NaN</td>\n",
       "    </tr>\n",
       "    <tr>\n",
       "      <th>991</th>\n",
       "      <td>NaN</td>\n",
       "      <td>NaN</td>\n",
       "      <td>NaN</td>\n",
       "      <td>NaN</td>\n",
       "      <td>NaN</td>\n",
       "    </tr>\n",
       "    <tr>\n",
       "      <th>992</th>\n",
       "      <td>NaN</td>\n",
       "      <td>NaN</td>\n",
       "      <td>NaN</td>\n",
       "      <td>NaN</td>\n",
       "      <td>NaN</td>\n",
       "    </tr>\n",
       "    <tr>\n",
       "      <th>993</th>\n",
       "      <td>NaN</td>\n",
       "      <td>NaN</td>\n",
       "      <td>NaN</td>\n",
       "      <td>NaN</td>\n",
       "      <td>NaN</td>\n",
       "    </tr>\n",
       "    <tr>\n",
       "      <th>994</th>\n",
       "      <td>NaN</td>\n",
       "      <td>NaN</td>\n",
       "      <td>NaN</td>\n",
       "      <td>NaN</td>\n",
       "      <td>NaN</td>\n",
       "    </tr>\n",
       "    <tr>\n",
       "      <th>995</th>\n",
       "      <td>NaN</td>\n",
       "      <td>NaN</td>\n",
       "      <td>NaN</td>\n",
       "      <td>NaN</td>\n",
       "      <td>NaN</td>\n",
       "    </tr>\n",
       "    <tr>\n",
       "      <th>996</th>\n",
       "      <td>NaN</td>\n",
       "      <td>NaN</td>\n",
       "      <td>NaN</td>\n",
       "      <td>NaN</td>\n",
       "      <td>NaN</td>\n",
       "    </tr>\n",
       "    <tr>\n",
       "      <th>997</th>\n",
       "      <td>NaN</td>\n",
       "      <td>NaN</td>\n",
       "      <td>NaN</td>\n",
       "      <td>NaN</td>\n",
       "      <td>NaN</td>\n",
       "    </tr>\n",
       "    <tr>\n",
       "      <th>998</th>\n",
       "      <td>NaN</td>\n",
       "      <td>NaN</td>\n",
       "      <td>NaN</td>\n",
       "      <td>NaN</td>\n",
       "      <td>NaN</td>\n",
       "    </tr>\n",
       "  </tbody>\n",
       "</table>\n",
       "<p>999 rows × 5 columns</p>\n",
       "</div>"
      ],
      "text/plain": [
       "          name  totalOrders supplierConfirmRate group  active\n",
       "0    Wona Toti         73.0                 42%     B     1.0\n",
       "1    Fija Tiro         78.0                 94%     B     1.0\n",
       "2    Jedi Kihu          0.0                  0%     C     0.0\n",
       "3    Rere Jiko         31.0                 87%     B     1.0\n",
       "4    Nare Joru         56.0                 95%     B     1.0\n",
       "5    Fanu Fewo         60.0                 86%     A     0.0\n",
       "6    Nafu Hato         27.0                 95%     A     0.0\n",
       "7    Taho Wunu         60.0                 98%     B     1.0\n",
       "8    Taja Dora         55.0                 96%     B     1.0\n",
       "9    Jeto Nefo         81.0                 96%     A     1.0\n",
       "10   Hupo Tudu          2.0                 88%     B     0.0\n",
       "11   Kika Kedi         71.0                 94%     B     1.0\n",
       "12   Rika Wuro         26.0                 90%     D     1.0\n",
       "13   Poji Fiko         72.0                 90%     A     1.0\n",
       "14   Pefi Pura          0.0                  0%     A     0.0\n",
       "15   Rapu Wawi         14.0                 87%     C     1.0\n",
       "16   Kedi Kotu          0.0                  0%     C     0.0\n",
       "17   Wede Tora          0.0                  0%     D     0.0\n",
       "18   Depu Dure         12.0                 95%     B     0.0\n",
       "19   Huhu Nati         99.0                 93%     B     1.0\n",
       "20   Ruwi Reka         29.0                 38%     D     1.0\n",
       "21   Hehi Jifi          0.0                  0%     D     0.0\n",
       "22   Paho Jiju         42.0                 57%     D     1.0\n",
       "23   Petu Jude         66.0                 98%     B     1.0\n",
       "24   Pawi Fehu        100.0                 92%     A     1.0\n",
       "25   Hiki Kowo         40.0                 91%     A     1.0\n",
       "26   Kofo Kopi         95.0                 98%     A     0.0\n",
       "27   Fata Puko         61.0                 29%     C     1.0\n",
       "28   Toja Fuku         74.0                 95%     D     1.0\n",
       "29   Fudo Jaro         75.0                 85%     B     1.0\n",
       "..         ...          ...                 ...   ...     ...\n",
       "969        NaN          NaN                 NaN   NaN     NaN\n",
       "970        NaN          NaN                 NaN   NaN     NaN\n",
       "971        NaN          NaN                 NaN   NaN     NaN\n",
       "972        NaN          NaN                 NaN   NaN     NaN\n",
       "973        NaN          NaN                 NaN   NaN     NaN\n",
       "974        NaN          NaN                 NaN   NaN     NaN\n",
       "975        NaN          NaN                 NaN   NaN     NaN\n",
       "976        NaN          NaN                 NaN   NaN     NaN\n",
       "977        NaN          NaN                 NaN   NaN     NaN\n",
       "978        NaN          NaN                 NaN   NaN     NaN\n",
       "979        NaN          NaN                 NaN   NaN     NaN\n",
       "980        NaN          NaN                 NaN   NaN     NaN\n",
       "981        NaN          NaN                 NaN   NaN     NaN\n",
       "982        NaN          NaN                 NaN   NaN     NaN\n",
       "983        NaN          NaN                 NaN   NaN     NaN\n",
       "984        NaN          NaN                 NaN   NaN     NaN\n",
       "985        NaN          NaN                 NaN   NaN     NaN\n",
       "986        NaN          NaN                 NaN   NaN     NaN\n",
       "987        NaN          NaN                 NaN   NaN     NaN\n",
       "988        NaN          NaN                 NaN   NaN     NaN\n",
       "989        NaN          NaN                 NaN   NaN     NaN\n",
       "990        NaN          NaN                 NaN   NaN     NaN\n",
       "991        NaN          NaN                 NaN   NaN     NaN\n",
       "992        NaN          NaN                 NaN   NaN     NaN\n",
       "993        NaN          NaN                 NaN   NaN     NaN\n",
       "994        NaN          NaN                 NaN   NaN     NaN\n",
       "995        NaN          NaN                 NaN   NaN     NaN\n",
       "996        NaN          NaN                 NaN   NaN     NaN\n",
       "997        NaN          NaN                 NaN   NaN     NaN\n",
       "998        NaN          NaN                 NaN   NaN     NaN\n",
       "\n",
       "[999 rows x 5 columns]"
      ]
     },
     "execution_count": 13,
     "metadata": {},
     "output_type": "execute_result"
    }
   ],
   "source": [
    "import pandas as pd\n",
    "import seaborn as sns\n",
    "import numpy as np\n",
    "from sklearn.model_selection import GridSearchCV\n",
    "from sklearn.ensemble import RandomForestClassifier, GradientBoostingClassifier\n",
    "from sklearn.tree import DecisionTreeClassifier \n",
    "from sklearn.linear_model import LogisticRegression\n",
    "import matplotlib\n",
    "import matplotlib.pyplot as plt\n",
    "\n",
    "# load data \n",
    "df = pd.read_csv(\"dataset.csv\", header=0)\n",
    "df"
   ]
  },
  {
   "cell_type": "markdown",
   "metadata": {},
   "source": [
    "## Data Exploration"
   ]
  },
  {
   "cell_type": "code",
   "execution_count": 14,
   "metadata": {},
   "outputs": [
    {
     "data": {
      "text/plain": [
       "<matplotlib.axes._subplots.AxesSubplot at 0x1a17886f98>"
      ]
     },
     "execution_count": 14,
     "metadata": {},
     "output_type": "execute_result"
    },
    {
     "data": {
      "image/png": "[encoded data removed]",
      "text/plain": [
       "<Figure size 432x288 with 1 Axes>"
      ]
     },
     "metadata": {
      "needs_background": "light"
     },
     "output_type": "display_data"
    }
   ],
   "source": [
    "sns.heatmap(df.isnull(),yticklabels=False,cbar=False)"
   ]
  },
  {
   "cell_type": "markdown",
   "metadata": {},
   "source": [
    "It turns out there are many Nan rows in the dataframe, so I'll just remove them"
   ]
  },
  {
   "cell_type": "code",
   "execution_count": 15,
   "metadata": {},
   "outputs": [
    {
     "name": "stdout",
     "output_type": "stream",
     "text": [
      "(496, 5)\n"
     ]
    }
   ],
   "source": [
    "df = df.dropna()\n",
    "print(df.shape)"
   ]
  },
  {
   "cell_type": "code",
   "execution_count": 16,
   "metadata": {},
   "outputs": [],
   "source": [
    "import matplotlib\n",
    "import matplotlib.pyplot as plt\n",
    "\n",
    "def calculate_ratio(column):\n",
    "    distinct_values = df[column].unique()\n",
    "\n",
    "    d = pd.DataFrame(columns = distinct_values)\n",
    "    for index, value in enumerate(distinct_values):\n",
    "        total = df[column].value_counts()[value]\n",
    "        l = list()\n",
    "        for i in range(0,2):\n",
    "            # I want to see the ratio between active and inactive for each chategory\n",
    "            part =df[df.active==i][column].value_counts()[value]\n",
    "            l.append(part/total)\n",
    "        d[value] = l\n",
    "\n",
    "    return d\n",
    "\n",
    "def show_countplot_by_target(column):\n",
    "    plt.figure()\n",
    "    ax = sns.countplot(column, hue= 'active' , data = df )\n",
    "    ax.set_xticklabels(ax.get_xticklabels(), rotation=40, ha=\"right\")\n",
    "    plt.tight_layout()\n",
    "        \n",
    "def show_countplot(column):\n",
    "    plt.figure()\n",
    "    ax1 = sns.countplot(column, data = df )\n",
    "    ax1.set_xticklabels(ax1.get_xticklabels(), rotation=40, ha=\"right\")\n",
    "    plt.tight_layout()\n",
    "    plt.show()"
   ]
  },
  {
   "cell_type": "markdown",
   "metadata": {},
   "source": [
    "Supplier Confirm Rates are supposed to be numerical data but since the format are in string as percentage so I will convert it to become decimal"
   ]
  },
  {
   "cell_type": "code",
   "execution_count": 17,
   "metadata": {},
   "outputs": [
    {
     "name": "stderr",
     "output_type": "stream",
     "text": [
      "/anaconda3/lib/python3.7/site-packages/ipykernel_launcher.py:1: SettingWithCopyWarning: \n",
      "A value is trying to be set on a copy of a slice from a DataFrame.\n",
      "Try using .loc[row_indexer,col_indexer] = value instead\n",
      "\n",
      "See the caveats in the documentation: http://pandas.pydata.org/pandas-docs/stable/indexing.html#indexing-view-versus-copy\n",
      "  \"\"\"Entry point for launching an IPython kernel.\n",
      "/anaconda3/lib/python3.7/site-packages/ipykernel_launcher.py:2: SettingWithCopyWarning: \n",
      "A value is trying to be set on a copy of a slice from a DataFrame.\n",
      "Try using .loc[row_indexer,col_indexer] = value instead\n",
      "\n",
      "See the caveats in the documentation: http://pandas.pydata.org/pandas-docs/stable/indexing.html#indexing-view-versus-copy\n",
      "  \n"
     ]
    }
   ],
   "source": [
    "df['supplierConfirmRate'] = df.supplierConfirmRate.replace({'%':''}, regex=True)\n",
    "df['supplierConfirmRate'] = pd.to_numeric(df.supplierConfirmRate, errors='ignore') / 100"
   ]
  },
  {
   "cell_type": "markdown",
   "metadata": {},
   "source": [
    "### Numerical Features\n",
    "Now we have 2 numerical columns, and I want to check the correlation between the numerical Datas and the target variable"
   ]
  },
  {
   "cell_type": "code",
   "execution_count": 18,
   "metadata": {},
   "outputs": [
    {
     "data": {
      "text/plain": [
       "<matplotlib.axes._subplots.AxesSubplot at 0x1a17bb0208>"
      ]
     },
     "execution_count": 18,
     "metadata": {},
     "output_type": "execute_result"
    },
    {
     "data": {
      "image/png": "[encoded data removed]",
      "text/plain": [
       "<Figure size 432x288 with 1 Axes>"
      ]
     },
     "metadata": {
      "needs_background": "light"
     },
     "output_type": "display_data"
    }
   ],
   "source": [
    "plt.figure()\n",
    "sns.boxplot( x = 'totalOrders', data = df)"
   ]
  },
  {
   "cell_type": "code",
   "execution_count": 19,
   "metadata": {},
   "outputs": [
    {
     "data": {
      "text/plain": [
       "<matplotlib.axes._subplots.AxesSubplot at 0x1a17c9f390>"
      ]
     },
     "execution_count": 19,
     "metadata": {},
     "output_type": "execute_result"
    },
    {
     "data": {
      "image/png": "[encoded data removed]",
      "text/plain": [
       "<Figure size 432x288 with 1 Axes>"
      ]
     },
     "metadata": {
      "needs_background": "light"
     },
     "output_type": "display_data"
    }
   ],
   "source": [
    "plt.figure()\n",
    "sns.boxplot( x = 'supplierConfirmRate', data = df)"
   ]
  },
  {
   "cell_type": "markdown",
   "metadata": {},
   "source": [
    "No Outliers but it seems like there are many 0 datas"
   ]
  },
  {
   "cell_type": "code",
   "execution_count": 20,
   "metadata": {},
   "outputs": [
    {
     "data": {
      "text/plain": [
       "Text(0.5,0,'total order')"
      ]
     },
     "execution_count": 20,
     "metadata": {},
     "output_type": "execute_result"
    },
    {
     "data": {
      "image/png": "[encoded data removed]",
      "text/plain": [
       "<Figure size 432x288 with 1 Axes>"
      ]
     },
     "metadata": {
      "needs_background": "light"
     },
     "output_type": "display_data"
    }
   ],
   "source": [
    "df['totalOrders'].hist(bins=100)\n",
    "plt.xlabel('total order')"
   ]
  },
  {
   "cell_type": "code",
   "execution_count": 21,
   "metadata": {},
   "outputs": [
    {
     "data": {
      "text/plain": [
       "Text(0.5,0,'confirm rate')"
      ]
     },
     "execution_count": 21,
     "metadata": {},
     "output_type": "execute_result"
    },
    {
     "data": {
      "image/png": "[encoded data removed]",
      "text/plain": [
       "<Figure size 432x288 with 1 Axes>"
      ]
     },
     "metadata": {
      "needs_background": "light"
     },
     "output_type": "display_data"
    }
   ],
   "source": [
    "df['supplierConfirmRate'].hist(bins=100)\n",
    "plt.xlabel('confirm rate')"
   ]
  },
  {
   "cell_type": "markdown",
   "metadata": {},
   "source": [
    "There are around 100 instances with 0 totalOrder value, and the number of 0 supplier confirm rate is also the same. If based on description of suplierConfirmRate is \"percentage of that users orders which have been confirmed by their supplier\" so it's make sense to have the same number of 0 value since if there's no order then there's no confirmation rate"
   ]
  },
  {
   "cell_type": "code",
   "execution_count": 22,
   "metadata": {},
   "outputs": [],
   "source": [
    "#since the number of 0 values are almost 20%, I'll create new categorical feature based on that\n",
    "df.insert(loc=1, column='hasOrder', value=((df.totalOrders>0) & (df.supplierConfirmRate>0))*1)"
   ]
  },
  {
   "cell_type": "code",
   "execution_count": 23,
   "metadata": {},
   "outputs": [
    {
     "data": {
      "text/html": [
       "<div>\n",
       "<style scoped>\n",
       "    .dataframe tbody tr th:only-of-type {\n",
       "        vertical-align: middle;\n",
       "    }\n",
       "\n",
       "    .dataframe tbody tr th {\n",
       "        vertical-align: top;\n",
       "    }\n",
       "\n",
       "    .dataframe thead th {\n",
       "        text-align: right;\n",
       "    }\n",
       "</style>\n",
       "<table border=\"1\" class=\"dataframe\">\n",
       "  <thead>\n",
       "    <tr style=\"text-align: right;\">\n",
       "      <th></th>\n",
       "      <th>1</th>\n",
       "      <th>0</th>\n",
       "    </tr>\n",
       "  </thead>\n",
       "  <tbody>\n",
       "    <tr>\n",
       "      <th>0</th>\n",
       "      <td>0.258228</td>\n",
       "      <td>0.891089</td>\n",
       "    </tr>\n",
       "    <tr>\n",
       "      <th>1</th>\n",
       "      <td>0.741772</td>\n",
       "      <td>0.108911</td>\n",
       "    </tr>\n",
       "  </tbody>\n",
       "</table>\n",
       "</div>"
      ],
      "text/plain": [
       "          1         0\n",
       "0  0.258228  0.891089\n",
       "1  0.741772  0.108911"
      ]
     },
     "metadata": {},
     "output_type": "display_data"
    },
    {
     "data": {
      "image/png": "[encoded data removed]",
      "text/plain": [
       "<Figure size 432x288 with 1 Axes>"
      ]
     },
     "metadata": {
      "needs_background": "light"
     },
     "output_type": "display_data"
    },
    {
     "data": {
      "image/png": "[encoded data removed]",
      "text/plain": [
       "<Figure size 432x288 with 1 Axes>"
      ]
     },
     "metadata": {
      "needs_background": "light"
     },
     "output_type": "display_data"
    }
   ],
   "source": [
    "display(calculate_ratio('hasOrder'))\n",
    "show_countplot_by_target('hasOrder')\n",
    "show_countplot('hasOrder')"
   ]
  },
  {
   "cell_type": "code",
   "execution_count": 24,
   "metadata": {},
   "outputs": [
    {
     "data": {
      "image/png": "[encoded data removed]",
      "text/plain": [
       "<Figure size 432x288 with 1 Axes>"
      ]
     },
     "metadata": {
      "needs_background": "light"
     },
     "output_type": "display_data"
    }
   ],
   "source": [
    "show_countplot('active')"
   ]
  },
  {
   "cell_type": "markdown",
   "metadata": {},
   "source": [
    "As Expected No Order will be mostlikely an inactive customer, and looked like it give good correlation with the target values, let's see the correlation table below"
   ]
  },
  {
   "cell_type": "code",
   "execution_count": 1117,
   "metadata": {
    "scrolled": false
   },
   "outputs": [
    {
     "data": {
      "text/plain": [
       "<matplotlib.axes._subplots.AxesSubplot at 0x1c24bd59b0>"
      ]
     },
     "execution_count": 1117,
     "metadata": {},
     "output_type": "execute_result"
    },
    {
     "data": {
      "image/png": "[encoded data removed]",
      "text/plain": [
       "<Figure size 720x504 with 2 Axes>"
      ]
     },
     "metadata": {
      "needs_background": "light"
     },
     "output_type": "display_data"
    }
   ],
   "source": [
    "\n",
    "corr = df.corr()\n",
    "num,ax = plt.subplots(figsize=(10, 7))\n",
    "sns.heatmap(corr, \n",
    "        xticklabels=corr.columns,\n",
    "        yticklabels=corr.columns,annot=True, fmt=\".2f\",cbar_kws={'label': 'Percentage %'}, ax= ax)"
   ]
  },
  {
   "cell_type": "markdown",
   "metadata": {},
   "source": [
    "the new feature \"hasOrder\" give a better correlation to target variables rather than the other 2 columns. The correlation between hasOrder with supplierConfirmRate and totalOrders are quite high, so most probably we could remove some of this column, and I will check it with backward elimination later"
   ]
  },
  {
   "cell_type": "markdown",
   "metadata": {},
   "source": [
    "### Non Numerical Features\n",
    "\n",
    "We have name and group as the non numerical features. Name for sure will be excluded since it's unique and doesn't have any relation with the target variable. So Let's see whether group have a good correlation with the target variables or not"
   ]
  },
  {
   "cell_type": "code",
   "execution_count": 1119,
   "metadata": {},
   "outputs": [
    {
     "data": {
      "text/html": [
       "<div>\n",
       "<style scoped>\n",
       "    .dataframe tbody tr th:only-of-type {\n",
       "        vertical-align: middle;\n",
       "    }\n",
       "\n",
       "    .dataframe tbody tr th {\n",
       "        vertical-align: top;\n",
       "    }\n",
       "\n",
       "    .dataframe thead th {\n",
       "        text-align: right;\n",
       "    }\n",
       "</style>\n",
       "<table border=\"1\" class=\"dataframe\">\n",
       "  <thead>\n",
       "    <tr style=\"text-align: right;\">\n",
       "      <th></th>\n",
       "      <th>B</th>\n",
       "      <th>C</th>\n",
       "      <th>A</th>\n",
       "      <th>D</th>\n",
       "    </tr>\n",
       "  </thead>\n",
       "  <tbody>\n",
       "    <tr>\n",
       "      <th>0</th>\n",
       "      <td>0.363636</td>\n",
       "      <td>0.437037</td>\n",
       "      <td>0.398374</td>\n",
       "      <td>0.34188</td>\n",
       "    </tr>\n",
       "    <tr>\n",
       "      <th>1</th>\n",
       "      <td>0.636364</td>\n",
       "      <td>0.562963</td>\n",
       "      <td>0.601626</td>\n",
       "      <td>0.65812</td>\n",
       "    </tr>\n",
       "  </tbody>\n",
       "</table>\n",
       "</div>"
      ],
      "text/plain": [
       "          B         C         A        D\n",
       "0  0.363636  0.437037  0.398374  0.34188\n",
       "1  0.636364  0.562963  0.601626  0.65812"
      ]
     },
     "metadata": {},
     "output_type": "display_data"
    },
    {
     "data": {
      "image/png": "[encoded data removed]",
      "text/plain": [
       "<Figure size 432x288 with 1 Axes>"
      ]
     },
     "metadata": {
      "needs_background": "light"
     },
     "output_type": "display_data"
    },
    {
     "data": {
      "image/png": "[encoded data removed]",
      "text/plain": [
       "<Figure size 432x288 with 1 Axes>"
      ]
     },
     "metadata": {
      "needs_background": "light"
     },
     "output_type": "display_data"
    }
   ],
   "source": [
    "display(calculate_ratio('group'))\n",
    "show_countplot_by_target('group')\n",
    "show_countplot('group')"
   ]
  },
  {
   "cell_type": "markdown",
   "metadata": {},
   "source": [
    "each category deliver similar ratio of active and inactive around 60:40, most probably it doesn't have high correlation with the target value. But I'll check the pValue to decide whether this needs to be filtered out or not\n"
   ]
  },
  {
   "cell_type": "code",
   "execution_count": 1120,
   "metadata": {},
   "outputs": [],
   "source": [
    "X = df.iloc[:,1:-1] #prepare the X variables, without target variable and \"name\" column\n",
    "X = pd.get_dummies(X, columns= ['group']) #encode the chategorical column\n",
    "y = df.active"
   ]
  },
  {
   "cell_type": "markdown",
   "metadata": {},
   "source": [
    "## Feature Selection\n",
    "I will use backward elimination to select the feature"
   ]
  },
  {
   "cell_type": "code",
   "execution_count": 1121,
   "metadata": {},
   "outputs": [
    {
     "name": "stdout",
     "output_type": "stream",
     "text": [
      "Optimization terminated successfully.\n",
      "         Current function value: 0.517250\n",
      "         Iterations 6\n",
      "                          Results: Logit\n",
      "===================================================================\n",
      "Model:                Logit            Pseudo R-squared: 0.225     \n",
      "Dependent Variable:   active           AIC:              527.1122  \n",
      "Date:                 2019-08-28 11:10 BIC:              556.5583  \n",
      "No. Observations:     496              Log-Likelihood:   -256.56   \n",
      "Df Model:             6                LL-Null:          -331.05   \n",
      "Df Residuals:         489              LLR p-value:      1.2712e-29\n",
      "Converged:            1.0000           Scale:            1.0000    \n",
      "No. Iterations:       6.0000                                       \n",
      "-------------------------------------------------------------------\n",
      "                     Coef.  Std.Err.    z    P>|z|   [0.025  0.975]\n",
      "-------------------------------------------------------------------\n",
      "hasOrder             3.3906   0.6873  4.9332 0.0000  2.0435  4.7377\n",
      "totalOrders          0.0064   0.0041  1.5845 0.1131 -0.0015  0.0144\n",
      "supplierConfirmRate -0.6121   0.6550 -0.9346 0.3500 -1.8959  0.6716\n",
      "group_A             -2.2679   0.3777 -6.0038 0.0000 -3.0082 -1.5275\n",
      "group_B             -1.9443   0.3702 -5.2520 0.0000 -2.6699 -1.2187\n",
      "group_C             -2.3856   0.3714 -6.4232 0.0000 -3.1135 -1.6577\n",
      "group_D             -1.8618   0.3732 -4.9885 0.0000 -2.5933 -1.1303\n",
      "===================================================================\n",
      "\n",
      "Optimization terminated successfully.\n",
      "         Current function value: 0.518179\n",
      "         Iterations 6\n",
      "                         Results: Logit\n",
      "=================================================================\n",
      "Model:              Logit            Pseudo R-squared: 0.224     \n",
      "Dependent Variable: active           AIC:              526.0340  \n",
      "Date:               2019-08-28 11:10 BIC:              551.2735  \n",
      "No. Observations:   496              Log-Likelihood:   -257.02   \n",
      "Df Model:           5                LL-Null:          -331.05   \n",
      "Df Residuals:       490              LLR p-value:      3.4578e-30\n",
      "Converged:          1.0000           Scale:            1.0000    \n",
      "No. Iterations:     6.0000                                       \n",
      "------------------------------------------------------------------\n",
      "               Coef.   Std.Err.     z     P>|z|    [0.025   0.975]\n",
      "------------------------------------------------------------------\n",
      "hasOrder       2.8689    0.3969   7.2286  0.0000   2.0910   3.6467\n",
      "totalOrders    0.0064    0.0041   1.5780  0.1146  -0.0016   0.0144\n",
      "group_A       -2.2674    0.3777  -6.0036  0.0000  -3.0076  -1.5272\n",
      "group_B       -1.9510    0.3703  -5.2682  0.0000  -2.6769  -1.2252\n",
      "group_C       -2.3898    0.3713  -6.4355  0.0000  -3.1176  -1.6620\n",
      "group_D       -1.8521    0.3727  -4.9693  0.0000  -2.5826  -1.1216\n",
      "=================================================================\n",
      "\n",
      "Optimization terminated successfully.\n",
      "         Current function value: 0.520706\n",
      "         Iterations 6\n",
      "Optimization terminated successfully.\n",
      "         Current function value: 0.520706\n",
      "         Iterations 6\n",
      "Optimization terminated successfully.\n",
      "         Current function value: 0.520706\n",
      "         Iterations 6\n",
      "Optimization terminated successfully.\n",
      "         Current function value: 0.520706\n",
      "         Iterations 6\n",
      "Optimization terminated successfully.\n",
      "         Current function value: 0.520706\n",
      "         Iterations 6\n",
      "                         Results: Logit\n",
      "=================================================================\n",
      "Model:              Logit            Pseudo R-squared: 0.220     \n",
      "Dependent Variable: active           AIC:              526.5405  \n",
      "Date:               2019-08-28 11:10 BIC:              547.5734  \n",
      "No. Observations:   496              Log-Likelihood:   -258.27   \n",
      "Df Model:           4                LL-Null:          -331.05   \n",
      "Df Residuals:       491              LLR p-value:      1.8271e-30\n",
      "Converged:          1.0000           Scale:            1.0000    \n",
      "No. Iterations:     6.0000                                       \n",
      "------------------------------------------------------------------\n",
      "               Coef.   Std.Err.     z     P>|z|    [0.025   0.975]\n",
      "------------------------------------------------------------------\n",
      "hasOrder       3.1942    0.3421   9.3370  0.0000   2.5237   3.8648\n",
      "group_A       -2.2585    0.3771  -5.9888  0.0000  -2.9976  -1.5194\n",
      "group_B       -1.9493    0.3701  -5.2676  0.0000  -2.6746  -1.2240\n",
      "group_C       -2.4010    0.3713  -6.4668  0.0000  -3.1286  -1.6733\n",
      "group_D       -1.8515    0.3725  -4.9709  0.0000  -2.5815  -1.1215\n",
      "=================================================================\n",
      "\n"
     ]
    }
   ],
   "source": [
    "import statsmodels.api as sm\n",
    "\n",
    "def backwardElimination (x,sl):\n",
    "    numVars = len(x.iloc[0,:])\n",
    "    for i in range (0,numVars):\n",
    "        result = sm.Logit(y,x).fit()\n",
    "        maxVar = max(result.pvalues)\n",
    "        if maxVar > sl: #this will remove the max pvalue column until the p value is lower or equal than the slope\n",
    "            for j in range(0,numVars-i):\n",
    "                if (result.pvalues[j] == maxVar):\n",
    "                    print(result.summary2())\n",
    "                    x = x.drop(x.columns[j], axis='columns' )\n",
    "                    \n",
    "    print(result.summary2())\n",
    "    return x\n",
    "\n",
    "X = backwardElimination(X,0.05)"
   ]
  },
  {
   "cell_type": "markdown",
   "metadata": {},
   "source": [
    "It turned out since there's new hasOrder feature the pvalue for both totalOrder and supplierConfirmRate becomes higher than the slope (0.05) so those are filtered out from the features"
   ]
  },
  {
   "cell_type": "code",
   "execution_count": 1122,
   "metadata": {},
   "outputs": [
    {
     "data": {
      "text/plain": [
       "hasOrder    2.780400\n",
       "group_A    -0.473027\n",
       "group_B    -0.199567\n",
       "group_C    -0.611052\n",
       "group_D    -0.109287\n",
       "dtype: float64"
      ]
     },
     "metadata": {},
     "output_type": "display_data"
    }
   ],
   "source": [
    "model = LogisticRegression()\n",
    "result = model.fit(X,y)\n",
    "beta_coef = pd.Series({ \n",
    "                     'hasOrder': result.coef_[0][0],\n",
    "                     'group_A': result.coef_[0][1],\n",
    "                     'group_B': result.coef_[0][2],                    \n",
    "                     'group_C': result.coef_[0][3],\n",
    "                     'group_D': result.coef_[0][4]\n",
    "                 })\n",
    "display(beta_coef)"
   ]
  },
  {
   "cell_type": "markdown",
   "metadata": {},
   "source": [
    " The new feature hasOrder has the highest positive coefficient, which means higher value of this feature (which is 1) will leads to higher value of the target value (also 1). All the group features have negative coefficient which mean the higher the value of the feature, the lower value of target variable, in this case group C has the most probability to be inactive. "
   ]
  },
  {
   "cell_type": "code",
   "execution_count": 1123,
   "metadata": {},
   "outputs": [
    {
     "name": "stdout",
     "output_type": "stream",
     "text": [
      "[0.9495545  0.00797306 0.01053355 0.01679603 0.01514287]\n"
     ]
    },
    {
     "data": {
      "text/plain": [
       "Text(0.5,1,'Random Forest Classifier')"
      ]
     },
     "execution_count": 1123,
     "metadata": {},
     "output_type": "execute_result"
    },
    {
     "data": {
      "image/png": "[encoded data removed]",
      "text/plain": [
       "<Figure size 720x1584 with 1 Axes>"
      ]
     },
     "metadata": {
      "needs_background": "light"
     },
     "output_type": "display_data"
    }
   ],
   "source": [
    "model = RandomForestClassifier(n_estimators=100)\n",
    "model.fit(X,y)\n",
    "\n",
    "print(model.feature_importances_) \n",
    "\n",
    "featimp=[]\n",
    "for i in range(len(X.transpose())):\n",
    "    featimp.append(model.feature_importances_[i])\n",
    "\n",
    "\n",
    "rf_sorted=pd.DataFrame(featimp,index=['hasOrder','group_A','group_B','group_C','group_D'], columns=['featimp']).sort_values(\"featimp\").plot.barh(figsize=(10,22))\n",
    "rf_sorted.set_xlabel(\"Relative importance\", fontsize=12)\n",
    "rf_sorted.set_ylabel(\"Variable\", fontsize=12)\n",
    "rf_sorted.set_title(\"Random Forest Classifier\", fontsize=20)"
   ]
  },
  {
   "cell_type": "markdown",
   "metadata": {},
   "source": [
    "Based on Random Forest feature importance, hasOrder is the most important features and the difference with the other features are relatively high. All the group features doesn't have that high importance."
   ]
  },
  {
   "cell_type": "code",
   "execution_count": 1124,
   "metadata": {},
   "outputs": [
    {
     "name": "stdout",
     "output_type": "stream",
     "text": [
      "(396, 5) (396,)\n"
     ]
    }
   ],
   "source": [
    "from sklearn.model_selection import train_test_split\n",
    "#split data to train and test\n",
    "X_train, X_test,y_train, y_test = train_test_split(X, y,test_size=0.2, random_state=42)\n",
    "print(X_train.shape, y_train.shape)"
   ]
  },
  {
   "cell_type": "markdown",
   "metadata": {},
   "source": [
    "## Model Fitting\n",
    "\n",
    "I try 4 classifiers, which are Decision tree, Random Forest, Gradient Boosting, and Logistic Regression"
   ]
  },
  {
   "cell_type": "markdown",
   "metadata": {},
   "source": [
    "### Tunning Hyperparameter\n",
    "\n",
    "I use gridsearch to find the best parameters for these models"
   ]
  },
  {
   "cell_type": "code",
   "execution_count": 1125,
   "metadata": {},
   "outputs": [
    {
     "name": "stdout",
     "output_type": "stream",
     "text": [
      "Fitting 10 folds for each of 72 candidates, totalling 720 fits\n"
     ]
    },
    {
     "name": "stderr",
     "output_type": "stream",
     "text": [
      "[Parallel(n_jobs=1)]: Done 720 out of 720 | elapsed:    2.9s finished\n"
     ]
    },
    {
     "name": "stdout",
     "output_type": "stream",
     "text": [
      "{'criterion': 'entropy', 'max_depth': 3, 'min_samples_leaf': 0.001, 'min_samples_split': 0.01, 'random_state': 42}\n",
      "Fitting 10 folds for each of 72 candidates, totalling 720 fits\n"
     ]
    },
    {
     "name": "stderr",
     "output_type": "stream",
     "text": [
      "[Parallel(n_jobs=1)]: Done 720 out of 720 | elapsed:   12.2s finished\n"
     ]
    },
    {
     "name": "stdout",
     "output_type": "stream",
     "text": [
      "{'max_depth': 3, 'min_samples_leaf': 0.001, 'min_samples_split': 0.01, 'n_estimators': 5, 'random_state': 42}\n",
      "Fitting 10 folds for each of 288 candidates, totalling 2880 fits\n"
     ]
    },
    {
     "name": "stderr",
     "output_type": "stream",
     "text": [
      "[Parallel(n_jobs=1)]: Done 2880 out of 2880 | elapsed:   23.0s finished\n"
     ]
    },
    {
     "name": "stdout",
     "output_type": "stream",
     "text": [
      "{'learning_rate': 0.1, 'max_depth': 3, 'min_samples_leaf': 0.001, 'min_samples_split': 0.01, 'n_estimators': 5, 'random_state': 42}\n",
      "Fitting 10 folds for each of 8 candidates, totalling 80 fits\n",
      "{'C': 0.5, 'penalty': 'l1'}\n"
     ]
    },
    {
     "name": "stderr",
     "output_type": "stream",
     "text": [
      "[Parallel(n_jobs=1)]: Done  80 out of  80 | elapsed:    0.4s finished\n"
     ]
    }
   ],
   "source": [
    "def find_best_hyperparameter(model,params, X, y, foldnumber=10):\n",
    "    gridsearch = GridSearchCV(model, params, cv=foldnumber,verbose =1) \n",
    "    gridsearch.fit(X, y)\n",
    "    print(gridsearch.best_params_)\n",
    "\n",
    "find_best_hyperparameter(DecisionTreeClassifier(),{'random_state':[42], 'criterion':['entropy','gini'],'max_depth':[3,5,10,None], 'min_samples_split':[0.01,0.001,1.0], 'min_samples_leaf' : [0.001,0.01, 0.5]}, X, y,10)\n",
    "find_best_hyperparameter(RandomForestClassifier(),{'random_state':[42],'n_estimators':[5, 10], 'max_depth':[3,5,10,None], 'min_samples_split':[0.01,1.0,2], 'min_samples_leaf' : [0.001,0.01,0.1]} , X, y,10)\n",
    "find_best_hyperparameter(GradientBoostingClassifier(),{'random_state':[42],'learning_rate':[0.01,0.1,1,5],'n_estimators':[5, 10], 'max_depth':[3,5,10,None], 'min_samples_split':[0.01,1.0,2], 'min_samples_leaf' : [0.001,0.01,0.1]} , X, y,10)\n",
    "find_best_hyperparameter(LogisticRegression(),{'penalty':['l1', 'l2'],'C':[0.01,0.5,1,10]},X,y,10)\n"
   ]
  },
  {
   "cell_type": "code",
   "execution_count": 1126,
   "metadata": {},
   "outputs": [],
   "source": [
    "#put the parameter based on the best hyperparameter result\n",
    "decision_tree = DecisionTreeClassifier(criterion='entropy',max_depth= 3, min_samples_leaf= 0.001, min_samples_split= 0.01, random_state=42)\n",
    "random_forest = RandomForestClassifier(max_depth=3, min_samples_leaf=0.001, min_samples_split=0.01, n_estimators=5, random_state=42)\n",
    "gradboost_clf = GradientBoostingClassifier(learning_rate=0.1, max_depth=3,min_samples_leaf=0.001, min_samples_split=0.01, n_estimators= 5, random_state=42)\n",
    "log_regression = LogisticRegression(C=0.5,penalty='l1')\n",
    "model_classifier = {\n",
    "    \"random_forest\" : random_forest,\n",
    "    \"decision_tree\" : decision_tree,\n",
    "    \"gradient_boosting\" : gradboost_clf,\n",
    "    \"log_reg\" : log_regression\n",
    "}"
   ]
  },
  {
   "cell_type": "code",
   "execution_count": 1127,
   "metadata": {},
   "outputs": [],
   "source": [
    "from sklearn.metrics import roc_curve, auc, confusion_matrix\n",
    "import matplotlib.pyplot as plt\n",
    "%matplotlib inline\n",
    "\n",
    "def show_roc_and_cm(y_test, y_score, model_name):\n",
    "    fpr, tpr, thr = roc_curve(y_test, y_score)\n",
    "    roc_auc = auc(fpr, tpr)\n",
    "\n",
    "    plt.figure()\n",
    "    plt.plot(fpr, tpr, color='darkorange',\n",
    "             lw=2, label='ROC curve (area = %0.2f)' % roc_auc)\n",
    "    plt.plot([0, 1], [0, 1], color='navy', lw=2, linestyle='--')\n",
    "    plt.xlim([0.0, 1.0])\n",
    "    plt.ylim([0.0, 1.05])\n",
    "    plt.xlabel('False Positive Rate')\n",
    "    plt.ylabel('True Positive Rate')\n",
    "    plt.title('ROC Curve_' + model_name)\n",
    "    plt.legend(loc=\"lower right\")\n",
    "    plt.show()\n",
    "    \n",
    "    cm = confusion_matrix(y_test, y_pred)\n",
    "    fig, ax = plt.subplots()\n",
    "    im = ax.imshow(cm, interpolation='nearest')\n",
    "    ax.figure.colorbar(im, ax=ax)\n",
    "    ax.set(xticks=np.arange(cm.shape[1]),\n",
    "           yticks=np.arange(cm.shape[0]),\n",
    "           title=\"confusion matrix_\"+model_name,\n",
    "           ylabel='Actual',\n",
    "           xlabel='Predicted')\n",
    "    plt.setp(ax.get_xticklabels(), rotation=45, ha=\"right\",\n",
    "             rotation_mode=\"anchor\")\n",
    "    fmt ='d'\n",
    "    thresh = 20\n",
    "    for i in range(cm.shape[0]):\n",
    "        for j in range(cm.shape[1]):\n",
    "            ax.text(j, i, format(cm[i, j], fmt),\n",
    "                    ha=\"center\", va=\"center\",\n",
    "                    color=\"white\" if cm[i, j] < thresh else \"black\")\n",
    "    fig.tight_layout()"
   ]
  },
  {
   "cell_type": "code",
   "execution_count": 1128,
   "metadata": {
    "scrolled": false
   },
   "outputs": [
    {
     "data": {
      "image/png": "[encoded data removed]",
      "text/plain": [
       "<Figure size 432x288 with 1 Axes>"
      ]
     },
     "metadata": {
      "needs_background": "light"
     },
     "output_type": "display_data"
    },
    {
     "data": {
      "image/png": "[encoded data removed]",
      "text/plain": [
       "<Figure size 432x288 with 2 Axes>"
      ]
     },
     "metadata": {
      "needs_background": "light"
     },
     "output_type": "display_data"
    },
    {
     "data": {
      "image/png": "[encoded data removed]",
      "text/plain": [
       "<Figure size 432x288 with 1 Axes>"
      ]
     },
     "metadata": {
      "needs_background": "light"
     },
     "output_type": "display_data"
    },
    {
     "data": {
      "image/png": "[encoded data removed]",
      "text/plain": [
       "<Figure size 432x288 with 2 Axes>"
      ]
     },
     "metadata": {
      "needs_background": "light"
     },
     "output_type": "display_data"
    },
    {
     "data": {
      "image/png": "[encoded data removed]",
      "text/plain": [
       "<Figure size 432x288 with 1 Axes>"
      ]
     },
     "metadata": {
      "needs_background": "light"
     },
     "output_type": "display_data"
    },
    {
     "data": {
      "image/png": "[encoded data removed]",
      "text/plain": [
       "<Figure size 432x288 with 2 Axes>"
      ]
     },
     "metadata": {
      "needs_background": "light"
     },
     "output_type": "display_data"
    },
    {
     "data": {
      "image/png": "[encoded data removed]",
      "text/plain": [
       "<Figure size 432x288 with 1 Axes>"
      ]
     },
     "metadata": {
      "needs_background": "light"
     },
     "output_type": "display_data"
    },
    {
     "data": {
      "image/png": "[encoded data removed]",
      "text/plain": [
       "<Figure size 432x288 with 2 Axes>"
      ]
     },
     "metadata": {
      "needs_background": "light"
     },
     "output_type": "display_data"
    }
   ],
   "source": [
    "from sklearn.metrics import roc_auc_score, confusion_matrix, average_precision_score, fbeta_score\n",
    "from sklearn import metrics\n",
    "from sklearn.model_selection import cross_val_score\n",
    "\n",
    "Results = pd.DataFrame(columns = ['Model', 'CV(5)', 'Accuracy', 'Precision_score', 'Recall_score','F1_score'])\n",
    "for model, model_name in zip(model_classifier.values(), model_classifier.keys()):\n",
    "  \n",
    "    model.fit(X_train, y_train)\n",
    "    y_pred = model.predict(X_test)\n",
    "    y_score = model.predict_proba(X_test)[:,1]\n",
    "\n",
    "    X_datas = pd.concat([X_train, X_test])\n",
    "    y_datas = pd.concat([y_train, y_test])\n",
    "    Score = cross_val_score(model, X_datas, y_datas, cv=5).mean()\n",
    "\n",
    "\n",
    "\n",
    "    t = pd.Series({ \n",
    "                     'Model': model_name,\n",
    "                     'CV(5)': Score,\n",
    "                     'Accuracy': metrics.accuracy_score(y_test, y_pred),\n",
    "                     'Precision_score': metrics.precision_score(y_test, y_pred),\n",
    "                     'Recall_score': metrics.recall_score(y_test, y_pred),                    \n",
    "                     'F1_score': metrics.f1_score(y_test, y_pred)\n",
    "                 })\n",
    "\n",
    "    Results = Results.append(t,ignore_index = True)\n",
    "    show_roc_and_cm(y_test, y_score, model_name)\n",
    "    \n",
    "    \n"
   ]
  },
  {
   "cell_type": "code",
   "execution_count": 1129,
   "metadata": {},
   "outputs": [
    {
     "data": {
      "text/html": [
       "<div>\n",
       "<style scoped>\n",
       "    .dataframe tbody tr th:only-of-type {\n",
       "        vertical-align: middle;\n",
       "    }\n",
       "\n",
       "    .dataframe tbody tr th {\n",
       "        vertical-align: top;\n",
       "    }\n",
       "\n",
       "    .dataframe thead th {\n",
       "        text-align: right;\n",
       "    }\n",
       "</style>\n",
       "<table border=\"1\" class=\"dataframe\">\n",
       "  <thead>\n",
       "    <tr style=\"text-align: right;\">\n",
       "      <th></th>\n",
       "      <th>Model</th>\n",
       "      <th>CV(5)</th>\n",
       "      <th>Accuracy</th>\n",
       "      <th>Precision_score</th>\n",
       "      <th>Recall_score</th>\n",
       "      <th>F1_score</th>\n",
       "    </tr>\n",
       "  </thead>\n",
       "  <tbody>\n",
       "    <tr>\n",
       "      <th>0</th>\n",
       "      <td>random_forest</td>\n",
       "      <td>0.771988</td>\n",
       "      <td>0.72</td>\n",
       "      <td>0.705882</td>\n",
       "      <td>0.952381</td>\n",
       "      <td>0.810811</td>\n",
       "    </tr>\n",
       "    <tr>\n",
       "      <th>1</th>\n",
       "      <td>decision_tree</td>\n",
       "      <td>0.771988</td>\n",
       "      <td>0.72</td>\n",
       "      <td>0.705882</td>\n",
       "      <td>0.952381</td>\n",
       "      <td>0.810811</td>\n",
       "    </tr>\n",
       "    <tr>\n",
       "      <th>2</th>\n",
       "      <td>gradient_boosting</td>\n",
       "      <td>0.771988</td>\n",
       "      <td>0.72</td>\n",
       "      <td>0.705882</td>\n",
       "      <td>0.952381</td>\n",
       "      <td>0.810811</td>\n",
       "    </tr>\n",
       "    <tr>\n",
       "      <th>3</th>\n",
       "      <td>log_reg</td>\n",
       "      <td>0.771988</td>\n",
       "      <td>0.72</td>\n",
       "      <td>0.705882</td>\n",
       "      <td>0.952381</td>\n",
       "      <td>0.810811</td>\n",
       "    </tr>\n",
       "  </tbody>\n",
       "</table>\n",
       "</div>"
      ],
      "text/plain": [
       "               Model     CV(5)  Accuracy  Precision_score  Recall_score  \\\n",
       "0      random_forest  0.771988      0.72         0.705882      0.952381   \n",
       "1      decision_tree  0.771988      0.72         0.705882      0.952381   \n",
       "2  gradient_boosting  0.771988      0.72         0.705882      0.952381   \n",
       "3            log_reg  0.771988      0.72         0.705882      0.952381   \n",
       "\n",
       "   F1_score  \n",
       "0  0.810811  \n",
       "1  0.810811  \n",
       "2  0.810811  \n",
       "3  0.810811  "
      ]
     },
     "execution_count": 1129,
     "metadata": {},
     "output_type": "execute_result"
    }
   ],
   "source": [
    "Results"
   ]
  },
  {
   "cell_type": "markdown",
   "metadata": {},
   "source": [
    "The results are really interesting, all models give the exact same prediction result. \n",
    "- Accuracy : The predictions are 72% correct\n",
    "- Recall (True Positive/all positive target variable) : from all Active users 95% are predicted correctly \n",
    "- Precision (True Positive / all predicted as positive) : the model predict more positive value, so 30% of the positive prediction was incorrectly predicted, and 70% of all the predicted as positive are correct\n",
    "- F1_score: in average of both recall and precision the score is around 80%\n",
    "- CV(5): the cross validation result for 5 folds is 77%\n",
    "- AUC (Area Under the ROC Curve) : The ability of the model to classify correctly is 70%\n",
    "- Confusion Matrix: \n",
    "    - True Positive is 60 predictions\n",
    "    - False Negative is 3 predictions\n",
    "    - True Negative is 12 predictions\n",
    "    - False Positive is 25 predictions\n"
   ]
  },
  {
   "cell_type": "code",
   "execution_count": null,
   "metadata": {},
   "outputs": [],
   "source": []
  }
 ],
 "metadata": {
  "kernelspec": {
   "display_name": "Python 3",
   "language": "python",
   "name": "python3"
  },
  "language_info": {
   "codemirror_mode": {
    "name": "ipython",
    "version": 3
   },
   "file_extension": ".py",
   "mimetype": "text/x-python",
   "name": "python",
   "nbconvert_exporter": "python",
   "pygments_lexer": "ipython3",
   "version": "3.7.0"
  }
 },
 "nbformat": 4,
 "nbformat_minor": 2
}
