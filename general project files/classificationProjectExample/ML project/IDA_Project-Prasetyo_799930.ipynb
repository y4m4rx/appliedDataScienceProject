{
 "cells": [
  {
   "cell_type": "markdown",
   "metadata": {},
   "source": [
    "# Machine Learning - IDA Exam Project\n",
    "## Project 4: Credit\n",
    "\n",
    "Prasetyo, Sezi Dwi Sagarianti - 799930\n",
    "### Problem Description\n",
    "1. a Bank want to classify their customer to creditworthy or uncreditworthy customer\n",
    "2. There are 1000 Data Points and 21 Columns (11 categorical columns and 10 numeric columns)\n",
    "3. 4 columns have missing values with '?' symbol on it. Fill this missing value using linear classification\n",
    "4. Fit a model to classify these customers\n",
    "5. Evaluate the models and choose the best models based on bank cost's model"
   ]
  },
  {
   "cell_type": "markdown",
   "metadata": {},
   "source": [
    "# Prepare the Data"
   ]
  },
  {
   "cell_type": "code",
   "execution_count": 17,
   "metadata": {},
   "outputs": [
    {
     "data": {
      "text/html": [
       "<div>\n",
       "<style scoped>\n",
       "    .dataframe tbody tr th:only-of-type {\n",
       "        vertical-align: middle;\n",
       "    }\n",
       "\n",
       "    .dataframe tbody tr th {\n",
       "        vertical-align: top;\n",
       "    }\n",
       "\n",
       "    .dataframe thead th {\n",
       "        text-align: right;\n",
       "    }\n",
       "</style>\n",
       "<table border=\"1\" class=\"dataframe\">\n",
       "  <thead>\n",
       "    <tr style=\"text-align: right;\">\n",
       "      <th></th>\n",
       "      <th>name</th>\n",
       "      <th>totalOrders</th>\n",
       "      <th>supplierConfirmRate</th>\n",
       "      <th>group</th>\n",
       "      <th>active</th>\n",
       "    </tr>\n",
       "  </thead>\n",
       "  <tbody>\n",
       "    <tr>\n",
       "      <th>0</th>\n",
       "      <td>Wona Toti</td>\n",
       "      <td>73.0</td>\n",
       "      <td>42%</td>\n",
       "      <td>B</td>\n",
       "      <td>1.0</td>\n",
       "    </tr>\n",
       "    <tr>\n",
       "      <th>1</th>\n",
       "      <td>Fija Tiro</td>\n",
       "      <td>78.0</td>\n",
       "      <td>94%</td>\n",
       "      <td>B</td>\n",
       "      <td>1.0</td>\n",
       "    </tr>\n",
       "    <tr>\n",
       "      <th>2</th>\n",
       "      <td>Jedi Kihu</td>\n",
       "      <td>0.0</td>\n",
       "      <td>0%</td>\n",
       "      <td>C</td>\n",
       "      <td>0.0</td>\n",
       "    </tr>\n",
       "    <tr>\n",
       "      <th>3</th>\n",
       "      <td>Rere Jiko</td>\n",
       "      <td>31.0</td>\n",
       "      <td>87%</td>\n",
       "      <td>B</td>\n",
       "      <td>1.0</td>\n",
       "    </tr>\n",
       "    <tr>\n",
       "      <th>4</th>\n",
       "      <td>Nare Joru</td>\n",
       "      <td>56.0</td>\n",
       "      <td>95%</td>\n",
       "      <td>B</td>\n",
       "      <td>1.0</td>\n",
       "    </tr>\n",
       "    <tr>\n",
       "      <th>5</th>\n",
       "      <td>Fanu Fewo</td>\n",
       "      <td>60.0</td>\n",
       "      <td>86%</td>\n",
       "      <td>A</td>\n",
       "      <td>0.0</td>\n",
       "    </tr>\n",
       "    <tr>\n",
       "      <th>6</th>\n",
       "      <td>Nafu Hato</td>\n",
       "      <td>27.0</td>\n",
       "      <td>95%</td>\n",
       "      <td>A</td>\n",
       "      <td>0.0</td>\n",
       "    </tr>\n",
       "    <tr>\n",
       "      <th>7</th>\n",
       "      <td>Taho Wunu</td>\n",
       "      <td>60.0</td>\n",
       "      <td>98%</td>\n",
       "      <td>B</td>\n",
       "      <td>1.0</td>\n",
       "    </tr>\n",
       "    <tr>\n",
       "      <th>8</th>\n",
       "      <td>Taja Dora</td>\n",
       "      <td>55.0</td>\n",
       "      <td>96%</td>\n",
       "      <td>B</td>\n",
       "      <td>1.0</td>\n",
       "    </tr>\n",
       "    <tr>\n",
       "      <th>9</th>\n",
       "      <td>Jeto Nefo</td>\n",
       "      <td>81.0</td>\n",
       "      <td>96%</td>\n",
       "      <td>A</td>\n",
       "      <td>1.0</td>\n",
       "    </tr>\n",
       "    <tr>\n",
       "      <th>10</th>\n",
       "      <td>Hupo Tudu</td>\n",
       "      <td>2.0</td>\n",
       "      <td>88%</td>\n",
       "      <td>B</td>\n",
       "      <td>0.0</td>\n",
       "    </tr>\n",
       "    <tr>\n",
       "      <th>11</th>\n",
       "      <td>Kika Kedi</td>\n",
       "      <td>71.0</td>\n",
       "      <td>94%</td>\n",
       "      <td>B</td>\n",
       "      <td>1.0</td>\n",
       "    </tr>\n",
       "    <tr>\n",
       "      <th>12</th>\n",
       "      <td>Rika Wuro</td>\n",
       "      <td>26.0</td>\n",
       "      <td>90%</td>\n",
       "      <td>D</td>\n",
       "      <td>1.0</td>\n",
       "    </tr>\n",
       "    <tr>\n",
       "      <th>13</th>\n",
       "      <td>Poji Fiko</td>\n",
       "      <td>72.0</td>\n",
       "      <td>90%</td>\n",
       "      <td>A</td>\n",
       "      <td>1.0</td>\n",
       "    </tr>\n",
       "    <tr>\n",
       "      <th>14</th>\n",
       "      <td>Pefi Pura</td>\n",
       "      <td>0.0</td>\n",
       "      <td>0%</td>\n",
       "      <td>A</td>\n",
       "      <td>0.0</td>\n",
       "    </tr>\n",
       "    <tr>\n",
       "      <th>15</th>\n",
       "      <td>Rapu Wawi</td>\n",
       "      <td>14.0</td>\n",
       "      <td>87%</td>\n",
       "      <td>C</td>\n",
       "      <td>1.0</td>\n",
       "    </tr>\n",
       "    <tr>\n",
       "      <th>16</th>\n",
       "      <td>Kedi Kotu</td>\n",
       "      <td>0.0</td>\n",
       "      <td>0%</td>\n",
       "      <td>C</td>\n",
       "      <td>0.0</td>\n",
       "    </tr>\n",
       "    <tr>\n",
       "      <th>17</th>\n",
       "      <td>Wede Tora</td>\n",
       "      <td>0.0</td>\n",
       "      <td>0%</td>\n",
       "      <td>D</td>\n",
       "      <td>0.0</td>\n",
       "    </tr>\n",
       "    <tr>\n",
       "      <th>18</th>\n",
       "      <td>Depu Dure</td>\n",
       "      <td>12.0</td>\n",
       "      <td>95%</td>\n",
       "      <td>B</td>\n",
       "      <td>0.0</td>\n",
       "    </tr>\n",
       "    <tr>\n",
       "      <th>19</th>\n",
       "      <td>Huhu Nati</td>\n",
       "      <td>99.0</td>\n",
       "      <td>93%</td>\n",
       "      <td>B</td>\n",
       "      <td>1.0</td>\n",
       "    </tr>\n",
       "    <tr>\n",
       "      <th>20</th>\n",
       "      <td>Ruwi Reka</td>\n",
       "      <td>29.0</td>\n",
       "      <td>38%</td>\n",
       "      <td>D</td>\n",
       "      <td>1.0</td>\n",
       "    </tr>\n",
       "    <tr>\n",
       "      <th>21</th>\n",
       "      <td>Hehi Jifi</td>\n",
       "      <td>0.0</td>\n",
       "      <td>0%</td>\n",
       "      <td>D</td>\n",
       "      <td>0.0</td>\n",
       "    </tr>\n",
       "    <tr>\n",
       "      <th>22</th>\n",
       "      <td>Paho Jiju</td>\n",
       "      <td>42.0</td>\n",
       "      <td>57%</td>\n",
       "      <td>D</td>\n",
       "      <td>1.0</td>\n",
       "    </tr>\n",
       "    <tr>\n",
       "      <th>23</th>\n",
       "      <td>Petu Jude</td>\n",
       "      <td>66.0</td>\n",
       "      <td>98%</td>\n",
       "      <td>B</td>\n",
       "      <td>1.0</td>\n",
       "    </tr>\n",
       "    <tr>\n",
       "      <th>24</th>\n",
       "      <td>Pawi Fehu</td>\n",
       "      <td>100.0</td>\n",
       "      <td>92%</td>\n",
       "      <td>A</td>\n",
       "      <td>1.0</td>\n",
       "    </tr>\n",
       "    <tr>\n",
       "      <th>25</th>\n",
       "      <td>Hiki Kowo</td>\n",
       "      <td>40.0</td>\n",
       "      <td>91%</td>\n",
       "      <td>A</td>\n",
       "      <td>1.0</td>\n",
       "    </tr>\n",
       "    <tr>\n",
       "      <th>26</th>\n",
       "      <td>Kofo Kopi</td>\n",
       "      <td>95.0</td>\n",
       "      <td>98%</td>\n",
       "      <td>A</td>\n",
       "      <td>0.0</td>\n",
       "    </tr>\n",
       "    <tr>\n",
       "      <th>27</th>\n",
       "      <td>Fata Puko</td>\n",
       "      <td>61.0</td>\n",
       "      <td>29%</td>\n",
       "      <td>C</td>\n",
       "      <td>1.0</td>\n",
       "    </tr>\n",
       "    <tr>\n",
       "      <th>28</th>\n",
       "      <td>Toja Fuku</td>\n",
       "      <td>74.0</td>\n",
       "      <td>95%</td>\n",
       "      <td>D</td>\n",
       "      <td>1.0</td>\n",
       "    </tr>\n",
       "    <tr>\n",
       "      <th>29</th>\n",
       "      <td>Fudo Jaro</td>\n",
       "      <td>75.0</td>\n",
       "      <td>85%</td>\n",
       "      <td>B</td>\n",
       "      <td>1.0</td>\n",
       "    </tr>\n",
       "    <tr>\n",
       "      <th>...</th>\n",
       "      <td>...</td>\n",
       "      <td>...</td>\n",
       "      <td>...</td>\n",
       "      <td>...</td>\n",
       "      <td>...</td>\n",
       "    </tr>\n",
       "    <tr>\n",
       "      <th>466</th>\n",
       "      <td>Date Reka</td>\n",
       "      <td>64.0</td>\n",
       "      <td>98%</td>\n",
       "      <td>C</td>\n",
       "      <td>0.0</td>\n",
       "    </tr>\n",
       "    <tr>\n",
       "      <th>467</th>\n",
       "      <td>Wiwu Peda</td>\n",
       "      <td>0.0</td>\n",
       "      <td>0%</td>\n",
       "      <td>A</td>\n",
       "      <td>0.0</td>\n",
       "    </tr>\n",
       "    <tr>\n",
       "      <th>468</th>\n",
       "      <td>Johi Rodi</td>\n",
       "      <td>0.0</td>\n",
       "      <td>0%</td>\n",
       "      <td>D</td>\n",
       "      <td>0.0</td>\n",
       "    </tr>\n",
       "    <tr>\n",
       "      <th>469</th>\n",
       "      <td>Doho Rawu</td>\n",
       "      <td>0.0</td>\n",
       "      <td>0%</td>\n",
       "      <td>D</td>\n",
       "      <td>0.0</td>\n",
       "    </tr>\n",
       "    <tr>\n",
       "      <th>470</th>\n",
       "      <td>Dape Jufu</td>\n",
       "      <td>0.0</td>\n",
       "      <td>0%</td>\n",
       "      <td>C</td>\n",
       "      <td>0.0</td>\n",
       "    </tr>\n",
       "    <tr>\n",
       "      <th>471</th>\n",
       "      <td>Nune Wajo</td>\n",
       "      <td>28.0</td>\n",
       "      <td>85%</td>\n",
       "      <td>B</td>\n",
       "      <td>1.0</td>\n",
       "    </tr>\n",
       "    <tr>\n",
       "      <th>472</th>\n",
       "      <td>Jori Nawi</td>\n",
       "      <td>11.0</td>\n",
       "      <td>100%</td>\n",
       "      <td>D</td>\n",
       "      <td>0.0</td>\n",
       "    </tr>\n",
       "    <tr>\n",
       "      <th>473</th>\n",
       "      <td>Rono Haha</td>\n",
       "      <td>25.0</td>\n",
       "      <td>92%</td>\n",
       "      <td>A</td>\n",
       "      <td>1.0</td>\n",
       "    </tr>\n",
       "    <tr>\n",
       "      <th>474</th>\n",
       "      <td>Tado Tana</td>\n",
       "      <td>95.0</td>\n",
       "      <td>94%</td>\n",
       "      <td>D</td>\n",
       "      <td>1.0</td>\n",
       "    </tr>\n",
       "    <tr>\n",
       "      <th>475</th>\n",
       "      <td>Wofe Dafa</td>\n",
       "      <td>79.0</td>\n",
       "      <td>95%</td>\n",
       "      <td>D</td>\n",
       "      <td>1.0</td>\n",
       "    </tr>\n",
       "    <tr>\n",
       "      <th>476</th>\n",
       "      <td>Tawi Tepi</td>\n",
       "      <td>21.0</td>\n",
       "      <td>96%</td>\n",
       "      <td>C</td>\n",
       "      <td>1.0</td>\n",
       "    </tr>\n",
       "    <tr>\n",
       "      <th>477</th>\n",
       "      <td>Rajo Hopa</td>\n",
       "      <td>0.0</td>\n",
       "      <td>0%</td>\n",
       "      <td>D</td>\n",
       "      <td>0.0</td>\n",
       "    </tr>\n",
       "    <tr>\n",
       "      <th>478</th>\n",
       "      <td>Wihu Paho</td>\n",
       "      <td>80.0</td>\n",
       "      <td>53%</td>\n",
       "      <td>B</td>\n",
       "      <td>1.0</td>\n",
       "    </tr>\n",
       "    <tr>\n",
       "      <th>479</th>\n",
       "      <td>Wato Defu</td>\n",
       "      <td>75.0</td>\n",
       "      <td>48%</td>\n",
       "      <td>B</td>\n",
       "      <td>1.0</td>\n",
       "    </tr>\n",
       "    <tr>\n",
       "      <th>480</th>\n",
       "      <td>Fuhe Neji</td>\n",
       "      <td>35.0</td>\n",
       "      <td>92%</td>\n",
       "      <td>D</td>\n",
       "      <td>1.0</td>\n",
       "    </tr>\n",
       "    <tr>\n",
       "      <th>481</th>\n",
       "      <td>Juto Puwi</td>\n",
       "      <td>56.0</td>\n",
       "      <td>87%</td>\n",
       "      <td>B</td>\n",
       "      <td>1.0</td>\n",
       "    </tr>\n",
       "    <tr>\n",
       "      <th>482</th>\n",
       "      <td>Pofu Horo</td>\n",
       "      <td>100.0</td>\n",
       "      <td>86%</td>\n",
       "      <td>C</td>\n",
       "      <td>1.0</td>\n",
       "    </tr>\n",
       "    <tr>\n",
       "      <th>483</th>\n",
       "      <td>Jowe Rifo</td>\n",
       "      <td>60.0</td>\n",
       "      <td>97%</td>\n",
       "      <td>D</td>\n",
       "      <td>0.0</td>\n",
       "    </tr>\n",
       "    <tr>\n",
       "      <th>484</th>\n",
       "      <td>Jiwi Huha</td>\n",
       "      <td>21.0</td>\n",
       "      <td>86%</td>\n",
       "      <td>D</td>\n",
       "      <td>1.0</td>\n",
       "    </tr>\n",
       "    <tr>\n",
       "      <th>485</th>\n",
       "      <td>Dije Fipo</td>\n",
       "      <td>10.0</td>\n",
       "      <td>91%</td>\n",
       "      <td>D</td>\n",
       "      <td>0.0</td>\n",
       "    </tr>\n",
       "    <tr>\n",
       "      <th>486</th>\n",
       "      <td>Reho Dipa</td>\n",
       "      <td>83.0</td>\n",
       "      <td>92%</td>\n",
       "      <td>A</td>\n",
       "      <td>1.0</td>\n",
       "    </tr>\n",
       "    <tr>\n",
       "      <th>487</th>\n",
       "      <td>Rato Rupe</td>\n",
       "      <td>28.0</td>\n",
       "      <td>80%</td>\n",
       "      <td>B</td>\n",
       "      <td>1.0</td>\n",
       "    </tr>\n",
       "    <tr>\n",
       "      <th>488</th>\n",
       "      <td>Hune Kipe</td>\n",
       "      <td>50.0</td>\n",
       "      <td>92%</td>\n",
       "      <td>B</td>\n",
       "      <td>1.0</td>\n",
       "    </tr>\n",
       "    <tr>\n",
       "      <th>489</th>\n",
       "      <td>Jiwu Kuta</td>\n",
       "      <td>24.0</td>\n",
       "      <td>41%</td>\n",
       "      <td>A</td>\n",
       "      <td>1.0</td>\n",
       "    </tr>\n",
       "    <tr>\n",
       "      <th>490</th>\n",
       "      <td>Fada Noja</td>\n",
       "      <td>38.0</td>\n",
       "      <td>21%</td>\n",
       "      <td>C</td>\n",
       "      <td>0.0</td>\n",
       "    </tr>\n",
       "    <tr>\n",
       "      <th>491</th>\n",
       "      <td>Jeka Niko</td>\n",
       "      <td>70.0</td>\n",
       "      <td>85%</td>\n",
       "      <td>D</td>\n",
       "      <td>1.0</td>\n",
       "    </tr>\n",
       "    <tr>\n",
       "      <th>492</th>\n",
       "      <td>Duta Difa</td>\n",
       "      <td>0.0</td>\n",
       "      <td>0%</td>\n",
       "      <td>D</td>\n",
       "      <td>0.0</td>\n",
       "    </tr>\n",
       "    <tr>\n",
       "      <th>493</th>\n",
       "      <td>Kuhi Fepi</td>\n",
       "      <td>32.0</td>\n",
       "      <td>93%</td>\n",
       "      <td>D</td>\n",
       "      <td>0.0</td>\n",
       "    </tr>\n",
       "    <tr>\n",
       "      <th>494</th>\n",
       "      <td>Kohe Doto</td>\n",
       "      <td>52.0</td>\n",
       "      <td>93%</td>\n",
       "      <td>D</td>\n",
       "      <td>1.0</td>\n",
       "    </tr>\n",
       "    <tr>\n",
       "      <th>495</th>\n",
       "      <td>Jeha Furu</td>\n",
       "      <td>19.0</td>\n",
       "      <td>59%</td>\n",
       "      <td>D</td>\n",
       "      <td>1.0</td>\n",
       "    </tr>\n",
       "  </tbody>\n",
       "</table>\n",
       "<p>496 rows × 5 columns</p>\n",
       "</div>"
      ],
      "text/plain": [
       "          name  totalOrders supplierConfirmRate group  active\n",
       "0    Wona Toti         73.0                 42%     B     1.0\n",
       "1    Fija Tiro         78.0                 94%     B     1.0\n",
       "2    Jedi Kihu          0.0                  0%     C     0.0\n",
       "3    Rere Jiko         31.0                 87%     B     1.0\n",
       "4    Nare Joru         56.0                 95%     B     1.0\n",
       "5    Fanu Fewo         60.0                 86%     A     0.0\n",
       "6    Nafu Hato         27.0                 95%     A     0.0\n",
       "7    Taho Wunu         60.0                 98%     B     1.0\n",
       "8    Taja Dora         55.0                 96%     B     1.0\n",
       "9    Jeto Nefo         81.0                 96%     A     1.0\n",
       "10   Hupo Tudu          2.0                 88%     B     0.0\n",
       "11   Kika Kedi         71.0                 94%     B     1.0\n",
       "12   Rika Wuro         26.0                 90%     D     1.0\n",
       "13   Poji Fiko         72.0                 90%     A     1.0\n",
       "14   Pefi Pura          0.0                  0%     A     0.0\n",
       "15   Rapu Wawi         14.0                 87%     C     1.0\n",
       "16   Kedi Kotu          0.0                  0%     C     0.0\n",
       "17   Wede Tora          0.0                  0%     D     0.0\n",
       "18   Depu Dure         12.0                 95%     B     0.0\n",
       "19   Huhu Nati         99.0                 93%     B     1.0\n",
       "20   Ruwi Reka         29.0                 38%     D     1.0\n",
       "21   Hehi Jifi          0.0                  0%     D     0.0\n",
       "22   Paho Jiju         42.0                 57%     D     1.0\n",
       "23   Petu Jude         66.0                 98%     B     1.0\n",
       "24   Pawi Fehu        100.0                 92%     A     1.0\n",
       "25   Hiki Kowo         40.0                 91%     A     1.0\n",
       "26   Kofo Kopi         95.0                 98%     A     0.0\n",
       "27   Fata Puko         61.0                 29%     C     1.0\n",
       "28   Toja Fuku         74.0                 95%     D     1.0\n",
       "29   Fudo Jaro         75.0                 85%     B     1.0\n",
       "..         ...          ...                 ...   ...     ...\n",
       "466  Date Reka         64.0                 98%     C     0.0\n",
       "467  Wiwu Peda          0.0                  0%     A     0.0\n",
       "468  Johi Rodi          0.0                  0%     D     0.0\n",
       "469  Doho Rawu          0.0                  0%     D     0.0\n",
       "470  Dape Jufu          0.0                  0%     C     0.0\n",
       "471  Nune Wajo         28.0                 85%     B     1.0\n",
       "472  Jori Nawi         11.0                100%     D     0.0\n",
       "473  Rono Haha         25.0                 92%     A     1.0\n",
       "474  Tado Tana         95.0                 94%     D     1.0\n",
       "475  Wofe Dafa         79.0                 95%     D     1.0\n",
       "476  Tawi Tepi         21.0                 96%     C     1.0\n",
       "477  Rajo Hopa          0.0                  0%     D     0.0\n",
       "478  Wihu Paho         80.0                 53%     B     1.0\n",
       "479  Wato Defu         75.0                 48%     B     1.0\n",
       "480  Fuhe Neji         35.0                 92%     D     1.0\n",
       "481  Juto Puwi         56.0                 87%     B     1.0\n",
       "482  Pofu Horo        100.0                 86%     C     1.0\n",
       "483  Jowe Rifo         60.0                 97%     D     0.0\n",
       "484  Jiwi Huha         21.0                 86%     D     1.0\n",
       "485  Dije Fipo         10.0                 91%     D     0.0\n",
       "486  Reho Dipa         83.0                 92%     A     1.0\n",
       "487  Rato Rupe         28.0                 80%     B     1.0\n",
       "488  Hune Kipe         50.0                 92%     B     1.0\n",
       "489  Jiwu Kuta         24.0                 41%     A     1.0\n",
       "490  Fada Noja         38.0                 21%     C     0.0\n",
       "491  Jeka Niko         70.0                 85%     D     1.0\n",
       "492  Duta Difa          0.0                  0%     D     0.0\n",
       "493  Kuhi Fepi         32.0                 93%     D     0.0\n",
       "494  Kohe Doto         52.0                 93%     D     1.0\n",
       "495  Jeha Furu         19.0                 59%     D     1.0\n",
       "\n",
       "[496 rows x 5 columns]"
      ]
     },
     "execution_count": 17,
     "metadata": {},
     "output_type": "execute_result"
    }
   ],
   "source": [
    "import pandas as pd\n",
    "import seaborn as sns\n",
    "import numpy as np\n",
    "from sklearn.linear_model import LogisticRegression\n",
    "\n",
    "# load data \n",
    "df = pd.read_csv(\"dataset.csv\", header=0)\n",
    "\n",
    "df.dropna()"
   ]
  },
  {
   "cell_type": "code",
   "execution_count": 13,
   "metadata": {},
   "outputs": [
    {
     "data": {
      "text/plain": [
       "<matplotlib.axes._subplots.AxesSubplot at 0x1a1da96320>"
      ]
     },
     "execution_count": 13,
     "metadata": {},
     "output_type": "execute_result"
    },
    {
     "data": {
      "image/png": "[encoded data removed]",
      "text/plain": [
       "<Figure size 432x288 with 1 Axes>"
      ]
     },
     "metadata": {
      "needs_background": "light"
     },
     "output_type": "display_data"
    }
   ],
   "source": [
    "#df=df.replace('?', np.NaN)\n",
    "sns.heatmap(df.isnull(),yticklabels=False,cbar=False)"
   ]
  },
  {
   "cell_type": "markdown",
   "metadata": {},
   "source": [
    "## Handle Missing Values\n",
    "Purpose, employement duration,job, and is foreign worker.\n",
    "We will replace the empty value with linear classification model"
   ]
  },
  {
   "cell_type": "code",
   "execution_count": 1740,
   "metadata": {},
   "outputs": [],
   "source": [
    "def replaceEmptyColumnWithClassifier(column):\n",
    "    \n",
    "    missing_column = ['purpose', 'employement_duration', 'job', 'is_foreign','credit_worthy']\n",
    "    X_variables = df.copy()\n",
    "    X_variables = X_variables.drop(missing_column, axis=1)\n",
    "    \n",
    "    nan_index = df.loc[lambda x: x[column].isnull() == True].index.values\n",
    "    X_variables_topredict = X_variables.iloc[nan_index]\n",
    "    \n",
    "    not_nan_index = df.loc[lambda x: x[column].isnull() == False].index.values\n",
    "    X_variables_train = X_variables.iloc[not_nan_index]\n",
    "    y_variables_train = df[column].iloc[not_nan_index]\n",
    "    \n",
    "    \n",
    "    categorical_column_to_encode = ['checking_account_status',\n",
    "                'credit_history',\n",
    "                'saving_account',\n",
    "                'gender_status', \n",
    "                'other_debtors', \n",
    "                'property', \n",
    "                'installment_plans', \n",
    "                'housing',\n",
    "                'telephone']\n",
    "    \n",
    "    X_variables_train = pd.get_dummies(X_variables_train, columns= categorical_column_to_encode)\n",
    "    X_variables_topredict = pd.get_dummies(X_variables_topredict, columns= categorical_column_to_encode)\n",
    "    \n",
    "    prediction_model = LogisticRegression()\n",
    "    \n",
    "\n",
    "    prediction_model.fit(X_variables_train, y_variables_train)\n",
    "    \n",
    "    \n",
    "    y_pred_train = prediction_model.predict(X_variables_train)\n",
    "    print(\"Accuracy: {}\".format(metrics.accuracy_score(y_variables_train, y_pred_train)))\n",
    "    \n",
    "    Score = cross_val_score(prediction_model, X_variables_train, y_variables_train, cv=5).mean()\n",
    "    print(\"Cross Validation: {}\".format(Score))\n",
    "    \n",
    "    y_pred = prediction_model.predict(X_variables_topredict)\n",
    "    df.at[X_variables_topredict.index.values, column] = y_pred"
   ]
  },
  {
   "cell_type": "markdown",
   "metadata": {},
   "source": [
    "### 1. Purpose"
   ]
  },
  {
   "cell_type": "code",
   "execution_count": 1741,
   "metadata": {
    "scrolled": false
   },
   "outputs": [
    {
     "name": "stdout",
     "output_type": "stream",
     "text": [
      "Accuracy: 0.42321644498186217\n",
      "Cross Validation: 0.3481566335872358\n"
     ]
    }
   ],
   "source": [
    "replaceEmptyColumnWithMostOccuredData('purpose')"
   ]
  },
  {
   "cell_type": "markdown",
   "metadata": {},
   "source": [
    "### 2. Employement duration"
   ]
  },
  {
   "cell_type": "code",
   "execution_count": 1742,
   "metadata": {},
   "outputs": [
    {
     "name": "stdout",
     "output_type": "stream",
     "text": [
      "Accuracy: 0.498015873015873\n",
      "Cross Validation: 0.3790942543711824\n"
     ]
    }
   ],
   "source": [
    "replaceEmptyColumnWithMostOccuredData('employement_duration')"
   ]
  },
  {
   "cell_type": "markdown",
   "metadata": {},
   "source": [
    "### 3. Job"
   ]
  },
  {
   "cell_type": "code",
   "execution_count": 1743,
   "metadata": {},
   "outputs": [
    {
     "name": "stdout",
     "output_type": "stream",
     "text": [
      "Accuracy: 0.6857887874837028\n",
      "Cross Validation: 0.6533273228319667\n"
     ]
    }
   ],
   "source": [
    "replaceEmptyColumnWithMostOccuredData('job')"
   ]
  },
  {
   "cell_type": "markdown",
   "metadata": {},
   "source": [
    "### 4. Foreign Worker"
   ]
  },
  {
   "cell_type": "code",
   "execution_count": 1744,
   "metadata": {},
   "outputs": [
    {
     "name": "stdout",
     "output_type": "stream",
     "text": [
      "Accuracy: 0.9625\n",
      "Cross Validation: 0.95626001419154\n"
     ]
    }
   ],
   "source": [
    "replaceEmptyColumnWithMostOccuredData('is_foreign')"
   ]
  },
  {
   "cell_type": "markdown",
   "metadata": {},
   "source": [
    "Now All Missing Datas Are prefiiled!"
   ]
  },
  {
   "cell_type": "code",
   "execution_count": 1745,
   "metadata": {},
   "outputs": [
    {
     "data": {
      "text/plain": [
       "<matplotlib.axes._subplots.AxesSubplot at 0x1a31fbcd68>"
      ]
     },
     "execution_count": 1745,
     "metadata": {},
     "output_type": "execute_result"
    },
    {
     "data": {
      "image/png": "[encoded data removed]",
      "text/plain": [
       "<Figure size 432x288 with 1 Axes>"
      ]
     },
     "metadata": {},
     "output_type": "display_data"
    }
   ],
   "source": [
    "sns.heatmap(df.isnull(),yticklabels=False,cbar=False)"
   ]
  },
  {
   "cell_type": "markdown",
   "metadata": {},
   "source": [
    "set boolean data to 0 and 1"
   ]
  },
  {
   "cell_type": "code",
   "execution_count": 1746,
   "metadata": {},
   "outputs": [],
   "source": [
    "df['credit_worthy'] =  np.where(df['credit_worthy'] == 2, 0, 1)"
   ]
  },
  {
   "cell_type": "code",
   "execution_count": 1747,
   "metadata": {},
   "outputs": [],
   "source": [
    "df['is_foreign'] = np.where(df['is_foreign'] == 'A202', 0, 1)"
   ]
  },
  {
   "cell_type": "code",
   "execution_count": 1748,
   "metadata": {},
   "outputs": [],
   "source": [
    "df['telephone'] = np.where(df['telephone'] == 'A191', 0, 1)"
   ]
  },
  {
   "cell_type": "markdown",
   "metadata": {},
   "source": [
    "Make the table value more readable"
   ]
  },
  {
   "cell_type": "code",
   "execution_count": 1749,
   "metadata": {},
   "outputs": [],
   "source": [
    "categorical_columns =  {\n",
    "    'checking_account_status':{\n",
    "        'A11':\"<0 EUR\", \n",
    "        'A12': \"0-200 EUR\",\n",
    "        'A13':\">= 200 EUR\",\n",
    "        'A14':\"none\"\n",
    "        },\n",
    "     'credit_history':{\n",
    "        \"A30\":\"no credits taken\",\n",
    "        \"A31\":\"all credits at this bank paid back duly\",\n",
    "        \"A32\":\"existing credits paid back duly till now\",\n",
    "        \"A33\":\"delay in paying off in the past\",\n",
    "        \"A34\":\"critical account\"\n",
    "         },\n",
    "     'purpose':{\n",
    "        \"A40\" : \"car (new)\",\n",
    "        \"A41\" : \"car (used)\",\n",
    "        \"A42\" : \"furniture/equipment\",\n",
    "        \"A43\" :\"radio/television\" ,\n",
    "        \"A44\" : \"domestic appliances\",\n",
    "        \"A45\" : \"repairs\",\n",
    "        \"A46\" : \"education\",\n",
    "        'A47' : 'vacation',\n",
    "        'A48' : 'retraining',\n",
    "        'A49' : 'business',\n",
    "        'A410' : 'others'\n",
    "         },\n",
    "    'saving_account' : {\n",
    "        \"A61\" : \"<100 EUR\",\n",
    "        \"A62\" : \"100-500 EUR\",\n",
    "        \"A63\" : \"500-1000 EUR\",\n",
    "        \"A64\" : \">= 1000 EUR\",\n",
    "        \"A65\" : \"none\"\n",
    "        },\n",
    "    'employement_duration' : {\n",
    "        'A71': \"unemployed\",\n",
    "        'A72': \"<1 years\",\n",
    "        'A73': \"1-4 years\",\n",
    "        'A74': \"4-7 years\",\n",
    "        'A75': \">=7 years\"\n",
    "        },\n",
    "    'gender_status' : { \n",
    "        'A91':\"male:divorced/separated\",\n",
    "        'A92':\"female:divorced/separated/married\",\n",
    "        'A93':\"male:single\",\n",
    "        'A94':\"male:married/widowed\",\n",
    "        'A95':\"female:single\"\n",
    "        },\n",
    "    'other_debtors' : {\n",
    "         'A101':\"none\",\n",
    "         'A102':\"co-applicant\",\n",
    "         'A103':\"guarantor\"\n",
    "         },\n",
    "    'property' : {\n",
    "        'A121':\"real estate\",\n",
    "        'A122':\"savings agreement/life insurance\",\n",
    "        'A123':\"car or other\",\n",
    "        'A124':\"unknown / no property\"\n",
    "        },\n",
    "    'installment_plans' : {\n",
    "         'A141':\"bank\",\n",
    "         'A142':\"store\",\n",
    "         'A143':\"none\"\n",
    "         },\n",
    "    'housing' : {\n",
    "        'A151':\"rent\",\n",
    "        'A152':\"own\",\n",
    "        'A153':\"for free\"\n",
    "        },\n",
    "    'job' : {\n",
    "        'A171':\"unemployed/ unskilled  - non-resident\",\n",
    "        'A172':\"unskilled - resident\",\n",
    "        'A173':\"skilled employee / official\",\n",
    "        'A174':\"management/ highly qualified employee\"\n",
    "        }\n",
    "    }\n",
    "    \n",
    "for column, value in categorical_columns.items():\n",
    "    df[column]=df[column].map(value)"
   ]
  },
  {
   "cell_type": "code",
   "execution_count": 1750,
   "metadata": {},
   "outputs": [
    {
     "data": {
      "text/html": [
       "<div>\n",
       "<style scoped>\n",
       "    .dataframe tbody tr th:only-of-type {\n",
       "        vertical-align: middle;\n",
       "    }\n",
       "\n",
       "    .dataframe tbody tr th {\n",
       "        vertical-align: top;\n",
       "    }\n",
       "\n",
       "    .dataframe thead th {\n",
       "        text-align: right;\n",
       "    }\n",
       "</style>\n",
       "<table border=\"1\" class=\"dataframe\">\n",
       "  <thead>\n",
       "    <tr style=\"text-align: right;\">\n",
       "      <th></th>\n",
       "      <th>checking_account_status</th>\n",
       "      <th>Duration (month)</th>\n",
       "      <th>credit_history</th>\n",
       "      <th>purpose</th>\n",
       "      <th>credit_amount</th>\n",
       "      <th>saving_account</th>\n",
       "      <th>employement_duration</th>\n",
       "      <th>installment_rate</th>\n",
       "      <th>gender_status</th>\n",
       "      <th>other_debtors</th>\n",
       "      <th>...</th>\n",
       "      <th>property</th>\n",
       "      <th>age</th>\n",
       "      <th>installment_plans</th>\n",
       "      <th>housing</th>\n",
       "      <th>num_of_credits</th>\n",
       "      <th>job</th>\n",
       "      <th>num_maintenance_prov</th>\n",
       "      <th>telephone</th>\n",
       "      <th>is_foreign</th>\n",
       "      <th>credit_worthy</th>\n",
       "    </tr>\n",
       "  </thead>\n",
       "  <tbody>\n",
       "    <tr>\n",
       "      <th>0</th>\n",
       "      <td>0-200 EUR</td>\n",
       "      <td>18</td>\n",
       "      <td>existing credits paid back duly till now</td>\n",
       "      <td>education</td>\n",
       "      <td>1239</td>\n",
       "      <td>none</td>\n",
       "      <td>1-4 years</td>\n",
       "      <td>4</td>\n",
       "      <td>male:single</td>\n",
       "      <td>none</td>\n",
       "      <td>...</td>\n",
       "      <td>unknown / no property</td>\n",
       "      <td>61</td>\n",
       "      <td>none</td>\n",
       "      <td>for free</td>\n",
       "      <td>1</td>\n",
       "      <td>skilled employee / official</td>\n",
       "      <td>1</td>\n",
       "      <td>0</td>\n",
       "      <td>1</td>\n",
       "      <td>1</td>\n",
       "    </tr>\n",
       "    <tr>\n",
       "      <th>1</th>\n",
       "      <td>&gt;= 200 EUR</td>\n",
       "      <td>24</td>\n",
       "      <td>existing credits paid back duly till now</td>\n",
       "      <td>car (new)</td>\n",
       "      <td>947</td>\n",
       "      <td>&lt;100 EUR</td>\n",
       "      <td>4-7 years</td>\n",
       "      <td>4</td>\n",
       "      <td>male:single</td>\n",
       "      <td>none</td>\n",
       "      <td>...</td>\n",
       "      <td>unknown / no property</td>\n",
       "      <td>38</td>\n",
       "      <td>bank</td>\n",
       "      <td>for free</td>\n",
       "      <td>1</td>\n",
       "      <td>skilled employee / official</td>\n",
       "      <td>2</td>\n",
       "      <td>0</td>\n",
       "      <td>1</td>\n",
       "      <td>0</td>\n",
       "    </tr>\n",
       "    <tr>\n",
       "      <th>2</th>\n",
       "      <td>none</td>\n",
       "      <td>15</td>\n",
       "      <td>delay in paying off in the past</td>\n",
       "      <td>radio/television</td>\n",
       "      <td>1478</td>\n",
       "      <td>&lt;100 EUR</td>\n",
       "      <td>1-4 years</td>\n",
       "      <td>4</td>\n",
       "      <td>male:married/widowed</td>\n",
       "      <td>none</td>\n",
       "      <td>...</td>\n",
       "      <td>real estate</td>\n",
       "      <td>33</td>\n",
       "      <td>bank</td>\n",
       "      <td>own</td>\n",
       "      <td>2</td>\n",
       "      <td>skilled employee / official</td>\n",
       "      <td>1</td>\n",
       "      <td>0</td>\n",
       "      <td>1</td>\n",
       "      <td>1</td>\n",
       "    </tr>\n",
       "    <tr>\n",
       "      <th>3</th>\n",
       "      <td>none</td>\n",
       "      <td>24</td>\n",
       "      <td>existing credits paid back duly till now</td>\n",
       "      <td>car (new)</td>\n",
       "      <td>1525</td>\n",
       "      <td>&gt;= 1000 EUR</td>\n",
       "      <td>4-7 years</td>\n",
       "      <td>4</td>\n",
       "      <td>female:divorced/separated/married</td>\n",
       "      <td>none</td>\n",
       "      <td>...</td>\n",
       "      <td>car or other</td>\n",
       "      <td>34</td>\n",
       "      <td>none</td>\n",
       "      <td>own</td>\n",
       "      <td>1</td>\n",
       "      <td>skilled employee / official</td>\n",
       "      <td>2</td>\n",
       "      <td>1</td>\n",
       "      <td>1</td>\n",
       "      <td>1</td>\n",
       "    </tr>\n",
       "    <tr>\n",
       "      <th>4</th>\n",
       "      <td>0-200 EUR</td>\n",
       "      <td>24</td>\n",
       "      <td>critical account</td>\n",
       "      <td>car (new)</td>\n",
       "      <td>3878</td>\n",
       "      <td>100-500 EUR</td>\n",
       "      <td>1-4 years</td>\n",
       "      <td>4</td>\n",
       "      <td>male:divorced/separated</td>\n",
       "      <td>none</td>\n",
       "      <td>...</td>\n",
       "      <td>car or other</td>\n",
       "      <td>37</td>\n",
       "      <td>none</td>\n",
       "      <td>own</td>\n",
       "      <td>1</td>\n",
       "      <td>skilled employee / official</td>\n",
       "      <td>1</td>\n",
       "      <td>1</td>\n",
       "      <td>1</td>\n",
       "      <td>1</td>\n",
       "    </tr>\n",
       "  </tbody>\n",
       "</table>\n",
       "<p>5 rows × 21 columns</p>\n",
       "</div>"
      ],
      "text/plain": [
       "  checking_account_status  Duration (month)  \\\n",
       "0               0-200 EUR                18   \n",
       "1              >= 200 EUR                24   \n",
       "2                    none                15   \n",
       "3                    none                24   \n",
       "4               0-200 EUR                24   \n",
       "\n",
       "                             credit_history           purpose  credit_amount  \\\n",
       "0  existing credits paid back duly till now         education           1239   \n",
       "1  existing credits paid back duly till now         car (new)            947   \n",
       "2           delay in paying off in the past  radio/television           1478   \n",
       "3  existing credits paid back duly till now         car (new)           1525   \n",
       "4                          critical account         car (new)           3878   \n",
       "\n",
       "  saving_account employement_duration  installment_rate  \\\n",
       "0           none            1-4 years                 4   \n",
       "1       <100 EUR            4-7 years                 4   \n",
       "2       <100 EUR            1-4 years                 4   \n",
       "3    >= 1000 EUR            4-7 years                 4   \n",
       "4    100-500 EUR            1-4 years                 4   \n",
       "\n",
       "                       gender_status other_debtors      ...        \\\n",
       "0                        male:single          none      ...         \n",
       "1                        male:single          none      ...         \n",
       "2               male:married/widowed          none      ...         \n",
       "3  female:divorced/separated/married          none      ...         \n",
       "4            male:divorced/separated          none      ...         \n",
       "\n",
       "                property age  installment_plans   housing num_of_credits  \\\n",
       "0  unknown / no property  61               none  for free              1   \n",
       "1  unknown / no property  38               bank  for free              1   \n",
       "2            real estate  33               bank       own              2   \n",
       "3           car or other  34               none       own              1   \n",
       "4           car or other  37               none       own              1   \n",
       "\n",
       "                           job num_maintenance_prov  telephone  is_foreign  \\\n",
       "0  skilled employee / official                    1          0           1   \n",
       "1  skilled employee / official                    2          0           1   \n",
       "2  skilled employee / official                    1          0           1   \n",
       "3  skilled employee / official                    2          1           1   \n",
       "4  skilled employee / official                    1          1           1   \n",
       "\n",
       "   credit_worthy  \n",
       "0              1  \n",
       "1              0  \n",
       "2              1  \n",
       "3              1  \n",
       "4              1  \n",
       "\n",
       "[5 rows x 21 columns]"
      ]
     },
     "execution_count": 1750,
     "metadata": {},
     "output_type": "execute_result"
    }
   ],
   "source": [
    "df.head()"
   ]
  },
  {
   "cell_type": "code",
   "execution_count": 1751,
   "metadata": {},
   "outputs": [
    {
     "name": "stdout",
     "output_type": "stream",
     "text": [
      "<class 'pandas.core.frame.DataFrame'>\n",
      "RangeIndex: 999 entries, 0 to 998\n",
      "Data columns (total 21 columns):\n",
      "checking_account_status    999 non-null object\n",
      "Duration (month)           999 non-null int64\n",
      "credit_history             999 non-null object\n",
      "purpose                    999 non-null object\n",
      "credit_amount              999 non-null int64\n",
      "saving_account             999 non-null object\n",
      "employement_duration       999 non-null object\n",
      "installment_rate           999 non-null int64\n",
      "gender_status              999 non-null object\n",
      "other_debtors              999 non-null object\n",
      "residence_duration         999 non-null int64\n",
      "property                   999 non-null object\n",
      "age                        999 non-null int64\n",
      "installment_plans          999 non-null object\n",
      "housing                    999 non-null object\n",
      "num_of_credits             999 non-null int64\n",
      "job                        999 non-null object\n",
      "num_maintenance_prov       999 non-null int64\n",
      "telephone                  999 non-null int64\n",
      "is_foreign                 999 non-null int64\n",
      "credit_worthy              999 non-null int64\n",
      "dtypes: int64(10), object(11)\n",
      "memory usage: 164.0+ KB\n"
     ]
    }
   ],
   "source": [
    "df.info()"
   ]
  },
  {
   "cell_type": "markdown",
   "metadata": {},
   "source": [
    "## Data Visualization\n",
    "exploring data set"
   ]
  },
  {
   "cell_type": "markdown",
   "metadata": {},
   "source": [
    "Target Variable Distribution"
   ]
  },
  {
   "cell_type": "code",
   "execution_count": 3,
   "metadata": {},
   "outputs": [
    {
     "data": {
      "text/plain": [
       "<matplotlib.axes._subplots.AxesSubplot at 0x1a1cdc53c8>"
      ]
     },
     "execution_count": 3,
     "metadata": {},
     "output_type": "execute_result"
    },
    {
     "data": {
      "image/png": "[encoded data removed]",
      "text/plain": [
       "<Figure size 432x288 with 1 Axes>"
      ]
     },
     "metadata": {
      "needs_background": "light"
     },
     "output_type": "display_data"
    }
   ],
   "source": [
    "sns.countplot('active', data = df)"
   ]
  },
  {
   "cell_type": "markdown",
   "metadata": {},
   "source": [
    "we could see from the distribution above, that the occurence of positive result are quite high "
   ]
  },
  {
   "cell_type": "markdown",
   "metadata": {},
   "source": [
    "Categorical Data"
   ]
  },
  {
   "cell_type": "code",
   "execution_count": 9,
   "metadata": {},
   "outputs": [],
   "source": [
    "import matplotlib\n",
    "import matplotlib.pyplot as plt\n",
    "\n",
    "def calculate_ratio(column):\n",
    "    distinct_values = df[column].unique()\n",
    "\n",
    "    d = pd.DataFrame(columns = distinct_values)\n",
    "    for value in enumerate(distinct_values):\n",
    "        total = df[column].value_counts()[value]\n",
    "        l = list()\n",
    "        for i in range(0,2):\n",
    "            part =df[df.active==i][column].value_counts()[value]\n",
    "            l.append(part/total)\n",
    "        d[value] = l\n",
    "\n",
    "    return d\n",
    "\n",
    "def show_countplot_by_target(column):\n",
    "    plt.figure()\n",
    "    ax = sns.countplot(column, hue= 'active' , data = df )\n",
    "    ax.set_xticklabels(ax.get_xticklabels(), rotation=40, ha=\"right\")\n",
    "    plt.tight_layout()\n",
    "        \n",
    "def show_countplot(column):\n",
    "    plt.figure()\n",
    "    ax1 = sns.countplot(column, data = df )\n",
    "    ax1.set_xticklabels(ax1.get_xticklabels(), rotation=40, ha=\"right\")\n",
    "    plt.tight_layout()\n",
    "    plt.show()"
   ]
  },
  {
   "cell_type": "code",
   "execution_count": 11,
   "metadata": {},
   "outputs": [
    {
     "data": {
      "image/png": "[encoded data removed]",
      "text/plain": [
       "<Figure size 432x288 with 1 Axes>"
      ]
     },
     "metadata": {
      "needs_background": "light"
     },
     "output_type": "display_data"
    },
    {
     "data": {
      "image/png": "[encoded data removed]",
      "text/plain": [
       "<Figure size 432x288 with 1 Axes>"
      ]
     },
     "metadata": {
      "needs_background": "light"
     },
     "output_type": "display_data"
    }
   ],
   "source": [
    "    #'installment_plans' \n",
    "    #display(calculate_ratio('group'))\n",
    "    show_countplot_by_target('group')\n",
    "    show_countplot('group')"
   ]
  },
  {
   "cell_type": "markdown",
   "metadata": {},
   "source": [
    "The range ratio between 'None' and other type of installment plans are really large"
   ]
  },
  {
   "cell_type": "markdown",
   "metadata": {},
   "source": [
    "Numerical Data"
   ]
  },
  {
   "cell_type": "code",
   "execution_count": 1755,
   "metadata": {},
   "outputs": [],
   "source": [
    "numerical_columns = [\n",
    "            'Duration (month)',\n",
    "            'credit_amount',\n",
    "            'installment_rate',\n",
    "            'residence_duration',\n",
    "            'age',\n",
    "            'num_of_credits',\n",
    "            'num_maintenance_prov',\n",
    "            'telephone',\n",
    "            'is_foreign']"
   ]
  },
  {
   "cell_type": "code",
   "execution_count": 1756,
   "metadata": {},
   "outputs": [
    {
     "data": {
      "text/plain": [
       "<matplotlib.axes._subplots.AxesSubplot at 0x1a3219a7f0>"
      ]
     },
     "execution_count": 1756,
     "metadata": {},
     "output_type": "execute_result"
    },
    {
     "data": {
      "image/png": "[encoded data removed]",
      "text/plain": [
       "<Figure size 720x504 with 2 Axes>"
      ]
     },
     "metadata": {},
     "output_type": "display_data"
    }
   ],
   "source": [
    "corr = df.corr()\n",
    "num,ax = plt.subplots(figsize=(10, 7))\n",
    "sns.heatmap(corr, \n",
    "        xticklabels=corr.columns,\n",
    "        yticklabels=corr.columns,annot=True, fmt=\".2f\",cbar_kws={'label': 'Percentage %'}, ax= ax)"
   ]
  },
  {
   "cell_type": "markdown",
   "metadata": {},
   "source": [
    "residence_duration, num_maintenance_prov, and telephone have low correlation with credit_worthy"
   ]
  },
  {
   "cell_type": "code",
   "execution_count": 1757,
   "metadata": {},
   "outputs": [
    {
     "data": {
      "text/plain": [
       "<matplotlib.axes._subplots.AxesSubplot at 0x1a32777588>"
      ]
     },
     "execution_count": 1757,
     "metadata": {},
     "output_type": "execute_result"
    },
    {
     "data": {
      "image/png": "[encoded data removed]",
      "text/plain": [
       "<Figure size 432x288 with 1 Axes>"
      ]
     },
     "metadata": {},
     "output_type": "display_data"
    }
   ],
   "source": [
    "#'credit_amount'\n",
    "plt.figure()\n",
    "sns.boxplot( x = 'credit_amount', data = df)"
   ]
  },
  {
   "cell_type": "markdown",
   "metadata": {},
   "source": [
    " credit amount has many outliers"
   ]
  },
  {
   "cell_type": "markdown",
   "metadata": {},
   "source": [
    "### Analysis Result\n",
    "based on analysis these are columns that could be eliminated because the number of instances comparison are too low, or the correlation between independent variables and target variable is low\n",
    "\n",
    "- installment_plans: bank, store\n",
    "- residence duration\n",
    "- num_maintenance_prov\n",
    "- telephone"
   ]
  },
  {
   "cell_type": "code",
   "execution_count": 1758,
   "metadata": {},
   "outputs": [],
   "source": [
    "removed_columns = [\n",
    "'installment_plans_bank',\n",
    "'installment_plans_store',\n",
    "'residence_duration',\n",
    "'num_maintenance_prov',\n",
    "'telephone']\n"
   ]
  },
  {
   "cell_type": "markdown",
   "metadata": {},
   "source": [
    "### Handling Outliers"
   ]
  },
  {
   "cell_type": "code",
   "execution_count": 1759,
   "metadata": {},
   "outputs": [
    {
     "name": "stdout",
     "output_type": "stream",
     "text": [
      "Q3: 3972.5\n"
     ]
    }
   ],
   "source": [
    "Q3 = df.quantile(0.75)\n",
    "IQR = Q3 - Q1\n",
    "print(\"Q3: {}\".format(Q3['credit_amount']))\n",
    "index_of_outliers = df[df['credit_amount'] > (Q3['credit_amount'] + 1.5 * IQR['credit_amount'])].index.values\n",
    "df.at[index_of_outliers, 'credit_amount'] = Q3['credit_amount']"
   ]
  },
  {
   "cell_type": "markdown",
   "metadata": {},
   "source": [
    "## Split data to Train and Test"
   ]
  },
  {
   "cell_type": "code",
   "execution_count": 1760,
   "metadata": {},
   "outputs": [
    {
     "name": "stdout",
     "output_type": "stream",
     "text": [
      "(799, 20) (799, 1)\n"
     ]
    }
   ],
   "source": [
    "from sklearn.model_selection import train_test_split\n",
    "\n",
    "X_train, X_test,y_train, y_test = train_test_split(df.loc[:, 'checking_account_status':'is_foreign' ], df.loc[:,[\"credit_worthy\"]],test_size=0.2, random_state=42)\n",
    "print(X_train.shape, y_train.shape)"
   ]
  },
  {
   "cell_type": "markdown",
   "metadata": {},
   "source": [
    "We will train the model with both raw data (no feature selection) and Analysis Result datas (with features selection). Since there are several categorical datas, we need to encode it to numerical before fit in to the model"
   ]
  },
  {
   "cell_type": "code",
   "execution_count": 1761,
   "metadata": {},
   "outputs": [],
   "source": [
    "X_train_raw=X_train.copy()\n",
    "X_train_raw = pd.get_dummies(X_train_raw, columns= list(categorical_columns.keys()))\n",
    "X_test_raw=X_test.copy()\n",
    "X_test_raw = pd.get_dummies(X_test_raw, columns= list(categorical_columns.keys()))"
   ]
  },
  {
   "cell_type": "code",
   "execution_count": 1762,
   "metadata": {},
   "outputs": [],
   "source": [
    "X_train_AR=X_train.copy()\n",
    "X_train_AR = pd.get_dummies(X_train_AR, columns= list(categorical_columns.keys()))\n",
    "X_test_AR = X_test.copy()\n",
    "X_test_AR = pd.get_dummies(X_test_AR, columns= list(categorical_columns.keys()))\n",
    "\n",
    "X_train_AR = X_train_AR.drop(removed_columns, axis=1)\n",
    "X_test_AR = X_test_AR.drop(removed_columns, axis=1)\n"
   ]
  },
  {
   "cell_type": "markdown",
   "metadata": {},
   "source": [
    "# Fit The Model\n",
    "I will use:\n",
    "- logistic regression\n",
    "- random forest\n",
    "- decision tree\n",
    "- gradient boosting"
   ]
  },
  {
   "cell_type": "code",
   "execution_count": 1763,
   "metadata": {},
   "outputs": [],
   "source": [
    "from sklearn.linear_model import LogisticRegression\n",
    "from sklearn.ensemble import RandomForestClassifier, GradientBoostingClassifier\n",
    "from sklearn.tree import DecisionTreeClassifier \n",
    "\n",
    "random_forest = RandomForestClassifier(n_estimators=50, max_depth=5, random_state=42)\n",
    "logistic_regression = LogisticRegression(random_state=42)\n",
    "decision_tree = DecisionTreeClassifier(criterion='entropy', min_samples_leaf=10, random_state=42)\n",
    "gradboost_clf = GradientBoostingClassifier(max_depth=5, random_state=42)\n",
    "\n",
    "model_classifier = {\n",
    "    \"random_forest\" : random_forest,\n",
    "    \"logistic_regression\" : logistic_regression,\n",
    "    \"decision_tree\" : decision_tree,\n",
    "    \"gradient_boosting\" : gradboost_clf\n",
    "}"
   ]
  },
  {
   "cell_type": "markdown",
   "metadata": {},
   "source": [
    "below is the fitting model and test. And some score comparison."
   ]
  },
  {
   "cell_type": "code",
   "execution_count": 1764,
   "metadata": {},
   "outputs": [],
   "source": [
    "from sklearn.metrics import roc_auc_score, confusion_matrix, average_precision_score, fbeta_score\n",
    "from sklearn import metrics\n",
    "from sklearn.model_selection import cross_val_score\n",
    "\n",
    "def run_classification(X_train_data, X_test_data, y_train_data, y_test_data, typeName):\n",
    "    Results = pd.DataFrame(columns = ['Model', 'CV(5)', 'Accuracy', 'Precision_score', 'Recall_score','F1_score','Fbeta_score'])\n",
    "    for model, model_name in zip(model_classifier.values(), model_classifier.keys()):\n",
    "        y_train_arr, y_test_arr=y_train_data['credit_worthy'].values, y_test_data['credit_worthy'].values\n",
    "        \n",
    "        model.fit(X_train_data, y_train_arr)\n",
    "        y_pred = model.predict(X_test_data)\n",
    "        y_score = model.predict_proba(X_test_data)[:,1]\n",
    "        \n",
    "        X_datas = pd.concat([X_train_data, X_test_data])\n",
    "        y_datas = pd.concat([y_train_data, y_test_data])['credit_worthy'].values\n",
    "        Score = cross_val_score(model, X_datas, y_datas, cv=5).mean()\n",
    "        \n",
    "    \n",
    "       \n",
    "        t = pd.Series({ \n",
    "                         'Model': typeName + \"_\" + model_name,\n",
    "                         'CV(5)': Score,\n",
    "                         'Accuracy': metrics.accuracy_score(y_test_arr, y_pred),\n",
    "                         'Precision_score': metrics.precision_score(y_test_arr, y_pred),\n",
    "                         'Recall_score': metrics.recall_score(y_test_arr, y_pred),                    \n",
    "                         'F1_score': metrics.f1_score(y_test_arr, y_pred),\n",
    "                         'Fbeta_score': metrics.fbeta_score(y_test_arr, y_pred,beta=0.5)\n",
    "                     })\n",
    "\n",
    "        Results = Results.append(t,ignore_index = True)\n",
    "    return Results"
   ]
  },
  {
   "cell_type": "markdown",
   "metadata": {},
   "source": [
    "## Raw Datas"
   ]
  },
  {
   "cell_type": "code",
   "execution_count": 1765,
   "metadata": {},
   "outputs": [
    {
     "data": {
      "text/html": [
       "<div>\n",
       "<style scoped>\n",
       "    .dataframe tbody tr th:only-of-type {\n",
       "        vertical-align: middle;\n",
       "    }\n",
       "\n",
       "    .dataframe tbody tr th {\n",
       "        vertical-align: top;\n",
       "    }\n",
       "\n",
       "    .dataframe thead th {\n",
       "        text-align: right;\n",
       "    }\n",
       "</style>\n",
       "<table border=\"1\" class=\"dataframe\">\n",
       "  <thead>\n",
       "    <tr style=\"text-align: right;\">\n",
       "      <th></th>\n",
       "      <th>Model</th>\n",
       "      <th>CV(5)</th>\n",
       "      <th>Accuracy</th>\n",
       "      <th>Precision_score</th>\n",
       "      <th>Recall_score</th>\n",
       "      <th>F1_score</th>\n",
       "      <th>Fbeta_score</th>\n",
       "    </tr>\n",
       "  </thead>\n",
       "  <tbody>\n",
       "    <tr>\n",
       "      <th>0</th>\n",
       "      <td>RAW_random_forest</td>\n",
       "      <td>0.728719</td>\n",
       "      <td>0.730</td>\n",
       "      <td>0.743169</td>\n",
       "      <td>0.951049</td>\n",
       "      <td>0.834356</td>\n",
       "      <td>0.777143</td>\n",
       "    </tr>\n",
       "    <tr>\n",
       "      <th>1</th>\n",
       "      <td>RAW_logistic_regression</td>\n",
       "      <td>0.753714</td>\n",
       "      <td>0.715</td>\n",
       "      <td>0.786667</td>\n",
       "      <td>0.825175</td>\n",
       "      <td>0.805461</td>\n",
       "      <td>0.794078</td>\n",
       "    </tr>\n",
       "    <tr>\n",
       "      <th>2</th>\n",
       "      <td>RAW_decision_tree</td>\n",
       "      <td>0.687678</td>\n",
       "      <td>0.715</td>\n",
       "      <td>0.816176</td>\n",
       "      <td>0.776224</td>\n",
       "      <td>0.795699</td>\n",
       "      <td>0.807860</td>\n",
       "    </tr>\n",
       "    <tr>\n",
       "      <th>3</th>\n",
       "      <td>RAW_gradient_boosting</td>\n",
       "      <td>0.755719</td>\n",
       "      <td>0.755</td>\n",
       "      <td>0.813333</td>\n",
       "      <td>0.853147</td>\n",
       "      <td>0.832765</td>\n",
       "      <td>0.820996</td>\n",
       "    </tr>\n",
       "  </tbody>\n",
       "</table>\n",
       "</div>"
      ],
      "text/plain": [
       "                     Model     CV(5)  Accuracy  Precision_score  Recall_score  \\\n",
       "0        RAW_random_forest  0.728719     0.730         0.743169      0.951049   \n",
       "1  RAW_logistic_regression  0.753714     0.715         0.786667      0.825175   \n",
       "2        RAW_decision_tree  0.687678     0.715         0.816176      0.776224   \n",
       "3    RAW_gradient_boosting  0.755719     0.755         0.813333      0.853147   \n",
       "\n",
       "   F1_score  Fbeta_score  \n",
       "0  0.834356     0.777143  \n",
       "1  0.805461     0.794078  \n",
       "2  0.795699     0.807860  \n",
       "3  0.832765     0.820996  "
      ]
     },
     "execution_count": 1765,
     "metadata": {},
     "output_type": "execute_result"
    }
   ],
   "source": [
    "raw_results = run_classification(X_train_raw, X_test_raw, y_train, y_test, \"RAW\")\n",
    "raw_results"
   ]
  },
  {
   "cell_type": "markdown",
   "metadata": {},
   "source": [
    "## Analysis result Datas"
   ]
  },
  {
   "cell_type": "code",
   "execution_count": 1766,
   "metadata": {},
   "outputs": [
    {
     "data": {
      "text/html": [
       "<div>\n",
       "<style scoped>\n",
       "    .dataframe tbody tr th:only-of-type {\n",
       "        vertical-align: middle;\n",
       "    }\n",
       "\n",
       "    .dataframe tbody tr th {\n",
       "        vertical-align: top;\n",
       "    }\n",
       "\n",
       "    .dataframe thead th {\n",
       "        text-align: right;\n",
       "    }\n",
       "</style>\n",
       "<table border=\"1\" class=\"dataframe\">\n",
       "  <thead>\n",
       "    <tr style=\"text-align: right;\">\n",
       "      <th></th>\n",
       "      <th>Model</th>\n",
       "      <th>CV(5)</th>\n",
       "      <th>Accuracy</th>\n",
       "      <th>Precision_score</th>\n",
       "      <th>Recall_score</th>\n",
       "      <th>F1_score</th>\n",
       "      <th>Fbeta_score</th>\n",
       "    </tr>\n",
       "  </thead>\n",
       "  <tbody>\n",
       "    <tr>\n",
       "      <th>0</th>\n",
       "      <td>AR_random_forest</td>\n",
       "      <td>0.735709</td>\n",
       "      <td>0.725</td>\n",
       "      <td>0.736559</td>\n",
       "      <td>0.958042</td>\n",
       "      <td>0.832827</td>\n",
       "      <td>0.772266</td>\n",
       "    </tr>\n",
       "    <tr>\n",
       "      <th>1</th>\n",
       "      <td>AR_logistic_regression</td>\n",
       "      <td>0.752698</td>\n",
       "      <td>0.720</td>\n",
       "      <td>0.784314</td>\n",
       "      <td>0.839161</td>\n",
       "      <td>0.810811</td>\n",
       "      <td>0.794702</td>\n",
       "    </tr>\n",
       "    <tr>\n",
       "      <th>2</th>\n",
       "      <td>AR_decision_tree</td>\n",
       "      <td>0.693709</td>\n",
       "      <td>0.710</td>\n",
       "      <td>0.819549</td>\n",
       "      <td>0.762238</td>\n",
       "      <td>0.789855</td>\n",
       "      <td>0.807407</td>\n",
       "    </tr>\n",
       "    <tr>\n",
       "      <th>3</th>\n",
       "      <td>AR_gradient_boosting</td>\n",
       "      <td>0.756734</td>\n",
       "      <td>0.735</td>\n",
       "      <td>0.796053</td>\n",
       "      <td>0.846154</td>\n",
       "      <td>0.820339</td>\n",
       "      <td>0.805593</td>\n",
       "    </tr>\n",
       "  </tbody>\n",
       "</table>\n",
       "</div>"
      ],
      "text/plain": [
       "                    Model     CV(5)  Accuracy  Precision_score  Recall_score  \\\n",
       "0        AR_random_forest  0.735709     0.725         0.736559      0.958042   \n",
       "1  AR_logistic_regression  0.752698     0.720         0.784314      0.839161   \n",
       "2        AR_decision_tree  0.693709     0.710         0.819549      0.762238   \n",
       "3    AR_gradient_boosting  0.756734     0.735         0.796053      0.846154   \n",
       "\n",
       "   F1_score  Fbeta_score  \n",
       "0  0.832827     0.772266  \n",
       "1  0.810811     0.794702  \n",
       "2  0.789855     0.807407  \n",
       "3  0.820339     0.805593  "
      ]
     },
     "execution_count": 1766,
     "metadata": {},
     "output_type": "execute_result"
    }
   ],
   "source": [
    "Results_AR = run_classification(X_train_AR, X_test_AR, y_train, y_test, \"AR\")\n",
    "Results_AR"
   ]
  },
  {
   "cell_type": "markdown",
   "metadata": {},
   "source": [
    "## Model Comparison"
   ]
  },
  {
   "cell_type": "code",
   "execution_count": 1767,
   "metadata": {},
   "outputs": [],
   "source": [
    "Final_result = pd.concat([raw_results, Results_AR])"
   ]
  },
  {
   "cell_type": "markdown",
   "metadata": {},
   "source": [
    "### 1) Accuracy"
   ]
  },
  {
   "cell_type": "code",
   "execution_count": 1768,
   "metadata": {},
   "outputs": [
    {
     "data": {
      "text/html": [
       "<div>\n",
       "<style scoped>\n",
       "    .dataframe tbody tr th:only-of-type {\n",
       "        vertical-align: middle;\n",
       "    }\n",
       "\n",
       "    .dataframe tbody tr th {\n",
       "        vertical-align: top;\n",
       "    }\n",
       "\n",
       "    .dataframe thead th {\n",
       "        text-align: right;\n",
       "    }\n",
       "</style>\n",
       "<table border=\"1\" class=\"dataframe\">\n",
       "  <thead>\n",
       "    <tr style=\"text-align: right;\">\n",
       "      <th></th>\n",
       "      <th>Model</th>\n",
       "      <th>Accuracy</th>\n",
       "    </tr>\n",
       "  </thead>\n",
       "  <tbody>\n",
       "    <tr>\n",
       "      <th>3</th>\n",
       "      <td>RAW_gradient_boosting</td>\n",
       "      <td>0.755</td>\n",
       "    </tr>\n",
       "    <tr>\n",
       "      <th>3</th>\n",
       "      <td>AR_gradient_boosting</td>\n",
       "      <td>0.735</td>\n",
       "    </tr>\n",
       "    <tr>\n",
       "      <th>0</th>\n",
       "      <td>RAW_random_forest</td>\n",
       "      <td>0.730</td>\n",
       "    </tr>\n",
       "    <tr>\n",
       "      <th>0</th>\n",
       "      <td>AR_random_forest</td>\n",
       "      <td>0.725</td>\n",
       "    </tr>\n",
       "    <tr>\n",
       "      <th>1</th>\n",
       "      <td>AR_logistic_regression</td>\n",
       "      <td>0.720</td>\n",
       "    </tr>\n",
       "    <tr>\n",
       "      <th>1</th>\n",
       "      <td>RAW_logistic_regression</td>\n",
       "      <td>0.715</td>\n",
       "    </tr>\n",
       "    <tr>\n",
       "      <th>2</th>\n",
       "      <td>RAW_decision_tree</td>\n",
       "      <td>0.715</td>\n",
       "    </tr>\n",
       "    <tr>\n",
       "      <th>2</th>\n",
       "      <td>AR_decision_tree</td>\n",
       "      <td>0.710</td>\n",
       "    </tr>\n",
       "  </tbody>\n",
       "</table>\n",
       "</div>"
      ],
      "text/plain": [
       "                     Model  Accuracy\n",
       "3    RAW_gradient_boosting     0.755\n",
       "3     AR_gradient_boosting     0.735\n",
       "0        RAW_random_forest     0.730\n",
       "0         AR_random_forest     0.725\n",
       "1   AR_logistic_regression     0.720\n",
       "1  RAW_logistic_regression     0.715\n",
       "2        RAW_decision_tree     0.715\n",
       "2         AR_decision_tree     0.710"
      ]
     },
     "execution_count": 1768,
     "metadata": {},
     "output_type": "execute_result"
    }
   ],
   "source": [
    "Final_result[['Model', 'Accuracy']].sort_values(by=['Accuracy'], ascending=False)"
   ]
  },
  {
   "cell_type": "markdown",
   "metadata": {},
   "source": [
    "### 2) Precision"
   ]
  },
  {
   "cell_type": "code",
   "execution_count": 1769,
   "metadata": {},
   "outputs": [
    {
     "data": {
      "text/html": [
       "<div>\n",
       "<style scoped>\n",
       "    .dataframe tbody tr th:only-of-type {\n",
       "        vertical-align: middle;\n",
       "    }\n",
       "\n",
       "    .dataframe tbody tr th {\n",
       "        vertical-align: top;\n",
       "    }\n",
       "\n",
       "    .dataframe thead th {\n",
       "        text-align: right;\n",
       "    }\n",
       "</style>\n",
       "<table border=\"1\" class=\"dataframe\">\n",
       "  <thead>\n",
       "    <tr style=\"text-align: right;\">\n",
       "      <th></th>\n",
       "      <th>Model</th>\n",
       "      <th>Precision_score</th>\n",
       "    </tr>\n",
       "  </thead>\n",
       "  <tbody>\n",
       "    <tr>\n",
       "      <th>2</th>\n",
       "      <td>AR_decision_tree</td>\n",
       "      <td>0.819549</td>\n",
       "    </tr>\n",
       "    <tr>\n",
       "      <th>2</th>\n",
       "      <td>RAW_decision_tree</td>\n",
       "      <td>0.816176</td>\n",
       "    </tr>\n",
       "    <tr>\n",
       "      <th>3</th>\n",
       "      <td>RAW_gradient_boosting</td>\n",
       "      <td>0.813333</td>\n",
       "    </tr>\n",
       "    <tr>\n",
       "      <th>3</th>\n",
       "      <td>AR_gradient_boosting</td>\n",
       "      <td>0.796053</td>\n",
       "    </tr>\n",
       "    <tr>\n",
       "      <th>1</th>\n",
       "      <td>RAW_logistic_regression</td>\n",
       "      <td>0.786667</td>\n",
       "    </tr>\n",
       "    <tr>\n",
       "      <th>1</th>\n",
       "      <td>AR_logistic_regression</td>\n",
       "      <td>0.784314</td>\n",
       "    </tr>\n",
       "    <tr>\n",
       "      <th>0</th>\n",
       "      <td>RAW_random_forest</td>\n",
       "      <td>0.743169</td>\n",
       "    </tr>\n",
       "    <tr>\n",
       "      <th>0</th>\n",
       "      <td>AR_random_forest</td>\n",
       "      <td>0.736559</td>\n",
       "    </tr>\n",
       "  </tbody>\n",
       "</table>\n",
       "</div>"
      ],
      "text/plain": [
       "                     Model  Precision_score\n",
       "2         AR_decision_tree         0.819549\n",
       "2        RAW_decision_tree         0.816176\n",
       "3    RAW_gradient_boosting         0.813333\n",
       "3     AR_gradient_boosting         0.796053\n",
       "1  RAW_logistic_regression         0.786667\n",
       "1   AR_logistic_regression         0.784314\n",
       "0        RAW_random_forest         0.743169\n",
       "0         AR_random_forest         0.736559"
      ]
     },
     "execution_count": 1769,
     "metadata": {},
     "output_type": "execute_result"
    }
   ],
   "source": [
    "Final_result[['Model', 'Precision_score']].sort_values(by=['Precision_score'], ascending=False)"
   ]
  },
  {
   "cell_type": "markdown",
   "metadata": {},
   "source": [
    "### 3) Recall"
   ]
  },
  {
   "cell_type": "code",
   "execution_count": 1770,
   "metadata": {},
   "outputs": [
    {
     "data": {
      "text/html": [
       "<div>\n",
       "<style scoped>\n",
       "    .dataframe tbody tr th:only-of-type {\n",
       "        vertical-align: middle;\n",
       "    }\n",
       "\n",
       "    .dataframe tbody tr th {\n",
       "        vertical-align: top;\n",
       "    }\n",
       "\n",
       "    .dataframe thead th {\n",
       "        text-align: right;\n",
       "    }\n",
       "</style>\n",
       "<table border=\"1\" class=\"dataframe\">\n",
       "  <thead>\n",
       "    <tr style=\"text-align: right;\">\n",
       "      <th></th>\n",
       "      <th>Model</th>\n",
       "      <th>Recall_score</th>\n",
       "    </tr>\n",
       "  </thead>\n",
       "  <tbody>\n",
       "    <tr>\n",
       "      <th>0</th>\n",
       "      <td>AR_random_forest</td>\n",
       "      <td>0.958042</td>\n",
       "    </tr>\n",
       "    <tr>\n",
       "      <th>0</th>\n",
       "      <td>RAW_random_forest</td>\n",
       "      <td>0.951049</td>\n",
       "    </tr>\n",
       "    <tr>\n",
       "      <th>3</th>\n",
       "      <td>RAW_gradient_boosting</td>\n",
       "      <td>0.853147</td>\n",
       "    </tr>\n",
       "    <tr>\n",
       "      <th>3</th>\n",
       "      <td>AR_gradient_boosting</td>\n",
       "      <td>0.846154</td>\n",
       "    </tr>\n",
       "    <tr>\n",
       "      <th>1</th>\n",
       "      <td>AR_logistic_regression</td>\n",
       "      <td>0.839161</td>\n",
       "    </tr>\n",
       "    <tr>\n",
       "      <th>1</th>\n",
       "      <td>RAW_logistic_regression</td>\n",
       "      <td>0.825175</td>\n",
       "    </tr>\n",
       "    <tr>\n",
       "      <th>2</th>\n",
       "      <td>RAW_decision_tree</td>\n",
       "      <td>0.776224</td>\n",
       "    </tr>\n",
       "    <tr>\n",
       "      <th>2</th>\n",
       "      <td>AR_decision_tree</td>\n",
       "      <td>0.762238</td>\n",
       "    </tr>\n",
       "  </tbody>\n",
       "</table>\n",
       "</div>"
      ],
      "text/plain": [
       "                     Model  Recall_score\n",
       "0         AR_random_forest      0.958042\n",
       "0        RAW_random_forest      0.951049\n",
       "3    RAW_gradient_boosting      0.853147\n",
       "3     AR_gradient_boosting      0.846154\n",
       "1   AR_logistic_regression      0.839161\n",
       "1  RAW_logistic_regression      0.825175\n",
       "2        RAW_decision_tree      0.776224\n",
       "2         AR_decision_tree      0.762238"
      ]
     },
     "execution_count": 1770,
     "metadata": {},
     "output_type": "execute_result"
    }
   ],
   "source": [
    "Final_result[['Model', 'Recall_score']].sort_values(by=['Recall_score'], ascending=False)"
   ]
  },
  {
   "cell_type": "markdown",
   "metadata": {},
   "source": [
    "### 4) Weighted Average Precision and Recall"
   ]
  },
  {
   "cell_type": "code",
   "execution_count": 1771,
   "metadata": {},
   "outputs": [
    {
     "data": {
      "text/html": [
       "<div>\n",
       "<style scoped>\n",
       "    .dataframe tbody tr th:only-of-type {\n",
       "        vertical-align: middle;\n",
       "    }\n",
       "\n",
       "    .dataframe tbody tr th {\n",
       "        vertical-align: top;\n",
       "    }\n",
       "\n",
       "    .dataframe thead th {\n",
       "        text-align: right;\n",
       "    }\n",
       "</style>\n",
       "<table border=\"1\" class=\"dataframe\">\n",
       "  <thead>\n",
       "    <tr style=\"text-align: right;\">\n",
       "      <th></th>\n",
       "      <th>Model</th>\n",
       "      <th>F1_score</th>\n",
       "    </tr>\n",
       "  </thead>\n",
       "  <tbody>\n",
       "    <tr>\n",
       "      <th>0</th>\n",
       "      <td>RAW_random_forest</td>\n",
       "      <td>0.834356</td>\n",
       "    </tr>\n",
       "    <tr>\n",
       "      <th>0</th>\n",
       "      <td>AR_random_forest</td>\n",
       "      <td>0.832827</td>\n",
       "    </tr>\n",
       "    <tr>\n",
       "      <th>3</th>\n",
       "      <td>RAW_gradient_boosting</td>\n",
       "      <td>0.832765</td>\n",
       "    </tr>\n",
       "    <tr>\n",
       "      <th>3</th>\n",
       "      <td>AR_gradient_boosting</td>\n",
       "      <td>0.820339</td>\n",
       "    </tr>\n",
       "    <tr>\n",
       "      <th>1</th>\n",
       "      <td>AR_logistic_regression</td>\n",
       "      <td>0.810811</td>\n",
       "    </tr>\n",
       "    <tr>\n",
       "      <th>1</th>\n",
       "      <td>RAW_logistic_regression</td>\n",
       "      <td>0.805461</td>\n",
       "    </tr>\n",
       "    <tr>\n",
       "      <th>2</th>\n",
       "      <td>RAW_decision_tree</td>\n",
       "      <td>0.795699</td>\n",
       "    </tr>\n",
       "    <tr>\n",
       "      <th>2</th>\n",
       "      <td>AR_decision_tree</td>\n",
       "      <td>0.789855</td>\n",
       "    </tr>\n",
       "  </tbody>\n",
       "</table>\n",
       "</div>"
      ],
      "text/plain": [
       "                     Model  F1_score\n",
       "0        RAW_random_forest  0.834356\n",
       "0         AR_random_forest  0.832827\n",
       "3    RAW_gradient_boosting  0.832765\n",
       "3     AR_gradient_boosting  0.820339\n",
       "1   AR_logistic_regression  0.810811\n",
       "1  RAW_logistic_regression  0.805461\n",
       "2        RAW_decision_tree  0.795699\n",
       "2         AR_decision_tree  0.789855"
      ]
     },
     "execution_count": 1771,
     "metadata": {},
     "output_type": "execute_result"
    }
   ],
   "source": [
    "Final_result[['Model', 'F1_score']].sort_values(by=['F1_score'], ascending=False)"
   ]
  },
  {
   "cell_type": "markdown",
   "metadata": {},
   "source": [
    "### 5) Cross Validation ( 5 folds )"
   ]
  },
  {
   "cell_type": "code",
   "execution_count": 1772,
   "metadata": {},
   "outputs": [
    {
     "data": {
      "text/html": [
       "<div>\n",
       "<style scoped>\n",
       "    .dataframe tbody tr th:only-of-type {\n",
       "        vertical-align: middle;\n",
       "    }\n",
       "\n",
       "    .dataframe tbody tr th {\n",
       "        vertical-align: top;\n",
       "    }\n",
       "\n",
       "    .dataframe thead th {\n",
       "        text-align: right;\n",
       "    }\n",
       "</style>\n",
       "<table border=\"1\" class=\"dataframe\">\n",
       "  <thead>\n",
       "    <tr style=\"text-align: right;\">\n",
       "      <th></th>\n",
       "      <th>Model</th>\n",
       "      <th>CV(5)</th>\n",
       "    </tr>\n",
       "  </thead>\n",
       "  <tbody>\n",
       "    <tr>\n",
       "      <th>3</th>\n",
       "      <td>AR_gradient_boosting</td>\n",
       "      <td>0.756734</td>\n",
       "    </tr>\n",
       "    <tr>\n",
       "      <th>3</th>\n",
       "      <td>RAW_gradient_boosting</td>\n",
       "      <td>0.755719</td>\n",
       "    </tr>\n",
       "    <tr>\n",
       "      <th>1</th>\n",
       "      <td>RAW_logistic_regression</td>\n",
       "      <td>0.753714</td>\n",
       "    </tr>\n",
       "    <tr>\n",
       "      <th>1</th>\n",
       "      <td>AR_logistic_regression</td>\n",
       "      <td>0.752698</td>\n",
       "    </tr>\n",
       "    <tr>\n",
       "      <th>0</th>\n",
       "      <td>AR_random_forest</td>\n",
       "      <td>0.735709</td>\n",
       "    </tr>\n",
       "    <tr>\n",
       "      <th>0</th>\n",
       "      <td>RAW_random_forest</td>\n",
       "      <td>0.728719</td>\n",
       "    </tr>\n",
       "    <tr>\n",
       "      <th>2</th>\n",
       "      <td>AR_decision_tree</td>\n",
       "      <td>0.693709</td>\n",
       "    </tr>\n",
       "    <tr>\n",
       "      <th>2</th>\n",
       "      <td>RAW_decision_tree</td>\n",
       "      <td>0.687678</td>\n",
       "    </tr>\n",
       "  </tbody>\n",
       "</table>\n",
       "</div>"
      ],
      "text/plain": [
       "                     Model     CV(5)\n",
       "3     AR_gradient_boosting  0.756734\n",
       "3    RAW_gradient_boosting  0.755719\n",
       "1  RAW_logistic_regression  0.753714\n",
       "1   AR_logistic_regression  0.752698\n",
       "0         AR_random_forest  0.735709\n",
       "0        RAW_random_forest  0.728719\n",
       "2         AR_decision_tree  0.693709\n",
       "2        RAW_decision_tree  0.687678"
      ]
     },
     "execution_count": 1772,
     "metadata": {},
     "output_type": "execute_result"
    }
   ],
   "source": [
    "Final_result[['Model', 'CV(5)']].sort_values(by=['CV(5)'], ascending=False)"
   ]
  },
  {
   "cell_type": "markdown",
   "metadata": {},
   "source": [
    "## Evaluation Notes\n",
    "- Datas With some feature selection from Analysis result does not give much difference with raw datas\n",
    "- Gradient Boosting gives best accuracy with 75%\n",
    "- In terms Of Precision Decision tree gives the best score with almost 82%\n",
    "- In terms of Recall Random Forest giving really good result with 95%\n",
    "- The F1 Score have random forest as the best score with 83% (because the recall is really high)\n",
    "- In terms of cross validation, where it should give better evaluation cause it iterrates over all datas, Gradient Boosting give highest score with 75%\n",
    "\n",
    "### Which one is the best suitable model for this case?\n",
    "In this case, where a bank have to predict whether the customer is creditworthy or not it is more crucial to predict the right classification, which means have as many True Positive from all prediction (precision) is more important than predict True Positive from all actual Positive (recall). Because the bank will have problem with the customer if it predict the wrong classification. But does not mean we will neglect recall at all. So to choose the best model I will look from the F score but give more weighting to the precision score.\n"
   ]
  },
  {
   "cell_type": "markdown",
   "metadata": {},
   "source": [
    "### Weighted average biased to precision"
   ]
  },
  {
   "cell_type": "code",
   "execution_count": 1773,
   "metadata": {},
   "outputs": [
    {
     "data": {
      "text/html": [
       "<div>\n",
       "<style scoped>\n",
       "    .dataframe tbody tr th:only-of-type {\n",
       "        vertical-align: middle;\n",
       "    }\n",
       "\n",
       "    .dataframe tbody tr th {\n",
       "        vertical-align: top;\n",
       "    }\n",
       "\n",
       "    .dataframe thead th {\n",
       "        text-align: right;\n",
       "    }\n",
       "</style>\n",
       "<table border=\"1\" class=\"dataframe\">\n",
       "  <thead>\n",
       "    <tr style=\"text-align: right;\">\n",
       "      <th></th>\n",
       "      <th>Model</th>\n",
       "      <th>Fbeta_score</th>\n",
       "    </tr>\n",
       "  </thead>\n",
       "  <tbody>\n",
       "    <tr>\n",
       "      <th>3</th>\n",
       "      <td>RAW_gradient_boosting</td>\n",
       "      <td>0.820996</td>\n",
       "    </tr>\n",
       "    <tr>\n",
       "      <th>2</th>\n",
       "      <td>RAW_decision_tree</td>\n",
       "      <td>0.807860</td>\n",
       "    </tr>\n",
       "    <tr>\n",
       "      <th>2</th>\n",
       "      <td>AR_decision_tree</td>\n",
       "      <td>0.807407</td>\n",
       "    </tr>\n",
       "    <tr>\n",
       "      <th>3</th>\n",
       "      <td>AR_gradient_boosting</td>\n",
       "      <td>0.805593</td>\n",
       "    </tr>\n",
       "    <tr>\n",
       "      <th>1</th>\n",
       "      <td>AR_logistic_regression</td>\n",
       "      <td>0.794702</td>\n",
       "    </tr>\n",
       "    <tr>\n",
       "      <th>1</th>\n",
       "      <td>RAW_logistic_regression</td>\n",
       "      <td>0.794078</td>\n",
       "    </tr>\n",
       "    <tr>\n",
       "      <th>0</th>\n",
       "      <td>RAW_random_forest</td>\n",
       "      <td>0.777143</td>\n",
       "    </tr>\n",
       "    <tr>\n",
       "      <th>0</th>\n",
       "      <td>AR_random_forest</td>\n",
       "      <td>0.772266</td>\n",
       "    </tr>\n",
       "  </tbody>\n",
       "</table>\n",
       "</div>"
      ],
      "text/plain": [
       "                     Model  Fbeta_score\n",
       "3    RAW_gradient_boosting     0.820996\n",
       "2        RAW_decision_tree     0.807860\n",
       "2         AR_decision_tree     0.807407\n",
       "3     AR_gradient_boosting     0.805593\n",
       "1   AR_logistic_regression     0.794702\n",
       "1  RAW_logistic_regression     0.794078\n",
       "0        RAW_random_forest     0.777143\n",
       "0         AR_random_forest     0.772266"
      ]
     },
     "execution_count": 1773,
     "metadata": {},
     "output_type": "execute_result"
    }
   ],
   "source": [
    "Final_result[['Model', 'Fbeta_score']].sort_values(by=['Fbeta_score'], ascending=False)"
   ]
  },
  {
   "cell_type": "markdown",
   "metadata": {},
   "source": [
    "From Above Result, the best Model for this case would be Gradient Boosting"
   ]
  },
  {
   "cell_type": "markdown",
   "metadata": {},
   "source": [
    "# Thank You"
   ]
  }
 ],
 "metadata": {
  "kernelspec": {
   "display_name": "Python 3",
   "language": "python",
   "name": "python3"
  },
  "language_info": {
   "codemirror_mode": {
    "name": "ipython",
    "version": 3
   },
   "file_extension": ".py",
   "mimetype": "text/x-python",
   "name": "python",
   "nbconvert_exporter": "python",
   "pygments_lexer": "ipython3",
   "version": "3.7.0"
  }
 },
 "nbformat": 4,
 "nbformat_minor": 2
}
